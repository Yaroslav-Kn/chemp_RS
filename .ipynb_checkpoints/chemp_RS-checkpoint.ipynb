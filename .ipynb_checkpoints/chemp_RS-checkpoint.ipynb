{
 "cells": [
  {
   "cell_type": "markdown",
   "id": "7ab38279",
   "metadata": {},
   "source": [
    "# Чемпионат республика Саха (цифровой прорыв 2022)"
   ]
  },
  {
   "cell_type": "markdown",
   "id": "6d66b377",
   "metadata": {},
   "source": [
    "<b> Разработка алгоритма по прогнозированию карьерной траектории сотрудника</b>\n",
    "\n",
    "Технологии искусственного интеллекта трансформируют сферу управления персоналом, позволяя решать практические HR-задачи. Уже сейчас умные алгоритмы могут подобрать кадры, спланировать размер фонда заработной платы, выбрать образовательные курсы, оценить мотивацию, эффективность труда и даже спрогнозировать карьерное развитие специалиста.\n",
    "\n",
    "Аналитика по определению карьерной траектории строится, в том числе, на основе данных по использованию различных корпоративных информационных систем (система мониторинга рабочего времени, сервисы видеоконференции связи, IP-телефонии, СЭД, СКУД, электронная почта). Таким образом, для некоторых профессий, связанных с активным использованием электронных устройств (программист, бухгалтер, маркетолог и т.д.), можно выделить цифровой профиль успешных специалистов, выполняющих задачи своевременно и качественно и получающих новые должности.\n",
    "\n",
    "На основе совокупности информации о кадровых назначениях, активности и вовлеченности сотрудников в производственный процесс, требуется разработать алгоритм по прогнозу изменений должности работников.\n",
    "\n",
    "В качестве метрики выбрана recall"
   ]
  },
  {
   "cell_type": "code",
   "execution_count": 1,
   "id": "c3d7f9c6",
   "metadata": {},
   "outputs": [],
   "source": [
    "import pandas as pd\n",
    "import numpy as np\n",
    "import matplotlib.pyplot as plt\n",
    "import seaborn as sns\n",
    "from sklearn.model_selection import train_test_split, RandomizedSearchCV, GridSearchCV, cross_val_score\n",
    "from datetime import timedelta\n",
    "import datetime as dt\n",
    "from tqdm.notebook import tqdm\n",
    "from tqdm import tqdm\n",
    "from sklearn.utils import shuffle\n",
    "from sklearn.preprocessing import StandardScaler\n",
    "from sklearn.ensemble import RandomForestClassifier, ExtraTreesClassifier, VotingClassifier\n",
    "from sklearn.linear_model import SGDClassifier\n",
    "from sklearn.svm import SVC\n",
    "from sklearn.metrics import recall_score\n",
    "from catboost import CatBoostClassifier\n"
   ]
  },
  {
   "cell_type": "code",
   "execution_count": 2,
   "id": "530367f4",
   "metadata": {},
   "outputs": [],
   "source": [
    "tqdm.pandas()"
   ]
  },
  {
   "cell_type": "markdown",
   "id": "718fa36e",
   "metadata": {},
   "source": [
    "## Предвариетльный анализ данных"
   ]
  },
  {
   "cell_type": "markdown",
   "id": "2fc0dd55",
   "metadata": {},
   "source": [
    "Откроем датасет с тренировочными данными и проанализируем их"
   ]
  },
  {
   "cell_type": "code",
   "execution_count": 3,
   "id": "ed943d79",
   "metadata": {},
   "outputs": [
    {
     "data": {
      "text/html": [
       "<div>\n",
       "<style scoped>\n",
       "    .dataframe tbody tr th:only-of-type {\n",
       "        vertical-align: middle;\n",
       "    }\n",
       "\n",
       "    .dataframe tbody tr th {\n",
       "        vertical-align: top;\n",
       "    }\n",
       "\n",
       "    .dataframe thead th {\n",
       "        text-align: right;\n",
       "    }\n",
       "</style>\n",
       "<table border=\"1\" class=\"dataframe\">\n",
       "  <thead>\n",
       "    <tr style=\"text-align: right;\">\n",
       "      <th></th>\n",
       "      <th>id</th>\n",
       "      <th>type</th>\n",
       "    </tr>\n",
       "  </thead>\n",
       "  <tbody>\n",
       "    <tr>\n",
       "      <th>0</th>\n",
       "      <td>ОРГ1-02050</td>\n",
       "      <td>2</td>\n",
       "    </tr>\n",
       "    <tr>\n",
       "      <th>1</th>\n",
       "      <td>ОРГ1-02783</td>\n",
       "      <td>2</td>\n",
       "    </tr>\n",
       "    <tr>\n",
       "      <th>2</th>\n",
       "      <td>ОРГ2-06173</td>\n",
       "      <td>0</td>\n",
       "    </tr>\n",
       "    <tr>\n",
       "      <th>3</th>\n",
       "      <td>ОРГ2-05359</td>\n",
       "      <td>2</td>\n",
       "    </tr>\n",
       "    <tr>\n",
       "      <th>4</th>\n",
       "      <td>ОРГ1-00803</td>\n",
       "      <td>2</td>\n",
       "    </tr>\n",
       "    <tr>\n",
       "      <th>...</th>\n",
       "      <td>...</td>\n",
       "      <td>...</td>\n",
       "    </tr>\n",
       "    <tr>\n",
       "      <th>545</th>\n",
       "      <td>ОРГ1-02587</td>\n",
       "      <td>2</td>\n",
       "    </tr>\n",
       "    <tr>\n",
       "      <th>546</th>\n",
       "      <td>ОРГ1-02383</td>\n",
       "      <td>2</td>\n",
       "    </tr>\n",
       "    <tr>\n",
       "      <th>547</th>\n",
       "      <td>ОРГ1-02862</td>\n",
       "      <td>2</td>\n",
       "    </tr>\n",
       "    <tr>\n",
       "      <th>548</th>\n",
       "      <td>ОРГ1-00471</td>\n",
       "      <td>2</td>\n",
       "    </tr>\n",
       "    <tr>\n",
       "      <th>549</th>\n",
       "      <td>ОРГ2-02694</td>\n",
       "      <td>2</td>\n",
       "    </tr>\n",
       "  </tbody>\n",
       "</table>\n",
       "<p>550 rows × 2 columns</p>\n",
       "</div>"
      ],
      "text/plain": [
       "             id  type\n",
       "0    ОРГ1-02050     2\n",
       "1    ОРГ1-02783     2\n",
       "2    ОРГ2-06173     0\n",
       "3    ОРГ2-05359     2\n",
       "4    ОРГ1-00803     2\n",
       "..          ...   ...\n",
       "545  ОРГ1-02587     2\n",
       "546  ОРГ1-02383     2\n",
       "547  ОРГ1-02862     2\n",
       "548  ОРГ1-00471     2\n",
       "549  ОРГ2-02694     2\n",
       "\n",
       "[550 rows x 2 columns]"
      ]
     },
     "execution_count": 3,
     "metadata": {},
     "output_type": "execute_result"
    }
   ],
   "source": [
    "df_data = pd.read_csv('train_dataset_train.csv')\n",
    "df_data"
   ]
  },
  {
   "cell_type": "code",
   "execution_count": 4,
   "id": "53737fba",
   "metadata": {},
   "outputs": [
    {
     "data": {
      "image/png": "[encoded data removed]",
      "text/plain": [
       "<Figure size 576x432 with 1 Axes>"
      ]
     },
     "metadata": {
      "needs_background": "light"
     },
     "output_type": "display_data"
    }
   ],
   "source": [
    "plt.figure(figsize=(8, 6))\n",
    "sns.countplot(x='type', data=df_data)\n",
    "plt.title('Распределение типов повышения сотрудников в первоначальном датасете')\n",
    "plt.xlabel('Тип повышения')\n",
    "plt.ylabel('Количество сотрудников')\n",
    "plt.show()"
   ]
  },
  {
   "cell_type": "code",
   "execution_count": 5,
   "id": "eecf3e82",
   "metadata": {},
   "outputs": [
    {
     "data": {
      "text/plain": [
       "2    298\n",
       "0    153\n",
       "1     74\n",
       "3     25\n",
       "Name: type, dtype: int64"
      ]
     },
     "execution_count": 5,
     "metadata": {},
     "output_type": "execute_result"
    }
   ],
   "source": [
    "df_data['type'].value_counts()"
   ]
  },
  {
   "cell_type": "markdown",
   "id": "57d2a563",
   "metadata": {},
   "source": [
    "Данные в датасете распределны неравномерно. Элементов 3 категории очень мало и для корреткного обучения модели нужно будет указывать веса, чтобы модели обучились корректно."
   ]
  },
  {
   "cell_type": "markdown",
   "id": "aff6c452",
   "metadata": {},
   "source": [
    "Выделим тренировочный и тестовый датасет, после чего в тестовом увеисчим количество просевших таргетов"
   ]
  },
  {
   "cell_type": "code",
   "execution_count": 6,
   "id": "9ffd1fd2",
   "metadata": {},
   "outputs": [],
   "source": [
    "df_train, df_test = train_test_split(df_data,\n",
    "                                     random_state=999,\n",
    "                                     test_size=0.2,\n",
    "                                     stratify=df_data['type'])"
   ]
  },
  {
   "cell_type": "markdown",
   "id": "edd31437",
   "metadata": {},
   "source": [
    "Посмотрим финальный датасет."
   ]
  },
  {
   "cell_type": "code",
   "execution_count": 7,
   "id": "b7eb5ec4",
   "metadata": {},
   "outputs": [
    {
     "data": {
      "text/html": [
       "<div>\n",
       "<style scoped>\n",
       "    .dataframe tbody tr th:only-of-type {\n",
       "        vertical-align: middle;\n",
       "    }\n",
       "\n",
       "    .dataframe tbody tr th {\n",
       "        vertical-align: top;\n",
       "    }\n",
       "\n",
       "    .dataframe thead th {\n",
       "        text-align: right;\n",
       "    }\n",
       "</style>\n",
       "<table border=\"1\" class=\"dataframe\">\n",
       "  <thead>\n",
       "    <tr style=\"text-align: right;\">\n",
       "      <th></th>\n",
       "      <th>id</th>\n",
       "      <th>type</th>\n",
       "    </tr>\n",
       "  </thead>\n",
       "  <tbody>\n",
       "    <tr>\n",
       "      <th>0</th>\n",
       "      <td>ОРГ1-02649</td>\n",
       "      <td>0</td>\n",
       "    </tr>\n",
       "    <tr>\n",
       "      <th>1</th>\n",
       "      <td>ОРГ2-05929</td>\n",
       "      <td>0</td>\n",
       "    </tr>\n",
       "    <tr>\n",
       "      <th>2</th>\n",
       "      <td>ОРГ2-05859</td>\n",
       "      <td>0</td>\n",
       "    </tr>\n",
       "    <tr>\n",
       "      <th>3</th>\n",
       "      <td>ОРГ1-00279</td>\n",
       "      <td>0</td>\n",
       "    </tr>\n",
       "    <tr>\n",
       "      <th>4</th>\n",
       "      <td>ОРГ2-01613</td>\n",
       "      <td>0</td>\n",
       "    </tr>\n",
       "    <tr>\n",
       "      <th>...</th>\n",
       "      <td>...</td>\n",
       "      <td>...</td>\n",
       "    </tr>\n",
       "    <tr>\n",
       "      <th>257</th>\n",
       "      <td>ОРГ1-02893</td>\n",
       "      <td>0</td>\n",
       "    </tr>\n",
       "    <tr>\n",
       "      <th>258</th>\n",
       "      <td>ОРГ2-01077</td>\n",
       "      <td>0</td>\n",
       "    </tr>\n",
       "    <tr>\n",
       "      <th>259</th>\n",
       "      <td>ОРГ1-00469</td>\n",
       "      <td>0</td>\n",
       "    </tr>\n",
       "    <tr>\n",
       "      <th>260</th>\n",
       "      <td>ОРГ1-02060</td>\n",
       "      <td>0</td>\n",
       "    </tr>\n",
       "    <tr>\n",
       "      <th>261</th>\n",
       "      <td>ОРГ2-05042</td>\n",
       "      <td>0</td>\n",
       "    </tr>\n",
       "  </tbody>\n",
       "</table>\n",
       "<p>262 rows × 2 columns</p>\n",
       "</div>"
      ],
      "text/plain": [
       "             id  type\n",
       "0    ОРГ1-02649     0\n",
       "1    ОРГ2-05929     0\n",
       "2    ОРГ2-05859     0\n",
       "3    ОРГ1-00279     0\n",
       "4    ОРГ2-01613     0\n",
       "..          ...   ...\n",
       "257  ОРГ1-02893     0\n",
       "258  ОРГ2-01077     0\n",
       "259  ОРГ1-00469     0\n",
       "260  ОРГ1-02060     0\n",
       "261  ОРГ2-05042     0\n",
       "\n",
       "[262 rows x 2 columns]"
      ]
     },
     "execution_count": 7,
     "metadata": {},
     "output_type": "execute_result"
    }
   ],
   "source": [
    "df_final_test = pd.read_csv('test_dataset_test.csv')\n",
    "df_final_test"
   ]
  },
  {
   "cell_type": "markdown",
   "id": "a5d75e54",
   "metadata": {},
   "source": [
    "### Анализ датасета  со звонками"
   ]
  },
  {
   "cell_type": "markdown",
   "id": "e61b7a60",
   "metadata": {},
   "source": [
    "Изучим датасет со звонками сотрудников"
   ]
  },
  {
   "cell_type": "code",
   "execution_count": 8,
   "id": "187b7e62",
   "metadata": {},
   "outputs": [
    {
     "data": {
      "text/html": [
       "<div>\n",
       "<style scoped>\n",
       "    .dataframe tbody tr th:only-of-type {\n",
       "        vertical-align: middle;\n",
       "    }\n",
       "\n",
       "    .dataframe tbody tr th {\n",
       "        vertical-align: top;\n",
       "    }\n",
       "\n",
       "    .dataframe thead th {\n",
       "        text-align: right;\n",
       "    }\n",
       "</style>\n",
       "<table border=\"1\" class=\"dataframe\">\n",
       "  <thead>\n",
       "    <tr style=\"text-align: right;\">\n",
       "      <th></th>\n",
       "      <th>Date</th>\n",
       "      <th>CallTime</th>\n",
       "      <th>NumberOfCalls</th>\n",
       "      <th>Вид учета времени</th>\n",
       "      <th>InOut</th>\n",
       "      <th>id</th>\n",
       "    </tr>\n",
       "  </thead>\n",
       "  <tbody>\n",
       "    <tr>\n",
       "      <th>0</th>\n",
       "      <td>2021-08-16 00:00:00,000</td>\n",
       "      <td>0,00027777777777777778</td>\n",
       "      <td>1</td>\n",
       "      <td>Будни</td>\n",
       "      <td>ToUser</td>\n",
       "      <td>ОРГ1-01945</td>\n",
       "    </tr>\n",
       "    <tr>\n",
       "      <th>1</th>\n",
       "      <td>2021-09-21 00:00:00,000</td>\n",
       "      <td>0,00027777777777777778</td>\n",
       "      <td>1</td>\n",
       "      <td>Будни</td>\n",
       "      <td>ToUser</td>\n",
       "      <td>ОРГ1-01945</td>\n",
       "    </tr>\n",
       "    <tr>\n",
       "      <th>2</th>\n",
       "      <td>2021-01-11 00:00:00,000</td>\n",
       "      <td>0,00027777777777777778</td>\n",
       "      <td>1</td>\n",
       "      <td>Будни</td>\n",
       "      <td>ToUser</td>\n",
       "      <td>ОРГ1-01945</td>\n",
       "    </tr>\n",
       "    <tr>\n",
       "      <th>3</th>\n",
       "      <td>2021-01-18 00:00:00,000</td>\n",
       "      <td>0,00027777777777777778</td>\n",
       "      <td>1</td>\n",
       "      <td>Будни</td>\n",
       "      <td>ToUser</td>\n",
       "      <td>ОРГ1-01945</td>\n",
       "    </tr>\n",
       "    <tr>\n",
       "      <th>4</th>\n",
       "      <td>2021-01-27 00:00:00,000</td>\n",
       "      <td>0,00027777777777777778</td>\n",
       "      <td>1</td>\n",
       "      <td>Будни</td>\n",
       "      <td>ToUser</td>\n",
       "      <td>ОРГ1-01945</td>\n",
       "    </tr>\n",
       "  </tbody>\n",
       "</table>\n",
       "</div>"
      ],
      "text/plain": [
       "                      Date                CallTime  NumberOfCalls  \\\n",
       "0  2021-08-16 00:00:00,000  0,00027777777777777778              1   \n",
       "1  2021-09-21 00:00:00,000  0,00027777777777777778              1   \n",
       "2  2021-01-11 00:00:00,000  0,00027777777777777778              1   \n",
       "3  2021-01-18 00:00:00,000  0,00027777777777777778              1   \n",
       "4  2021-01-27 00:00:00,000  0,00027777777777777778              1   \n",
       "\n",
       "  Вид учета времени   InOut          id  \n",
       "0             Будни  ToUser  ОРГ1-01945  \n",
       "1             Будни  ToUser  ОРГ1-01945  \n",
       "2             Будни  ToUser  ОРГ1-01945  \n",
       "3             Будни  ToUser  ОРГ1-01945  \n",
       "4             Будни  ToUser  ОРГ1-01945  "
      ]
     },
     "execution_count": 8,
     "metadata": {},
     "output_type": "execute_result"
    }
   ],
   "source": [
    "df_calls = pd.read_csv('Calls.csv')\n",
    "df_calls.head(5)"
   ]
  },
  {
   "cell_type": "markdown",
   "id": "af03aa58",
   "metadata": {},
   "source": [
    "Переименуем столбец с видом учетом времени в type_of_day"
   ]
  },
  {
   "cell_type": "code",
   "execution_count": 9,
   "id": "c8cb4e34",
   "metadata": {},
   "outputs": [],
   "source": [
    "df_calls = df_calls.rename(columns={'Вид учета времени': 'type_of_day'})"
   ]
  },
  {
   "cell_type": "markdown",
   "id": "c305dbfa",
   "metadata": {},
   "source": [
    "Выведем информацию по датасету"
   ]
  },
  {
   "cell_type": "code",
   "execution_count": 10,
   "id": "af9dde11",
   "metadata": {},
   "outputs": [
    {
     "name": "stdout",
     "output_type": "stream",
     "text": [
      "<class 'pandas.core.frame.DataFrame'>\n",
      "RangeIndex: 407867 entries, 0 to 407866\n",
      "Data columns (total 6 columns):\n",
      " #   Column         Non-Null Count   Dtype \n",
      "---  ------         --------------   ----- \n",
      " 0   Date           407867 non-null  object\n",
      " 1   CallTime       407867 non-null  object\n",
      " 2   NumberOfCalls  407867 non-null  int64 \n",
      " 3   type_of_day    392655 non-null  object\n",
      " 4   InOut          407867 non-null  object\n",
      " 5   id             407867 non-null  object\n",
      "dtypes: int64(1), object(5)\n",
      "memory usage: 18.7+ MB\n"
     ]
    }
   ],
   "source": [
    "df_calls.info()"
   ]
  },
  {
   "cell_type": "markdown",
   "id": "5cf1c609",
   "metadata": {},
   "source": [
    "Нкжно привести в порядок типы столбцов в датасете (дата и время звонка). При этом у времени звонка нужно ещё  заменить десятичную запятую на точку."
   ]
  },
  {
   "cell_type": "code",
   "execution_count": 11,
   "id": "a34828b8",
   "metadata": {},
   "outputs": [],
   "source": [
    "df_calls['Date'] = pd.to_datetime(df_calls['Date'])\n",
    "df_calls['CallTime'] = df_calls['CallTime'].str.replace(',', '.')\n",
    "df_calls['CallTime'] = df_calls['CallTime'].astype('float')"
   ]
  },
  {
   "cell_type": "code",
   "execution_count": 12,
   "id": "6491e2be",
   "metadata": {
    "scrolled": true
   },
   "outputs": [
    {
     "name": "stdout",
     "output_type": "stream",
     "text": [
      "<class 'pandas.core.frame.DataFrame'>\n",
      "RangeIndex: 407867 entries, 0 to 407866\n",
      "Data columns (total 6 columns):\n",
      " #   Column         Non-Null Count   Dtype         \n",
      "---  ------         --------------   -----         \n",
      " 0   Date           407867 non-null  datetime64[ns]\n",
      " 1   CallTime       407867 non-null  float64       \n",
      " 2   NumberOfCalls  407867 non-null  int64         \n",
      " 3   type_of_day    392655 non-null  object        \n",
      " 4   InOut          407867 non-null  object        \n",
      " 5   id             407867 non-null  object        \n",
      "dtypes: datetime64[ns](1), float64(1), int64(1), object(3)\n",
      "memory usage: 18.7+ MB\n"
     ]
    }
   ],
   "source": [
    "df_calls.info()"
   ]
  },
  {
   "cell_type": "markdown",
   "id": "9827bde0",
   "metadata": {},
   "source": [
    "Проверим количество записей с пропусками"
   ]
  },
  {
   "cell_type": "code",
   "execution_count": 13,
   "id": "f0f47842",
   "metadata": {},
   "outputs": [
    {
     "data": {
      "text/plain": [
       "Date                 0\n",
       "CallTime             0\n",
       "NumberOfCalls        0\n",
       "type_of_day      15212\n",
       "InOut                0\n",
       "id                   0\n",
       "dtype: int64"
      ]
     },
     "execution_count": 13,
     "metadata": {},
     "output_type": "execute_result"
    }
   ],
   "source": [
    "df_calls.isna().sum()"
   ]
  },
  {
   "cell_type": "markdown",
   "id": "33abb82d",
   "metadata": {},
   "source": [
    "Есть пропуски в столбце type_of_day их можно заполнить исходя из даты"
   ]
  },
  {
   "cell_type": "code",
   "execution_count": 14,
   "id": "c0596551",
   "metadata": {
    "scrolled": true
   },
   "outputs": [],
   "source": [
    "df_calls.loc[df_calls['type_of_day'].isna(), 'type_of_day'] = df_calls.loc[df_calls['type_of_day'].isna(), 'Date'].dt.dayofweek\n",
    "df_calls.loc[(df_calls['type_of_day'].isin([0, 1, 2, 3, 4])), 'type_of_day'] = 'Будни'\n",
    "df_calls.loc[(df_calls['type_of_day'].isin([5, 6])), 'type_of_day'] = 'Выходные дни'"
   ]
  },
  {
   "cell_type": "code",
   "execution_count": 15,
   "id": "556b0d75",
   "metadata": {},
   "outputs": [
    {
     "data": {
      "text/plain": [
       "Будни           399579\n",
       "Выходные дни      8288\n",
       "Name: type_of_day, dtype: int64"
      ]
     },
     "execution_count": 15,
     "metadata": {},
     "output_type": "execute_result"
    }
   ],
   "source": [
    "df_calls['type_of_day'].value_counts()"
   ]
  },
  {
   "cell_type": "markdown",
   "id": "68418dc8",
   "metadata": {},
   "source": [
    "Из данных видно, что большинство звонков совершались в будни. Посмотрим на распределение продолжительности звонков"
   ]
  },
  {
   "cell_type": "code",
   "execution_count": 16,
   "id": "fed116f7",
   "metadata": {},
   "outputs": [
    {
     "data": {
      "text/plain": [
       "<AxesSubplot:>"
      ]
     },
     "execution_count": 16,
     "metadata": {},
     "output_type": "execute_result"
    },
    {
     "data": {
      "image/png": "[encoded data removed]",
      "text/plain": [
       "<Figure size 432x288 with 1 Axes>"
      ]
     },
     "metadata": {
      "needs_background": "light"
     },
     "output_type": "display_data"
    }
   ],
   "source": [
    "df_calls['CallTime'].hist(bins=100)"
   ]
  },
  {
   "cell_type": "markdown",
   "id": "1867d749",
   "metadata": {},
   "source": [
    "Данные сильно зашумлены, поскольку данный столбец имеет продолжительность в часах и совершенно явно можно сказать, что за сутки человек не может разговаривать больше 24 часов (сомнительным уже является значение в 5 часов). Вероятнее всего имеет место выбросы от которых нужно будет почистить датасет. Увеличим зону со звонками в пределах 5 часов."
   ]
  },
  {
   "cell_type": "code",
   "execution_count": 18,
   "id": "cbb3175f",
   "metadata": {},
   "outputs": [
    {
     "data": {
      "image/png": "[encoded data removed]",
      "text/plain": [
       "<Figure size 576x432 with 1 Axes>"
      ]
     },
     "metadata": {
      "needs_background": "light"
     },
     "output_type": "display_data"
    }
   ],
   "source": [
    "plt.figure(figsize=(8, 6))\n",
    "plt.hist(df_calls.loc[df_calls['CallTime']<5,'CallTime'], bins=100)\n",
    "plt.title('Распределение звонков сотрудников')\n",
    "plt.xlabel('Время звонка в часах')\n",
    "plt.ylabel('Количество звонков')\n",
    "plt.grid()\n",
    "plt.show()"
   ]
  },
  {
   "cell_type": "markdown",
   "id": "b4d0ff07",
   "metadata": {},
   "source": [
    "При подобном масштабе видно, что даже разговоры дольше 2 часов крайне редки. Удалим звонки не удовлетворяющие данному требованию."
   ]
  },
  {
   "cell_type": "code",
   "execution_count": 19,
   "id": "f957d7f7",
   "metadata": {},
   "outputs": [],
   "source": [
    "df_calls = df_calls[df_calls['CallTime']<2]"
   ]
  },
  {
   "cell_type": "markdown",
   "id": "4948271b",
   "metadata": {},
   "source": [
    "Проанализируем количество звонков в день"
   ]
  },
  {
   "cell_type": "code",
   "execution_count": 20,
   "id": "5e2061ce",
   "metadata": {},
   "outputs": [
    {
     "data": {
      "image/png": "[encoded data removed]",
      "text/plain": [
       "<Figure size 576x432 with 1 Axes>"
      ]
     },
     "metadata": {
      "needs_background": "light"
     },
     "output_type": "display_data"
    }
   ],
   "source": [
    "plt.figure(figsize=(8, 6))\n",
    "plt.hist(df_calls['NumberOfCalls'], bins=100)\n",
    "plt.title('Распределение количества звонков сотрудников')\n",
    "plt.xlabel('Количество звонков')\n",
    "plt.ylabel('Количество вхождений')\n",
    "plt.grid()\n",
    "plt.show()"
   ]
  },
  {
   "cell_type": "markdown",
   "id": "73a55618",
   "metadata": {},
   "source": [
    "В данному случае также имеются выбросы с количеством звонков в сутки в районе 100. однако по гистограмме видно, что после 38 звонков количество значительно падает. Поэтому удалим строки количеством звонков больше 40"
   ]
  },
  {
   "cell_type": "code",
   "execution_count": 21,
   "id": "e1f0d668",
   "metadata": {},
   "outputs": [],
   "source": [
    "df_calls = df_calls[df_calls['NumberOfCalls']<=40]"
   ]
  },
  {
   "cell_type": "markdown",
   "id": "c29e04ab",
   "metadata": {},
   "source": [
    "Закодируем входящие и исходящие звонки сотруднику"
   ]
  },
  {
   "cell_type": "code",
   "execution_count": 22,
   "id": "6dbf20b4",
   "metadata": {},
   "outputs": [],
   "source": [
    "df_calls = pd.concat([df_calls, pd.get_dummies(df_calls['InOut'])], axis=1)"
   ]
  },
  {
   "cell_type": "code",
   "execution_count": 23,
   "id": "c5c912bc",
   "metadata": {},
   "outputs": [
    {
     "data": {
      "text/html": [
       "<div>\n",
       "<style scoped>\n",
       "    .dataframe tbody tr th:only-of-type {\n",
       "        vertical-align: middle;\n",
       "    }\n",
       "\n",
       "    .dataframe tbody tr th {\n",
       "        vertical-align: top;\n",
       "    }\n",
       "\n",
       "    .dataframe thead th {\n",
       "        text-align: right;\n",
       "    }\n",
       "</style>\n",
       "<table border=\"1\" class=\"dataframe\">\n",
       "  <thead>\n",
       "    <tr style=\"text-align: right;\">\n",
       "      <th></th>\n",
       "      <th>Date</th>\n",
       "      <th>CallTime</th>\n",
       "      <th>NumberOfCalls</th>\n",
       "      <th>type_of_day</th>\n",
       "      <th>InOut</th>\n",
       "      <th>id</th>\n",
       "      <th>FromUser</th>\n",
       "      <th>ToUser</th>\n",
       "    </tr>\n",
       "  </thead>\n",
       "  <tbody>\n",
       "    <tr>\n",
       "      <th>0</th>\n",
       "      <td>2021-08-16</td>\n",
       "      <td>0.000278</td>\n",
       "      <td>1</td>\n",
       "      <td>Будни</td>\n",
       "      <td>ToUser</td>\n",
       "      <td>ОРГ1-01945</td>\n",
       "      <td>0</td>\n",
       "      <td>1</td>\n",
       "    </tr>\n",
       "    <tr>\n",
       "      <th>1</th>\n",
       "      <td>2021-09-21</td>\n",
       "      <td>0.000278</td>\n",
       "      <td>1</td>\n",
       "      <td>Будни</td>\n",
       "      <td>ToUser</td>\n",
       "      <td>ОРГ1-01945</td>\n",
       "      <td>0</td>\n",
       "      <td>1</td>\n",
       "    </tr>\n",
       "    <tr>\n",
       "      <th>2</th>\n",
       "      <td>2021-01-11</td>\n",
       "      <td>0.000278</td>\n",
       "      <td>1</td>\n",
       "      <td>Будни</td>\n",
       "      <td>ToUser</td>\n",
       "      <td>ОРГ1-01945</td>\n",
       "      <td>0</td>\n",
       "      <td>1</td>\n",
       "    </tr>\n",
       "    <tr>\n",
       "      <th>3</th>\n",
       "      <td>2021-01-18</td>\n",
       "      <td>0.000278</td>\n",
       "      <td>1</td>\n",
       "      <td>Будни</td>\n",
       "      <td>ToUser</td>\n",
       "      <td>ОРГ1-01945</td>\n",
       "      <td>0</td>\n",
       "      <td>1</td>\n",
       "    </tr>\n",
       "    <tr>\n",
       "      <th>4</th>\n",
       "      <td>2021-01-27</td>\n",
       "      <td>0.000278</td>\n",
       "      <td>1</td>\n",
       "      <td>Будни</td>\n",
       "      <td>ToUser</td>\n",
       "      <td>ОРГ1-01945</td>\n",
       "      <td>0</td>\n",
       "      <td>1</td>\n",
       "    </tr>\n",
       "    <tr>\n",
       "      <th>...</th>\n",
       "      <td>...</td>\n",
       "      <td>...</td>\n",
       "      <td>...</td>\n",
       "      <td>...</td>\n",
       "      <td>...</td>\n",
       "      <td>...</td>\n",
       "      <td>...</td>\n",
       "      <td>...</td>\n",
       "    </tr>\n",
       "    <tr>\n",
       "      <th>407862</th>\n",
       "      <td>2021-11-02</td>\n",
       "      <td>0.001389</td>\n",
       "      <td>2</td>\n",
       "      <td>Будни</td>\n",
       "      <td>ToUser</td>\n",
       "      <td>ОРГ1-02152</td>\n",
       "      <td>0</td>\n",
       "      <td>1</td>\n",
       "    </tr>\n",
       "    <tr>\n",
       "      <th>407863</th>\n",
       "      <td>2021-11-30</td>\n",
       "      <td>0.001389</td>\n",
       "      <td>2</td>\n",
       "      <td>Будни</td>\n",
       "      <td>ToUser</td>\n",
       "      <td>ОРГ1-01681</td>\n",
       "      <td>0</td>\n",
       "      <td>1</td>\n",
       "    </tr>\n",
       "    <tr>\n",
       "      <th>407864</th>\n",
       "      <td>2021-12-02</td>\n",
       "      <td>0.001389</td>\n",
       "      <td>2</td>\n",
       "      <td>Будни</td>\n",
       "      <td>ToUser</td>\n",
       "      <td>ОРГ1-01945</td>\n",
       "      <td>0</td>\n",
       "      <td>1</td>\n",
       "    </tr>\n",
       "    <tr>\n",
       "      <th>407865</th>\n",
       "      <td>2021-12-15</td>\n",
       "      <td>0.001389</td>\n",
       "      <td>2</td>\n",
       "      <td>Будни</td>\n",
       "      <td>ToUser</td>\n",
       "      <td>ОРГ1-00933</td>\n",
       "      <td>0</td>\n",
       "      <td>1</td>\n",
       "    </tr>\n",
       "    <tr>\n",
       "      <th>407866</th>\n",
       "      <td>2021-12-15</td>\n",
       "      <td>0.001389</td>\n",
       "      <td>2</td>\n",
       "      <td>Будни</td>\n",
       "      <td>ToUser</td>\n",
       "      <td>ОРГ1-00503</td>\n",
       "      <td>0</td>\n",
       "      <td>1</td>\n",
       "    </tr>\n",
       "  </tbody>\n",
       "</table>\n",
       "<p>403594 rows × 8 columns</p>\n",
       "</div>"
      ],
      "text/plain": [
       "             Date  CallTime  NumberOfCalls type_of_day   InOut          id  \\\n",
       "0      2021-08-16  0.000278              1       Будни  ToUser  ОРГ1-01945   \n",
       "1      2021-09-21  0.000278              1       Будни  ToUser  ОРГ1-01945   \n",
       "2      2021-01-11  0.000278              1       Будни  ToUser  ОРГ1-01945   \n",
       "3      2021-01-18  0.000278              1       Будни  ToUser  ОРГ1-01945   \n",
       "4      2021-01-27  0.000278              1       Будни  ToUser  ОРГ1-01945   \n",
       "...           ...       ...            ...         ...     ...         ...   \n",
       "407862 2021-11-02  0.001389              2       Будни  ToUser  ОРГ1-02152   \n",
       "407863 2021-11-30  0.001389              2       Будни  ToUser  ОРГ1-01681   \n",
       "407864 2021-12-02  0.001389              2       Будни  ToUser  ОРГ1-01945   \n",
       "407865 2021-12-15  0.001389              2       Будни  ToUser  ОРГ1-00933   \n",
       "407866 2021-12-15  0.001389              2       Будни  ToUser  ОРГ1-00503   \n",
       "\n",
       "        FromUser  ToUser  \n",
       "0              0       1  \n",
       "1              0       1  \n",
       "2              0       1  \n",
       "3              0       1  \n",
       "4              0       1  \n",
       "...          ...     ...  \n",
       "407862         0       1  \n",
       "407863         0       1  \n",
       "407864         0       1  \n",
       "407865         0       1  \n",
       "407866         0       1  \n",
       "\n",
       "[403594 rows x 8 columns]"
      ]
     },
     "execution_count": 23,
     "metadata": {},
     "output_type": "execute_result"
    }
   ],
   "source": [
    "df_calls"
   ]
  },
  {
   "cell_type": "markdown",
   "id": "91e7e554",
   "metadata": {},
   "source": [
    "Умножим соответствующие столбцы входящих и исходящих звонков, чтобы получить более информативные признаки. "
   ]
  },
  {
   "cell_type": "code",
   "execution_count": 24,
   "id": "93d86bab",
   "metadata": {},
   "outputs": [],
   "source": [
    "df_calls['FromUser'] = df_calls['FromUser'] * df_calls['CallTime'] \n",
    "df_calls['ToUser'] = df_calls['ToUser'] * df_calls['CallTime'] \n",
    "df_calls['FromUser_ratio'] = df_calls['FromUser'] / df_calls['CallTime'] \n",
    "df_calls['ToUser_ratio'] = df_calls['ToUser'] / df_calls['CallTime'] \n",
    "df_calls = df_calls.drop(['CallTime'], axis=1)"
   ]
  },
  {
   "cell_type": "markdown",
   "id": "ae9538d9",
   "metadata": {},
   "source": [
    "Создадим столбцы для определения продолжительности звонков исходящих от работника и входящих к нему. "
   ]
  },
  {
   "cell_type": "markdown",
   "id": "789ede6e",
   "metadata": {},
   "source": [
    "Выделим отдельный датасет для рабочих и для выходных дней"
   ]
  },
  {
   "cell_type": "code",
   "execution_count": 25,
   "id": "c72115da",
   "metadata": {},
   "outputs": [],
   "source": [
    "df_calls_workday = df_calls[df_calls['type_of_day']=='Будни']"
   ]
  },
  {
   "cell_type": "code",
   "execution_count": 26,
   "id": "db2a1e76",
   "metadata": {},
   "outputs": [],
   "source": [
    "df_calls_weekend = df_calls[df_calls['type_of_day']!='Будни']"
   ]
  },
  {
   "cell_type": "markdown",
   "id": "aa818e19",
   "metadata": {},
   "source": [
    "Удалим лишние категориальные столбцы"
   ]
  },
  {
   "cell_type": "code",
   "execution_count": 27,
   "id": "d45b77e5",
   "metadata": {},
   "outputs": [],
   "source": [
    "df_calls_workday = df_calls_workday.drop(['type_of_day', 'InOut'], axis=1)"
   ]
  },
  {
   "cell_type": "code",
   "execution_count": 28,
   "id": "4c8b0317",
   "metadata": {},
   "outputs": [],
   "source": [
    "df_calls_weekend = df_calls_weekend.drop(['type_of_day', 'InOut'], axis=1)"
   ]
  },
  {
   "cell_type": "markdown",
   "id": "7dc08136",
   "metadata": {},
   "source": [
    "Для дальнейшего объединения сгруппируем данные агрегируем порядковые переменные."
   ]
  },
  {
   "cell_type": "markdown",
   "id": "98a0e186",
   "metadata": {},
   "source": [
    "Создадим функцию для переименования сгруппированных столбцо для того, чтобы убрать многоуровневость в именах"
   ]
  },
  {
   "cell_type": "code",
   "execution_count": 29,
   "id": "fde3782c",
   "metadata": {},
   "outputs": [],
   "source": [
    "def get_new_name_columns (df, prefiks=''):\n",
    "    res = []\n",
    "    for column in df.columns:\n",
    "        a, b = column\n",
    "        if len(b)!=0:\n",
    "            res.append(prefiks + a + '_' + b)\n",
    "        else:\n",
    "            if a=='id':\n",
    "                res.append(a)\n",
    "            else:\n",
    "                res.append(prefiks + a)\n",
    "    return res"
   ]
  },
  {
   "cell_type": "markdown",
   "id": "6eafda59",
   "metadata": {},
   "source": [
    "Сгруппируем датасеты по столбцу id, агрегируем их и исправим названия столбцов."
   ]
  },
  {
   "cell_type": "code",
   "execution_count": 30,
   "id": "7eeceb7d",
   "metadata": {},
   "outputs": [],
   "source": [
    "df_calls_workday = df_calls_workday.groupby(['id', 'Date']).agg('sum').reset_index(drop=False)"
   ]
  },
  {
   "cell_type": "code",
   "execution_count": 31,
   "id": "972489c2",
   "metadata": {},
   "outputs": [
    {
     "data": {
      "text/html": [
       "<div>\n",
       "<style scoped>\n",
       "    .dataframe tbody tr th:only-of-type {\n",
       "        vertical-align: middle;\n",
       "    }\n",
       "\n",
       "    .dataframe tbody tr th {\n",
       "        vertical-align: top;\n",
       "    }\n",
       "\n",
       "    .dataframe thead th {\n",
       "        text-align: right;\n",
       "    }\n",
       "</style>\n",
       "<table border=\"1\" class=\"dataframe\">\n",
       "  <thead>\n",
       "    <tr style=\"text-align: right;\">\n",
       "      <th></th>\n",
       "      <th>id</th>\n",
       "      <th>Date</th>\n",
       "      <th>NumberOfCalls</th>\n",
       "      <th>FromUser</th>\n",
       "      <th>ToUser</th>\n",
       "      <th>FromUser_ratio</th>\n",
       "      <th>ToUser_ratio</th>\n",
       "    </tr>\n",
       "  </thead>\n",
       "  <tbody>\n",
       "    <tr>\n",
       "      <th>0</th>\n",
       "      <td>ОРГ1-00004</td>\n",
       "      <td>2021-01-12</td>\n",
       "      <td>7</td>\n",
       "      <td>1.238333</td>\n",
       "      <td>1.610833</td>\n",
       "      <td>2.0</td>\n",
       "      <td>5.0</td>\n",
       "    </tr>\n",
       "    <tr>\n",
       "      <th>1</th>\n",
       "      <td>ОРГ1-00004</td>\n",
       "      <td>2021-02-01</td>\n",
       "      <td>18</td>\n",
       "      <td>0.577222</td>\n",
       "      <td>0.538333</td>\n",
       "      <td>2.0</td>\n",
       "      <td>2.0</td>\n",
       "    </tr>\n",
       "    <tr>\n",
       "      <th>2</th>\n",
       "      <td>ОРГ1-00004</td>\n",
       "      <td>2021-02-02</td>\n",
       "      <td>27</td>\n",
       "      <td>0.921389</td>\n",
       "      <td>0.033056</td>\n",
       "      <td>2.0</td>\n",
       "      <td>1.0</td>\n",
       "    </tr>\n",
       "    <tr>\n",
       "      <th>3</th>\n",
       "      <td>ОРГ1-00004</td>\n",
       "      <td>2021-02-03</td>\n",
       "      <td>13</td>\n",
       "      <td>0.253611</td>\n",
       "      <td>0.182500</td>\n",
       "      <td>2.0</td>\n",
       "      <td>1.0</td>\n",
       "    </tr>\n",
       "    <tr>\n",
       "      <th>4</th>\n",
       "      <td>ОРГ1-00004</td>\n",
       "      <td>2021-02-04</td>\n",
       "      <td>14</td>\n",
       "      <td>0.273056</td>\n",
       "      <td>0.146389</td>\n",
       "      <td>3.0</td>\n",
       "      <td>1.0</td>\n",
       "    </tr>\n",
       "    <tr>\n",
       "      <th>...</th>\n",
       "      <td>...</td>\n",
       "      <td>...</td>\n",
       "      <td>...</td>\n",
       "      <td>...</td>\n",
       "      <td>...</td>\n",
       "      <td>...</td>\n",
       "      <td>...</td>\n",
       "    </tr>\n",
       "    <tr>\n",
       "      <th>136332</th>\n",
       "      <td>ОРГ2-06638</td>\n",
       "      <td>2021-09-30</td>\n",
       "      <td>2</td>\n",
       "      <td>0.047222</td>\n",
       "      <td>0.000000</td>\n",
       "      <td>1.0</td>\n",
       "      <td>0.0</td>\n",
       "    </tr>\n",
       "    <tr>\n",
       "      <th>136333</th>\n",
       "      <td>ОРГ2-06638</td>\n",
       "      <td>2021-10-01</td>\n",
       "      <td>2</td>\n",
       "      <td>0.040278</td>\n",
       "      <td>0.000000</td>\n",
       "      <td>2.0</td>\n",
       "      <td>0.0</td>\n",
       "    </tr>\n",
       "    <tr>\n",
       "      <th>136334</th>\n",
       "      <td>ОРГ2-06638</td>\n",
       "      <td>2021-10-06</td>\n",
       "      <td>3</td>\n",
       "      <td>0.055278</td>\n",
       "      <td>0.000000</td>\n",
       "      <td>2.0</td>\n",
       "      <td>0.0</td>\n",
       "    </tr>\n",
       "    <tr>\n",
       "      <th>136335</th>\n",
       "      <td>ОРГ2-06638</td>\n",
       "      <td>2021-10-07</td>\n",
       "      <td>1</td>\n",
       "      <td>0.001944</td>\n",
       "      <td>0.000000</td>\n",
       "      <td>1.0</td>\n",
       "      <td>0.0</td>\n",
       "    </tr>\n",
       "    <tr>\n",
       "      <th>136336</th>\n",
       "      <td>ОРГ2-06638</td>\n",
       "      <td>2021-10-08</td>\n",
       "      <td>2</td>\n",
       "      <td>0.218611</td>\n",
       "      <td>0.000000</td>\n",
       "      <td>1.0</td>\n",
       "      <td>0.0</td>\n",
       "    </tr>\n",
       "  </tbody>\n",
       "</table>\n",
       "<p>136337 rows × 7 columns</p>\n",
       "</div>"
      ],
      "text/plain": [
       "                id       Date  NumberOfCalls  FromUser    ToUser  \\\n",
       "0       ОРГ1-00004 2021-01-12              7  1.238333  1.610833   \n",
       "1       ОРГ1-00004 2021-02-01             18  0.577222  0.538333   \n",
       "2       ОРГ1-00004 2021-02-02             27  0.921389  0.033056   \n",
       "3       ОРГ1-00004 2021-02-03             13  0.253611  0.182500   \n",
       "4       ОРГ1-00004 2021-02-04             14  0.273056  0.146389   \n",
       "...            ...        ...            ...       ...       ...   \n",
       "136332  ОРГ2-06638 2021-09-30              2  0.047222  0.000000   \n",
       "136333  ОРГ2-06638 2021-10-01              2  0.040278  0.000000   \n",
       "136334  ОРГ2-06638 2021-10-06              3  0.055278  0.000000   \n",
       "136335  ОРГ2-06638 2021-10-07              1  0.001944  0.000000   \n",
       "136336  ОРГ2-06638 2021-10-08              2  0.218611  0.000000   \n",
       "\n",
       "        FromUser_ratio  ToUser_ratio  \n",
       "0                  2.0           5.0  \n",
       "1                  2.0           2.0  \n",
       "2                  2.0           1.0  \n",
       "3                  2.0           1.0  \n",
       "4                  3.0           1.0  \n",
       "...                ...           ...  \n",
       "136332             1.0           0.0  \n",
       "136333             2.0           0.0  \n",
       "136334             2.0           0.0  \n",
       "136335             1.0           0.0  \n",
       "136336             1.0           0.0  \n",
       "\n",
       "[136337 rows x 7 columns]"
      ]
     },
     "execution_count": 31,
     "metadata": {},
     "output_type": "execute_result"
    }
   ],
   "source": [
    "df_calls_workday"
   ]
  },
  {
   "cell_type": "code",
   "execution_count": 32,
   "id": "3a21901c",
   "metadata": {},
   "outputs": [],
   "source": [
    "df_calls_weekend = df_calls_weekend.groupby(['id', 'Date']).agg('sum').reset_index(drop=False)"
   ]
  },
  {
   "cell_type": "code",
   "execution_count": 33,
   "id": "33fccec6",
   "metadata": {},
   "outputs": [
    {
     "data": {
      "text/html": [
       "<div>\n",
       "<style scoped>\n",
       "    .dataframe tbody tr th:only-of-type {\n",
       "        vertical-align: middle;\n",
       "    }\n",
       "\n",
       "    .dataframe tbody tr th {\n",
       "        vertical-align: top;\n",
       "    }\n",
       "\n",
       "    .dataframe thead th {\n",
       "        text-align: right;\n",
       "    }\n",
       "</style>\n",
       "<table border=\"1\" class=\"dataframe\">\n",
       "  <thead>\n",
       "    <tr style=\"text-align: right;\">\n",
       "      <th></th>\n",
       "      <th>id</th>\n",
       "      <th>Date</th>\n",
       "      <th>NumberOfCalls</th>\n",
       "      <th>FromUser</th>\n",
       "      <th>ToUser</th>\n",
       "      <th>FromUser_ratio</th>\n",
       "      <th>ToUser_ratio</th>\n",
       "    </tr>\n",
       "  </thead>\n",
       "  <tbody>\n",
       "    <tr>\n",
       "      <th>0</th>\n",
       "      <td>ОРГ1-00004</td>\n",
       "      <td>2021-01-12</td>\n",
       "      <td>7</td>\n",
       "      <td>1.238333</td>\n",
       "      <td>1.610833</td>\n",
       "      <td>2.0</td>\n",
       "      <td>5.0</td>\n",
       "    </tr>\n",
       "    <tr>\n",
       "      <th>1</th>\n",
       "      <td>ОРГ1-00004</td>\n",
       "      <td>2021-02-01</td>\n",
       "      <td>18</td>\n",
       "      <td>0.577222</td>\n",
       "      <td>0.538333</td>\n",
       "      <td>2.0</td>\n",
       "      <td>2.0</td>\n",
       "    </tr>\n",
       "    <tr>\n",
       "      <th>2</th>\n",
       "      <td>ОРГ1-00004</td>\n",
       "      <td>2021-02-02</td>\n",
       "      <td>27</td>\n",
       "      <td>0.921389</td>\n",
       "      <td>0.033056</td>\n",
       "      <td>2.0</td>\n",
       "      <td>1.0</td>\n",
       "    </tr>\n",
       "    <tr>\n",
       "      <th>3</th>\n",
       "      <td>ОРГ1-00004</td>\n",
       "      <td>2021-02-03</td>\n",
       "      <td>13</td>\n",
       "      <td>0.253611</td>\n",
       "      <td>0.182500</td>\n",
       "      <td>2.0</td>\n",
       "      <td>1.0</td>\n",
       "    </tr>\n",
       "    <tr>\n",
       "      <th>4</th>\n",
       "      <td>ОРГ1-00004</td>\n",
       "      <td>2021-02-04</td>\n",
       "      <td>14</td>\n",
       "      <td>0.273056</td>\n",
       "      <td>0.146389</td>\n",
       "      <td>3.0</td>\n",
       "      <td>1.0</td>\n",
       "    </tr>\n",
       "  </tbody>\n",
       "</table>\n",
       "</div>"
      ],
      "text/plain": [
       "           id       Date  NumberOfCalls  FromUser    ToUser  FromUser_ratio  \\\n",
       "0  ОРГ1-00004 2021-01-12              7  1.238333  1.610833             2.0   \n",
       "1  ОРГ1-00004 2021-02-01             18  0.577222  0.538333             2.0   \n",
       "2  ОРГ1-00004 2021-02-02             27  0.921389  0.033056             2.0   \n",
       "3  ОРГ1-00004 2021-02-03             13  0.253611  0.182500             2.0   \n",
       "4  ОРГ1-00004 2021-02-04             14  0.273056  0.146389             3.0   \n",
       "\n",
       "   ToUser_ratio  \n",
       "0           5.0  \n",
       "1           2.0  \n",
       "2           1.0  \n",
       "3           1.0  \n",
       "4           1.0  "
      ]
     },
     "execution_count": 33,
     "metadata": {},
     "output_type": "execute_result"
    }
   ],
   "source": [
    "df_calls_workday.head()"
   ]
  },
  {
   "cell_type": "code",
   "execution_count": 34,
   "id": "80abc0fa",
   "metadata": {},
   "outputs": [],
   "source": [
    "agg_list = ['sum', 'mean', 'median', 'min', 'max', 'std', 'var', 'count']"
   ]
  },
  {
   "cell_type": "code",
   "execution_count": 35,
   "id": "59a34691",
   "metadata": {},
   "outputs": [
    {
     "name": "stderr",
     "output_type": "stream",
     "text": [
      "C:\\Users\\Ярослав\\AppData\\Local\\Temp\\ipykernel_9876\\1024836216.py:1: FutureWarning: ['Date'] did not aggregate successfully. If any error is raised this will raise in a future version of pandas. Drop these columns/ops to avoid this warning.\n",
      "  df_calls_workday = df_calls_workday.groupby('id').agg(agg_list)\n",
      "C:\\Users\\Ярослав\\AppData\\Local\\Temp\\ipykernel_9876\\1024836216.py:2: FutureWarning: ['Date'] did not aggregate successfully. If any error is raised this will raise in a future version of pandas. Drop these columns/ops to avoid this warning.\n",
      "  df_calls_weekend = df_calls_weekend.groupby('id').agg(agg_list)\n"
     ]
    }
   ],
   "source": [
    "df_calls_workday = df_calls_workday.groupby('id').agg(agg_list)\n",
    "df_calls_weekend = df_calls_weekend.groupby('id').agg(agg_list)\n",
    "df_calls_workday.columns = get_new_name_columns(df_calls_workday, 'workday_')\n",
    "df_calls_weekend.columns = get_new_name_columns(df_calls_weekend, 'weekend_')"
   ]
  },
  {
   "cell_type": "markdown",
   "id": "d6ccdd7d",
   "metadata": {},
   "source": [
    "### Анализ датасета  с определением опаздания по данным"
   ]
  },
  {
   "cell_type": "markdown",
   "id": "6e6d96c1",
   "metadata": {},
   "source": [
    "Изучим датасет с определением опаздания по данным"
   ]
  },
  {
   "cell_type": "code",
   "execution_count": 36,
   "id": "1dea1bf0",
   "metadata": {},
   "outputs": [
    {
     "name": "stderr",
     "output_type": "stream",
     "text": [
      "C:\\Users\\Ярослав\\AppData\\Local\\Temp\\ipykernel_9876\\529980536.py:1: DtypeWarning: Columns (4,5) have mixed types. Specify dtype option on import or set low_memory=False.\n",
      "  df_connection_time = pd.read_csv('ConnectionTime.csv')\n"
     ]
    },
    {
     "data": {
      "text/html": [
       "<div>\n",
       "<style scoped>\n",
       "    .dataframe tbody tr th:only-of-type {\n",
       "        vertical-align: middle;\n",
       "    }\n",
       "\n",
       "    .dataframe tbody tr th {\n",
       "        vertical-align: top;\n",
       "    }\n",
       "\n",
       "    .dataframe thead th {\n",
       "        text-align: right;\n",
       "    }\n",
       "</style>\n",
       "<table border=\"1\" class=\"dataframe\">\n",
       "  <thead>\n",
       "    <tr style=\"text-align: right;\">\n",
       "      <th></th>\n",
       "      <th>dateNum</th>\n",
       "      <th>maxLogOff</th>\n",
       "      <th>Нормативное время начала раб.дня</th>\n",
       "      <th>Фактич. время начала раб.дня</th>\n",
       "      <th>Время опоздания</th>\n",
       "      <th>Признак опоздания</th>\n",
       "      <th>Вых/Будни</th>\n",
       "      <th>id</th>\n",
       "    </tr>\n",
       "  </thead>\n",
       "  <tbody>\n",
       "    <tr>\n",
       "      <th>0</th>\n",
       "      <td>2021-12-15 00:00:00,000</td>\n",
       "      <td>2021-12-15 17:30:27,246</td>\n",
       "      <td>1899-12-30 08:30:00,000</td>\n",
       "      <td>1899-12-30 08:24:18,606</td>\n",
       "      <td>NaN</td>\n",
       "      <td>NaN</td>\n",
       "      <td>Будни</td>\n",
       "      <td>ОРГ1-02782</td>\n",
       "    </tr>\n",
       "    <tr>\n",
       "      <th>1</th>\n",
       "      <td>2021-12-15 00:00:00,000</td>\n",
       "      <td>2021-12-15 16:30:13,330</td>\n",
       "      <td>1899-12-30 08:30:00,000</td>\n",
       "      <td>1899-12-30 01:05:20,513</td>\n",
       "      <td>NaN</td>\n",
       "      <td>NaN</td>\n",
       "      <td>Будни</td>\n",
       "      <td>ОРГ1-01407</td>\n",
       "    </tr>\n",
       "    <tr>\n",
       "      <th>2</th>\n",
       "      <td>2021-12-15 00:00:00,000</td>\n",
       "      <td>2021-12-15 15:27:37,246</td>\n",
       "      <td>1899-12-30 08:30:00,000</td>\n",
       "      <td>1899-12-30 05:47:33,156</td>\n",
       "      <td>NaN</td>\n",
       "      <td>NaN</td>\n",
       "      <td>Будни</td>\n",
       "      <td>ОРГ1-01909</td>\n",
       "    </tr>\n",
       "    <tr>\n",
       "      <th>3</th>\n",
       "      <td>2021-12-15 00:00:00,000</td>\n",
       "      <td>2021-12-15 20:35:14,833</td>\n",
       "      <td>1899-12-30 08:30:00,000</td>\n",
       "      <td>1899-12-30 08:28:43,956</td>\n",
       "      <td>NaN</td>\n",
       "      <td>NaN</td>\n",
       "      <td>Будни</td>\n",
       "      <td>ОРГ1-00254</td>\n",
       "    </tr>\n",
       "    <tr>\n",
       "      <th>4</th>\n",
       "      <td>2021-12-15 00:00:00,000</td>\n",
       "      <td>2021-12-15 17:32:16,913</td>\n",
       "      <td>1899-12-30 08:30:00,000</td>\n",
       "      <td>1899-12-30 08:16:02,896</td>\n",
       "      <td>NaN</td>\n",
       "      <td>NaN</td>\n",
       "      <td>Будни</td>\n",
       "      <td>ОРГ1-02543</td>\n",
       "    </tr>\n",
       "    <tr>\n",
       "      <th>...</th>\n",
       "      <td>...</td>\n",
       "      <td>...</td>\n",
       "      <td>...</td>\n",
       "      <td>...</td>\n",
       "      <td>...</td>\n",
       "      <td>...</td>\n",
       "      <td>...</td>\n",
       "      <td>...</td>\n",
       "    </tr>\n",
       "    <tr>\n",
       "      <th>230657</th>\n",
       "      <td>2021-09-13 00:00:00,000</td>\n",
       "      <td>2021-09-13 10:45:06,233</td>\n",
       "      <td>1899-12-30 08:30:00,000</td>\n",
       "      <td>1899-12-30 10:25:05,960</td>\n",
       "      <td>1,918322222222222</td>\n",
       "      <td>Опоздание</td>\n",
       "      <td>Будни</td>\n",
       "      <td>ОРГ1-02975</td>\n",
       "    </tr>\n",
       "    <tr>\n",
       "      <th>230658</th>\n",
       "      <td>2021-09-13 00:00:00,000</td>\n",
       "      <td>2021-09-13 17:25:31,043</td>\n",
       "      <td>1899-12-30 08:30:00,000</td>\n",
       "      <td>1899-12-30 08:41:46,136</td>\n",
       "      <td>0,19614916666666665</td>\n",
       "      <td>Опоздание</td>\n",
       "      <td>Будни</td>\n",
       "      <td>ОРГ2-05858</td>\n",
       "    </tr>\n",
       "    <tr>\n",
       "      <th>230659</th>\n",
       "      <td>2021-09-13 00:00:00,000</td>\n",
       "      <td>2021-09-13 15:26:54,683</td>\n",
       "      <td>1899-12-30 08:30:00,000</td>\n",
       "      <td>1899-12-30 15:16:42,576</td>\n",
       "      <td>6,7784936111111112</td>\n",
       "      <td>Опоздание</td>\n",
       "      <td>Будни</td>\n",
       "      <td>ОРГ2-06145</td>\n",
       "    </tr>\n",
       "    <tr>\n",
       "      <th>230660</th>\n",
       "      <td>2021-09-13 00:00:00,000</td>\n",
       "      <td>2021-09-13 17:41:13,460</td>\n",
       "      <td>1899-12-30 08:30:00,000</td>\n",
       "      <td>1899-12-30 11:05:30,300</td>\n",
       "      <td>2,5917499999999998</td>\n",
       "      <td>Опоздание</td>\n",
       "      <td>Будни</td>\n",
       "      <td>ОРГ2-06122</td>\n",
       "    </tr>\n",
       "    <tr>\n",
       "      <th>230661</th>\n",
       "      <td>2021-09-13 00:00:00,000</td>\n",
       "      <td>2021-09-13 17:23:04,926</td>\n",
       "      <td>1899-12-30 08:30:00,000</td>\n",
       "      <td>1899-12-30 09:17:00,493</td>\n",
       "      <td>0,78347027777777778</td>\n",
       "      <td>Опоздание</td>\n",
       "      <td>Будни</td>\n",
       "      <td>ОРГ2-06288</td>\n",
       "    </tr>\n",
       "  </tbody>\n",
       "</table>\n",
       "<p>230662 rows × 8 columns</p>\n",
       "</div>"
      ],
      "text/plain": [
       "                        dateNum                maxLogOff  \\\n",
       "0       2021-12-15 00:00:00,000  2021-12-15 17:30:27,246   \n",
       "1       2021-12-15 00:00:00,000  2021-12-15 16:30:13,330   \n",
       "2       2021-12-15 00:00:00,000  2021-12-15 15:27:37,246   \n",
       "3       2021-12-15 00:00:00,000  2021-12-15 20:35:14,833   \n",
       "4       2021-12-15 00:00:00,000  2021-12-15 17:32:16,913   \n",
       "...                         ...                      ...   \n",
       "230657  2021-09-13 00:00:00,000  2021-09-13 10:45:06,233   \n",
       "230658  2021-09-13 00:00:00,000  2021-09-13 17:25:31,043   \n",
       "230659  2021-09-13 00:00:00,000  2021-09-13 15:26:54,683   \n",
       "230660  2021-09-13 00:00:00,000  2021-09-13 17:41:13,460   \n",
       "230661  2021-09-13 00:00:00,000  2021-09-13 17:23:04,926   \n",
       "\n",
       "       Нормативное время начала раб.дня Фактич. время начала раб.дня  \\\n",
       "0               1899-12-30 08:30:00,000      1899-12-30 08:24:18,606   \n",
       "1               1899-12-30 08:30:00,000      1899-12-30 01:05:20,513   \n",
       "2               1899-12-30 08:30:00,000      1899-12-30 05:47:33,156   \n",
       "3               1899-12-30 08:30:00,000      1899-12-30 08:28:43,956   \n",
       "4               1899-12-30 08:30:00,000      1899-12-30 08:16:02,896   \n",
       "...                                 ...                          ...   \n",
       "230657          1899-12-30 08:30:00,000      1899-12-30 10:25:05,960   \n",
       "230658          1899-12-30 08:30:00,000      1899-12-30 08:41:46,136   \n",
       "230659          1899-12-30 08:30:00,000      1899-12-30 15:16:42,576   \n",
       "230660          1899-12-30 08:30:00,000      1899-12-30 11:05:30,300   \n",
       "230661          1899-12-30 08:30:00,000      1899-12-30 09:17:00,493   \n",
       "\n",
       "            Время опоздания Признак опоздания Вых/Будни          id  \n",
       "0                       NaN               NaN     Будни  ОРГ1-02782  \n",
       "1                       NaN               NaN     Будни  ОРГ1-01407  \n",
       "2                       NaN               NaN     Будни  ОРГ1-01909  \n",
       "3                       NaN               NaN     Будни  ОРГ1-00254  \n",
       "4                       NaN               NaN     Будни  ОРГ1-02543  \n",
       "...                     ...               ...       ...         ...  \n",
       "230657    1,918322222222222         Опоздание     Будни  ОРГ1-02975  \n",
       "230658  0,19614916666666665         Опоздание     Будни  ОРГ2-05858  \n",
       "230659   6,7784936111111112         Опоздание     Будни  ОРГ2-06145  \n",
       "230660   2,5917499999999998         Опоздание     Будни  ОРГ2-06122  \n",
       "230661  0,78347027777777778         Опоздание     Будни  ОРГ2-06288  \n",
       "\n",
       "[230662 rows x 8 columns]"
      ]
     },
     "execution_count": 36,
     "metadata": {},
     "output_type": "execute_result"
    }
   ],
   "source": [
    "df_connection_time = pd.read_csv('ConnectionTime.csv')\n",
    "df_connection_time"
   ]
  },
  {
   "cell_type": "code",
   "execution_count": 37,
   "id": "6efd1e0c",
   "metadata": {},
   "outputs": [
    {
     "name": "stdout",
     "output_type": "stream",
     "text": [
      "<class 'pandas.core.frame.DataFrame'>\n",
      "RangeIndex: 230662 entries, 0 to 230661\n",
      "Data columns (total 8 columns):\n",
      " #   Column                            Non-Null Count   Dtype \n",
      "---  ------                            --------------   ----- \n",
      " 0   dateNum                           230662 non-null  object\n",
      " 1   maxLogOff                         230662 non-null  object\n",
      " 2   Нормативное время начала раб.дня  230662 non-null  object\n",
      " 3   Фактич. время начала раб.дня      230662 non-null  object\n",
      " 4   Время опоздания                   103101 non-null  object\n",
      " 5   Признак опоздания                 77520 non-null   object\n",
      " 6   Вых/Будни                         230662 non-null  object\n",
      " 7   id                                230662 non-null  object\n",
      "dtypes: object(8)\n",
      "memory usage: 14.1+ MB\n"
     ]
    }
   ],
   "source": [
    "df_connection_time.info()"
   ]
  },
  {
   "cell_type": "markdown",
   "id": "f06fb7ed",
   "metadata": {},
   "source": [
    "Необходимо привести типы данных в порядок"
   ]
  },
  {
   "cell_type": "code",
   "execution_count": 38,
   "id": "b156aca3",
   "metadata": {},
   "outputs": [],
   "source": [
    "df_connection_time['dateNum'] = pd.to_datetime(df_connection_time['dateNum'])\n",
    "df_connection_time['maxLogOff'] = pd.to_datetime(df_connection_time['maxLogOff'])\n",
    "\n",
    "df_connection_time['Нормативное время начала раб.дня'] = pd.to_datetime(df_connection_time['Нормативное время начала раб.дня'])\n",
    "df_connection_time['Фактич. время начала раб.дня'] = pd.to_datetime(df_connection_time['Фактич. время начала раб.дня'])"
   ]
  },
  {
   "cell_type": "markdown",
   "id": "022122e8",
   "metadata": {},
   "source": [
    "Время опоздания и признак опоздания рассчитаем сами из имеющихся данных. Для времени опоздания это позволит получить значение не только по опозданиям, но и по тому, насколько раньше пришёл человек. А для признака - сразу закадируем 1 - есть опоздание, 0 - нет опоздания."
   ]
  },
  {
   "cell_type": "code",
   "execution_count": 39,
   "id": "dcf64b85",
   "metadata": {},
   "outputs": [],
   "source": [
    "df_connection_time['late_time'] = df_connection_time['Фактич. время начала раб.дня'] - df_connection_time['Нормативное время начала раб.дня']"
   ]
  },
  {
   "cell_type": "code",
   "execution_count": 40,
   "id": "44036517",
   "metadata": {},
   "outputs": [
    {
     "data": {
      "text/plain": [
       "0        -1 days +23:54:18.606000\n",
       "1        -1 days +16:35:20.513000\n",
       "2        -1 days +21:17:33.156000\n",
       "3        -1 days +23:58:43.956000\n",
       "4        -1 days +23:46:02.896000\n",
       "                   ...           \n",
       "230657     0 days 01:55:05.960000\n",
       "230658     0 days 00:11:46.136000\n",
       "230659     0 days 06:46:42.576000\n",
       "230660     0 days 02:35:30.300000\n",
       "230661     0 days 00:47:00.493000\n",
       "Name: late_time, Length: 230662, dtype: timedelta64[ns]"
      ]
     },
     "execution_count": 40,
     "metadata": {},
     "output_type": "execute_result"
    }
   ],
   "source": [
    "df_connection_time['late_time']"
   ]
  },
  {
   "cell_type": "markdown",
   "id": "5a8150be",
   "metadata": {},
   "source": [
    "Преобразуем полученное время в минуты."
   ]
  },
  {
   "cell_type": "code",
   "execution_count": 41,
   "id": "d43f6eb9",
   "metadata": {},
   "outputs": [
    {
     "name": "stderr",
     "output_type": "stream",
     "text": [
      "100%|███████████████████████████████████████████████████████████████████████| 230662/230662 [00:04<00:00, 51330.57it/s]\n"
     ]
    }
   ],
   "source": [
    "df_connection_time['late_time'] = df_connection_time.progress_apply(lambda x:\n",
    "                                                        (x['late_time'].days * 24 * 3600 + x['late_time'].seconds)/60, axis=1)"
   ]
  },
  {
   "cell_type": "code",
   "execution_count": 42,
   "id": "5b8fd828",
   "metadata": {},
   "outputs": [
    {
     "data": {
      "text/plain": [
       "0          -5.700000\n",
       "1        -444.666667\n",
       "2        -162.450000\n",
       "3          -1.283333\n",
       "4         -13.966667\n",
       "             ...    \n",
       "230657    115.083333\n",
       "230658     11.766667\n",
       "230659    406.700000\n",
       "230660    155.500000\n",
       "230661     47.000000\n",
       "Name: late_time, Length: 230662, dtype: float64"
      ]
     },
     "execution_count": 42,
     "metadata": {},
     "output_type": "execute_result"
    }
   ],
   "source": [
    "df_connection_time['late_time']"
   ]
  },
  {
   "cell_type": "markdown",
   "id": "52ae8e1b",
   "metadata": {},
   "source": [
    "Добавим признак опоздания"
   ]
  },
  {
   "cell_type": "code",
   "execution_count": 43,
   "id": "fb0e46e7",
   "metadata": {},
   "outputs": [],
   "source": [
    "df_connection_time['late_flag'] = (df_connection_time['late_time']>0).astype('uint8')"
   ]
  },
  {
   "cell_type": "markdown",
   "id": "3141097d",
   "metadata": {},
   "source": [
    "Найдём реальное время и дату рабочего дня (сейчас у фактического начала рабочего дня стоит неверный год)"
   ]
  },
  {
   "cell_type": "code",
   "execution_count": 44,
   "id": "182c932c",
   "metadata": {},
   "outputs": [
    {
     "name": "stderr",
     "output_type": "stream",
     "text": [
      "100%|███████████████████████████████████████████████████████████████████████| 230662/230662 [00:04<00:00, 50596.49it/s]\n"
     ]
    }
   ],
   "source": [
    "df_connection_time['real_time_start'] = df_connection_time.progress_apply(lambda x:\n",
    "                                (dt.datetime.combine(x['dateNum'], (x['Фактич. время начала раб.дня']).time()).\n",
    "                                 strftime('%Y-%m-%d %H:%M:%S')), axis=1)"
   ]
  },
  {
   "cell_type": "markdown",
   "id": "bbcdf975",
   "metadata": {},
   "source": [
    "Высчитаем продолжительность рабочего дня"
   ]
  },
  {
   "cell_type": "code",
   "execution_count": 45,
   "id": "f34e0d7a",
   "metadata": {},
   "outputs": [],
   "source": [
    "df_connection_time['working_hours'] = df_connection_time['maxLogOff'] - pd.to_datetime(df_connection_time['real_time_start'])"
   ]
  },
  {
   "cell_type": "code",
   "execution_count": 46,
   "id": "1278814d",
   "metadata": {},
   "outputs": [
    {
     "data": {
      "text/plain": [
       "0        0 days 09:06:09.246000\n",
       "1        0 days 15:24:53.330000\n",
       "2        0 days 09:40:04.246000\n",
       "3        0 days 12:06:31.833000\n",
       "4        0 days 09:16:14.913000\n",
       "                  ...          \n",
       "230657   0 days 00:20:01.233000\n",
       "230658   0 days 08:43:45.043000\n",
       "230659   0 days 00:10:12.683000\n",
       "230660   0 days 06:35:43.460000\n",
       "230661   0 days 08:06:04.926000\n",
       "Name: working_hours, Length: 230662, dtype: timedelta64[ns]"
      ]
     },
     "execution_count": 46,
     "metadata": {},
     "output_type": "execute_result"
    }
   ],
   "source": [
    "df_connection_time['working_hours']"
   ]
  },
  {
   "cell_type": "markdown",
   "id": "173c74eb",
   "metadata": {},
   "source": [
    "Вычислим продолжительность рабочего дня в часах"
   ]
  },
  {
   "cell_type": "code",
   "execution_count": 47,
   "id": "40f23590",
   "metadata": {},
   "outputs": [
    {
     "name": "stderr",
     "output_type": "stream",
     "text": [
      "100%|███████████████████████████████████████████████████████████████████████| 230662/230662 [00:04<00:00, 53552.24it/s]\n"
     ]
    }
   ],
   "source": [
    "df_connection_time['working_hours'] = df_connection_time.progress_apply(lambda x:\n",
    "                                                        (x['working_hours'].days * 24 * 3600 + x['working_hours'].seconds)/3600\n",
    "                                                        , axis=1)"
   ]
  },
  {
   "cell_type": "markdown",
   "id": "44173e40",
   "metadata": {},
   "source": [
    "Удалим ненужные столбцы"
   ]
  },
  {
   "cell_type": "code",
   "execution_count": 48,
   "id": "f4df83ac",
   "metadata": {},
   "outputs": [],
   "source": [
    "df_connection_time = df_connection_time.drop(['maxLogOff', \n",
    "                                              'Нормативное время начала раб.дня', \n",
    "                                              'Фактич. время начала раб.дня',\n",
    "                                              'Время опоздания',\n",
    "                                              'Признак опоздания',\n",
    "                                              'real_time_start'], axis=1)"
   ]
  },
  {
   "cell_type": "markdown",
   "id": "c5a2624e",
   "metadata": {},
   "source": [
    "Построим гистограмму продолжительности рабочего дня"
   ]
  },
  {
   "cell_type": "code",
   "execution_count": 49,
   "id": "18bdc5b7",
   "metadata": {},
   "outputs": [
    {
     "data": {
      "image/png": "[encoded data removed]",
      "text/plain": [
       "<Figure size 576x432 with 1 Axes>"
      ]
     },
     "metadata": {
      "needs_background": "light"
     },
     "output_type": "display_data"
    }
   ],
   "source": [
    "plt.figure(figsize=(8, 6))\n",
    "plt.hist(df_connection_time['working_hours'], bins=100)\n",
    "plt.title('Продолжительность рабочего времени согласно работе с данными')\n",
    "plt.xlabel('время работы')\n",
    "plt.ylabel('Количество вхождений')\n",
    "plt.grid()\n",
    "plt.show()"
   ]
  },
  {
   "cell_type": "markdown",
   "id": "2d31ed97",
   "metadata": {},
   "source": [
    "В данных есть явные выбросы. Имеются два пика в районе 9 часов и менее 0,2 часа. Первый пик объясняется тем, что это стандартное продолжительность рабочего дня с учётом обеда. Второй, возможно связан с некорректной работой системы, или специфики работы сотрудников."
   ]
  },
  {
   "cell_type": "markdown",
   "id": "d07e2b41",
   "metadata": {},
   "source": [
    "Разделим датасет на рабочие и выходные дни"
   ]
  },
  {
   "cell_type": "code",
   "execution_count": 50,
   "id": "eb7b1ba9",
   "metadata": {},
   "outputs": [],
   "source": [
    "df_connection_time_workday = df_connection_time[df_connection_time['Вых/Будни']=='Будни']\n",
    "df_connection_time_workday = df_connection_time_workday.drop('Вых/Будни', axis=1)"
   ]
  },
  {
   "cell_type": "code",
   "execution_count": 51,
   "id": "bd4087c0",
   "metadata": {},
   "outputs": [],
   "source": [
    "df_connection_time_weekend = df_connection_time[df_connection_time['Вых/Будни']!='Будни']\n",
    "df_connection_time_weekend = df_connection_time_weekend.drop('Вых/Будни', axis=1)"
   ]
  },
  {
   "cell_type": "markdown",
   "id": "b591d5e3",
   "metadata": {},
   "source": [
    "Сгруппируем и агрегируем данные дата сеты по id (предварительно удалив не числовые столбцы)"
   ]
  },
  {
   "cell_type": "code",
   "execution_count": 52,
   "id": "241a3f23",
   "metadata": {},
   "outputs": [
    {
     "name": "stderr",
     "output_type": "stream",
     "text": [
      "C:\\Users\\Ярослав\\AppData\\Local\\Temp\\ipykernel_9876\\1386331706.py:1: FutureWarning: ['dateNum'] did not aggregate successfully. If any error is raised this will raise in a future version of pandas. Drop these columns/ops to avoid this warning.\n",
      "  df_connection_time_workday = df_connection_time_workday.groupby('id').agg(agg_list)\n",
      "C:\\Users\\Ярослав\\AppData\\Local\\Temp\\ipykernel_9876\\1386331706.py:2: FutureWarning: ['dateNum'] did not aggregate successfully. If any error is raised this will raise in a future version of pandas. Drop these columns/ops to avoid this warning.\n",
      "  df_connection_time_weekend = df_connection_time_weekend.groupby('id').agg(agg_list)\n"
     ]
    }
   ],
   "source": [
    "df_connection_time_workday = df_connection_time_workday.groupby('id').agg(agg_list)\n",
    "df_connection_time_weekend = df_connection_time_weekend.groupby('id').agg(agg_list)\n",
    "df_connection_time_workday.columns = get_new_name_columns(df_connection_time_workday, 'workday_')\n",
    "df_connection_time_weekend.columns = get_new_name_columns(df_connection_time_weekend, 'weekend_')"
   ]
  },
  {
   "cell_type": "markdown",
   "id": "807a13fe",
   "metadata": {},
   "source": [
    "Добавим столбец с долей опоздания каждого работника"
   ]
  },
  {
   "cell_type": "code",
   "execution_count": 53,
   "id": "9a877572",
   "metadata": {
    "scrolled": true
   },
   "outputs": [],
   "source": [
    "df_connection_time_workday['ratio_late'] = (df_connection_time_workday['workday_late_flag_sum'] / \n",
    "                                            df_connection_time_workday['workday_late_flag_count'])\n",
    "\n",
    "df_connection_time_weekend['ratio_late'] = (df_connection_time_weekend['weekend_late_flag_sum'] / \n",
    "                                            df_connection_time_weekend['weekend_late_flag_count'])"
   ]
  },
  {
   "cell_type": "markdown",
   "id": "c68156f2",
   "metadata": {},
   "source": [
    "### Анализ датасета  с опозданием по СКУД"
   ]
  },
  {
   "cell_type": "code",
   "execution_count": 54,
   "id": "0fb84aba",
   "metadata": {},
   "outputs": [
    {
     "data": {
      "text/html": [
       "<div>\n",
       "<style scoped>\n",
       "    .dataframe tbody tr th:only-of-type {\n",
       "        vertical-align: middle;\n",
       "    }\n",
       "\n",
       "    .dataframe tbody tr th {\n",
       "        vertical-align: top;\n",
       "    }\n",
       "\n",
       "    .dataframe thead th {\n",
       "        text-align: right;\n",
       "    }\n",
       "</style>\n",
       "<table border=\"1\" class=\"dataframe\">\n",
       "  <thead>\n",
       "    <tr style=\"text-align: right;\">\n",
       "      <th></th>\n",
       "      <th>Дата</th>\n",
       "      <th>Приход.1</th>\n",
       "      <th>Уход.1</th>\n",
       "      <th>Длительность общая</th>\n",
       "      <th>Длительность раб.дня без обеда</th>\n",
       "      <th>Вых/Будни</th>\n",
       "      <th>id</th>\n",
       "    </tr>\n",
       "  </thead>\n",
       "  <tbody>\n",
       "    <tr>\n",
       "      <th>0</th>\n",
       "      <td>2021-03-01 00:00:00,000</td>\n",
       "      <td>1899-12-30 08:11:00,000</td>\n",
       "      <td>1899-12-30 17:32:00,000</td>\n",
       "      <td>9,35</td>\n",
       "      <td>8,35</td>\n",
       "      <td>Будни</td>\n",
       "      <td>ОРГ1-00791</td>\n",
       "    </tr>\n",
       "    <tr>\n",
       "      <th>1</th>\n",
       "      <td>2021-03-01 00:00:00,000</td>\n",
       "      <td>1899-12-30 08:25:00,000</td>\n",
       "      <td>1899-12-30 17:32:00,000</td>\n",
       "      <td>9,1166666666666671</td>\n",
       "      <td>8,1166666666666671</td>\n",
       "      <td>Будни</td>\n",
       "      <td>ОРГ1-01826</td>\n",
       "    </tr>\n",
       "    <tr>\n",
       "      <th>2</th>\n",
       "      <td>2021-03-01 00:00:00,000</td>\n",
       "      <td>1899-12-30 08:31:00,000</td>\n",
       "      <td>1899-12-30 17:32:00,000</td>\n",
       "      <td>9,0166666666666657</td>\n",
       "      <td>8,0166666666666657</td>\n",
       "      <td>Будни</td>\n",
       "      <td>ОРГ1-00713</td>\n",
       "    </tr>\n",
       "    <tr>\n",
       "      <th>3</th>\n",
       "      <td>2021-03-01 00:00:00,000</td>\n",
       "      <td>1899-12-30 08:31:00,000</td>\n",
       "      <td>1899-12-30 17:32:00,000</td>\n",
       "      <td>9,0166666666666657</td>\n",
       "      <td>8,0166666666666657</td>\n",
       "      <td>Будни</td>\n",
       "      <td>ОРГ1-02127</td>\n",
       "    </tr>\n",
       "    <tr>\n",
       "      <th>4</th>\n",
       "      <td>2021-03-01 00:00:00,000</td>\n",
       "      <td>1899-12-30 08:19:00,000</td>\n",
       "      <td>1899-12-30 17:32:00,000</td>\n",
       "      <td>9,2166666666666668</td>\n",
       "      <td>8,2166666666666668</td>\n",
       "      <td>Будни</td>\n",
       "      <td>ОРГ1-01739</td>\n",
       "    </tr>\n",
       "    <tr>\n",
       "      <th>...</th>\n",
       "      <td>...</td>\n",
       "      <td>...</td>\n",
       "      <td>...</td>\n",
       "      <td>...</td>\n",
       "      <td>...</td>\n",
       "      <td>...</td>\n",
       "      <td>...</td>\n",
       "    </tr>\n",
       "    <tr>\n",
       "      <th>22575</th>\n",
       "      <td>2021-04-11 00:00:00,000</td>\n",
       "      <td>1899-12-30 20:06:00,000</td>\n",
       "      <td>1899-12-30 20:34:00,000</td>\n",
       "      <td>0,46666666666666667</td>\n",
       "      <td>0,46666666666666667</td>\n",
       "      <td>Выходные дни</td>\n",
       "      <td>ОРГ1-02181</td>\n",
       "    </tr>\n",
       "    <tr>\n",
       "      <th>22576</th>\n",
       "      <td>2021-04-11 00:00:00,000</td>\n",
       "      <td>1899-12-30 12:35:00,000</td>\n",
       "      <td>1899-12-30 16:46:00,000</td>\n",
       "      <td>4,1833333333333336</td>\n",
       "      <td>4,1833333333333336</td>\n",
       "      <td>Выходные дни</td>\n",
       "      <td>ОРГ1-01884</td>\n",
       "    </tr>\n",
       "    <tr>\n",
       "      <th>22577</th>\n",
       "      <td>2021-04-11 00:00:00,000</td>\n",
       "      <td>1899-12-30 12:32:00,000</td>\n",
       "      <td>1899-12-30 21:16:00,000</td>\n",
       "      <td>8,7333333333333325</td>\n",
       "      <td>7,7333333333333325</td>\n",
       "      <td>Выходные дни</td>\n",
       "      <td>ОРГ1-01173</td>\n",
       "    </tr>\n",
       "    <tr>\n",
       "      <th>22578</th>\n",
       "      <td>2021-04-11 00:00:00,000</td>\n",
       "      <td>1899-12-30 16:19:00,000</td>\n",
       "      <td>1899-12-30 17:32:00,000</td>\n",
       "      <td>1,2166666666666666</td>\n",
       "      <td>1,2166666666666666</td>\n",
       "      <td>Выходные дни</td>\n",
       "      <td>ОРГ1-00525</td>\n",
       "    </tr>\n",
       "    <tr>\n",
       "      <th>22579</th>\n",
       "      <td>2021-04-11 00:00:00,000</td>\n",
       "      <td>1899-12-30 08:11:00,000</td>\n",
       "      <td>1899-12-30 17:39:00,000</td>\n",
       "      <td>9,4666666666666668</td>\n",
       "      <td>8,4666666666666668</td>\n",
       "      <td>Выходные дни</td>\n",
       "      <td>ОРГ1-01096</td>\n",
       "    </tr>\n",
       "  </tbody>\n",
       "</table>\n",
       "<p>22580 rows × 7 columns</p>\n",
       "</div>"
      ],
      "text/plain": [
       "                          Дата                 Приход.1  \\\n",
       "0      2021-03-01 00:00:00,000  1899-12-30 08:11:00,000   \n",
       "1      2021-03-01 00:00:00,000  1899-12-30 08:25:00,000   \n",
       "2      2021-03-01 00:00:00,000  1899-12-30 08:31:00,000   \n",
       "3      2021-03-01 00:00:00,000  1899-12-30 08:31:00,000   \n",
       "4      2021-03-01 00:00:00,000  1899-12-30 08:19:00,000   \n",
       "...                        ...                      ...   \n",
       "22575  2021-04-11 00:00:00,000  1899-12-30 20:06:00,000   \n",
       "22576  2021-04-11 00:00:00,000  1899-12-30 12:35:00,000   \n",
       "22577  2021-04-11 00:00:00,000  1899-12-30 12:32:00,000   \n",
       "22578  2021-04-11 00:00:00,000  1899-12-30 16:19:00,000   \n",
       "22579  2021-04-11 00:00:00,000  1899-12-30 08:11:00,000   \n",
       "\n",
       "                        Уход.1   Длительность общая  \\\n",
       "0      1899-12-30 17:32:00,000                 9,35   \n",
       "1      1899-12-30 17:32:00,000   9,1166666666666671   \n",
       "2      1899-12-30 17:32:00,000   9,0166666666666657   \n",
       "3      1899-12-30 17:32:00,000   9,0166666666666657   \n",
       "4      1899-12-30 17:32:00,000   9,2166666666666668   \n",
       "...                        ...                  ...   \n",
       "22575  1899-12-30 20:34:00,000  0,46666666666666667   \n",
       "22576  1899-12-30 16:46:00,000   4,1833333333333336   \n",
       "22577  1899-12-30 21:16:00,000   8,7333333333333325   \n",
       "22578  1899-12-30 17:32:00,000   1,2166666666666666   \n",
       "22579  1899-12-30 17:39:00,000   9,4666666666666668   \n",
       "\n",
       "      Длительность раб.дня без обеда     Вых/Будни          id  \n",
       "0                               8,35         Будни  ОРГ1-00791  \n",
       "1                 8,1166666666666671         Будни  ОРГ1-01826  \n",
       "2                 8,0166666666666657         Будни  ОРГ1-00713  \n",
       "3                 8,0166666666666657         Будни  ОРГ1-02127  \n",
       "4                 8,2166666666666668         Будни  ОРГ1-01739  \n",
       "...                              ...           ...         ...  \n",
       "22575            0,46666666666666667  Выходные дни  ОРГ1-02181  \n",
       "22576             4,1833333333333336  Выходные дни  ОРГ1-01884  \n",
       "22577             7,7333333333333325  Выходные дни  ОРГ1-01173  \n",
       "22578             1,2166666666666666  Выходные дни  ОРГ1-00525  \n",
       "22579             8,4666666666666668  Выходные дни  ОРГ1-01096  \n",
       "\n",
       "[22580 rows x 7 columns]"
      ]
     },
     "execution_count": 54,
     "metadata": {},
     "output_type": "execute_result"
    }
   ],
   "source": [
    "df_skud = pd.read_csv('SKUD.csv')\n",
    "df_skud"
   ]
  },
  {
   "cell_type": "code",
   "execution_count": 55,
   "id": "180bd176",
   "metadata": {},
   "outputs": [
    {
     "name": "stdout",
     "output_type": "stream",
     "text": [
      "<class 'pandas.core.frame.DataFrame'>\n",
      "RangeIndex: 22580 entries, 0 to 22579\n",
      "Data columns (total 7 columns):\n",
      " #   Column                          Non-Null Count  Dtype \n",
      "---  ------                          --------------  ----- \n",
      " 0   Дата                            22580 non-null  object\n",
      " 1   Приход.1                        22580 non-null  object\n",
      " 2   Уход.1                          22580 non-null  object\n",
      " 3   Длительность общая              22580 non-null  object\n",
      " 4   Длительность раб.дня без обеда  22580 non-null  object\n",
      " 5   Вых/Будни                       22580 non-null  object\n",
      " 6   id                              22580 non-null  object\n",
      "dtypes: object(7)\n",
      "memory usage: 1.2+ MB\n"
     ]
    }
   ],
   "source": [
    "df_skud.info()"
   ]
  },
  {
   "cell_type": "markdown",
   "id": "2666fe6c",
   "metadata": {},
   "source": [
    "Из всего датасета нас будет интересовать столбцы с датой, Длительностью рабочего дня, Выходные / Будни и Id сотрудника. По дате и длительности  рабочего дня приведём в порядок типы данных, Переименуем столбцы и удалим лишние столбцы"
   ]
  },
  {
   "cell_type": "code",
   "execution_count": 56,
   "id": "bfa8bf72",
   "metadata": {},
   "outputs": [],
   "source": [
    "df_skud.rename(columns={'Дата': 'Date',\n",
    "                       'Длительность раб.дня без обеда': 'skud_working_hours'}, inplace=True)\n",
    "df_skud = df_skud.drop(['Приход.1', 'Уход.1', 'Длительность общая'], axis=1)"
   ]
  },
  {
   "cell_type": "code",
   "execution_count": 57,
   "id": "38b078ae",
   "metadata": {},
   "outputs": [],
   "source": [
    "df_skud['Date'] = pd.to_datetime(df_skud['Date'])\n",
    "df_skud['skud_working_hours'] = df_skud['skud_working_hours'].str.replace(',','.')\n",
    "df_skud['skud_working_hours'] = df_skud['skud_working_hours'].astype('float')"
   ]
  },
  {
   "cell_type": "markdown",
   "id": "a4b7a018",
   "metadata": {},
   "source": [
    "Построим гистограмму распределения продолжительности рабочего дня, согласно скуд"
   ]
  },
  {
   "cell_type": "code",
   "execution_count": 59,
   "id": "56854df5",
   "metadata": {
    "scrolled": true
   },
   "outputs": [
    {
     "data": {
      "image/png": "[encoded data removed]",
      "text/plain": [
       "<Figure size 576x432 with 1 Axes>"
      ]
     },
     "metadata": {
      "needs_background": "light"
     },
     "output_type": "display_data"
    }
   ],
   "source": [
    "plt.figure(figsize=(8, 6))\n",
    "plt.hist(df_skud['skud_working_hours'], bins=100)\n",
    "plt.title('Продолжительность рабочего времени согласно СКУД')\n",
    "plt.xlabel('Время работы')\n",
    "plt.ylabel('Количество вхождений')\n",
    "plt.grid()\n",
    "plt.show()"
   ]
  },
  {
   "cell_type": "markdown",
   "id": "caecdf19",
   "metadata": {},
   "source": [
    "В данных есть линный правый и левый хвост, пик в районе 8 часов, а также небольшой пик в районе 5-6 часов. Последний, вероятнее всего связан с теми, у кого короткий рабочий день. "
   ]
  },
  {
   "cell_type": "markdown",
   "id": "578108d2",
   "metadata": {},
   "source": [
    "Теперь мы получили более нормальное распределение. Разделим датасет на два (по признаку будни / выходные)"
   ]
  },
  {
   "cell_type": "code",
   "execution_count": 60,
   "id": "dab04d39",
   "metadata": {},
   "outputs": [],
   "source": [
    "df_skud_workday = df_skud[df_skud['Вых/Будни']=='Будни']\n",
    "df_skud_workday = df_skud.drop('Вых/Будни', axis=1)"
   ]
  },
  {
   "cell_type": "code",
   "execution_count": 61,
   "id": "04e16724",
   "metadata": {},
   "outputs": [],
   "source": [
    "df_skud_weekend = df_skud[df_skud['Вых/Будни']!='Будни']\n",
    "df_skud_weekend = df_skud.drop('Вых/Будни', axis=1)"
   ]
  },
  {
   "cell_type": "code",
   "execution_count": 62,
   "id": "acc84ac0",
   "metadata": {},
   "outputs": [
    {
     "name": "stderr",
     "output_type": "stream",
     "text": [
      "C:\\Users\\Ярослав\\AppData\\Local\\Temp\\ipykernel_9876\\346688991.py:1: FutureWarning: ['Date'] did not aggregate successfully. If any error is raised this will raise in a future version of pandas. Drop these columns/ops to avoid this warning.\n",
      "  df_skud_workday = df_skud_workday.groupby('id').agg(agg_list)\n",
      "C:\\Users\\Ярослав\\AppData\\Local\\Temp\\ipykernel_9876\\346688991.py:2: FutureWarning: ['Date'] did not aggregate successfully. If any error is raised this will raise in a future version of pandas. Drop these columns/ops to avoid this warning.\n",
      "  df_skud_weekend = df_skud_weekend.groupby('id').agg(agg_list)\n"
     ]
    }
   ],
   "source": [
    "df_skud_workday = df_skud_workday.groupby('id').agg(agg_list)\n",
    "df_skud_weekend = df_skud_weekend.groupby('id').agg(agg_list)\n",
    "df_skud_workday.columns = get_new_name_columns(df_skud_workday, 'workday_')\n",
    "df_skud_weekend.columns = get_new_name_columns(df_skud_weekend, 'weekend_')"
   ]
  },
  {
   "cell_type": "markdown",
   "id": "1d828028",
   "metadata": {},
   "source": [
    "Добавим столбец с отношением рабочего дня к среднему по датасету"
   ]
  },
  {
   "cell_type": "code",
   "execution_count": 63,
   "id": "9f826437",
   "metadata": {},
   "outputs": [],
   "source": [
    "df_skud_workday['workday_ratio_hours'] = (df_skud_workday['workday_skud_working_hours_mean'] /\n",
    "                                            df_skud_workday['workday_skud_working_hours_count'].mean())\n",
    "\n",
    "df_skud_weekend['weekend_ratio_hours'] = (df_skud_weekend['weekend_skud_working_hours_mean'] /\n",
    "                                            df_skud_weekend['weekend_skud_working_hours_count'].mean())"
   ]
  },
  {
   "cell_type": "markdown",
   "id": "8889f2ad",
   "metadata": {},
   "source": [
    "### Анализ датасета с интервалами времени в сети в системе учета рабочего времени сотрудника за компьютером"
   ]
  },
  {
   "cell_type": "code",
   "execution_count": 64,
   "id": "8af9a695",
   "metadata": {},
   "outputs": [
    {
     "data": {
      "text/html": [
       "<div>\n",
       "<style scoped>\n",
       "    .dataframe tbody tr th:only-of-type {\n",
       "        vertical-align: middle;\n",
       "    }\n",
       "\n",
       "    .dataframe tbody tr th {\n",
       "        vertical-align: top;\n",
       "    }\n",
       "\n",
       "    .dataframe thead th {\n",
       "        text-align: right;\n",
       "    }\n",
       "</style>\n",
       "<table border=\"1\" class=\"dataframe\">\n",
       "  <thead>\n",
       "    <tr style=\"text-align: right;\">\n",
       "      <th></th>\n",
       "      <th>Вых/Будни</th>\n",
       "      <th>monitor_Time</th>\n",
       "      <th>startTime</th>\n",
       "      <th>id</th>\n",
       "    </tr>\n",
       "  </thead>\n",
       "  <tbody>\n",
       "    <tr>\n",
       "      <th>0</th>\n",
       "      <td>Будни</td>\n",
       "      <td>300</td>\n",
       "      <td>2021-08-16 00:00:00,000</td>\n",
       "      <td>ОРГ1-01402</td>\n",
       "    </tr>\n",
       "    <tr>\n",
       "      <th>1</th>\n",
       "      <td>Будни</td>\n",
       "      <td>300</td>\n",
       "      <td>2021-08-18 00:00:00,000</td>\n",
       "      <td>ОРГ1-01402</td>\n",
       "    </tr>\n",
       "    <tr>\n",
       "      <th>2</th>\n",
       "      <td>Будни</td>\n",
       "      <td>300</td>\n",
       "      <td>2021-08-19 00:00:00,000</td>\n",
       "      <td>ОРГ1-01402</td>\n",
       "    </tr>\n",
       "    <tr>\n",
       "      <th>3</th>\n",
       "      <td>Будни</td>\n",
       "      <td>300</td>\n",
       "      <td>2021-08-23 00:00:00,000</td>\n",
       "      <td>ОРГ1-01402</td>\n",
       "    </tr>\n",
       "    <tr>\n",
       "      <th>4</th>\n",
       "      <td>Будни</td>\n",
       "      <td>300</td>\n",
       "      <td>2021-08-26 00:00:00,000</td>\n",
       "      <td>ОРГ1-01402</td>\n",
       "    </tr>\n",
       "    <tr>\n",
       "      <th>...</th>\n",
       "      <td>...</td>\n",
       "      <td>...</td>\n",
       "      <td>...</td>\n",
       "      <td>...</td>\n",
       "    </tr>\n",
       "    <tr>\n",
       "      <th>216105</th>\n",
       "      <td>Выходные дни</td>\n",
       "      <td>300</td>\n",
       "      <td>2021-11-05 00:00:00,000</td>\n",
       "      <td>ОРГ1-01770</td>\n",
       "    </tr>\n",
       "    <tr>\n",
       "      <th>216106</th>\n",
       "      <td>Выходные дни</td>\n",
       "      <td>300</td>\n",
       "      <td>2021-12-26 00:00:00,000</td>\n",
       "      <td>ОРГ1-02799</td>\n",
       "    </tr>\n",
       "    <tr>\n",
       "      <th>216107</th>\n",
       "      <td>Выходные дни</td>\n",
       "      <td>300</td>\n",
       "      <td>2021-11-06 00:00:00,000</td>\n",
       "      <td>ОРГ1-00933</td>\n",
       "    </tr>\n",
       "    <tr>\n",
       "      <th>216108</th>\n",
       "      <td>Выходные дни</td>\n",
       "      <td>300</td>\n",
       "      <td>2021-11-28 00:00:00,000</td>\n",
       "      <td>ОРГ1-01630</td>\n",
       "    </tr>\n",
       "    <tr>\n",
       "      <th>216109</th>\n",
       "      <td>Выходные дни</td>\n",
       "      <td>300</td>\n",
       "      <td>2021-10-24 00:00:00,000</td>\n",
       "      <td>ОРГ1-03000</td>\n",
       "    </tr>\n",
       "  </tbody>\n",
       "</table>\n",
       "<p>216110 rows × 4 columns</p>\n",
       "</div>"
      ],
      "text/plain": [
       "           Вых/Будни  monitor_Time                startTime          id\n",
       "0              Будни           300  2021-08-16 00:00:00,000  ОРГ1-01402\n",
       "1              Будни           300  2021-08-18 00:00:00,000  ОРГ1-01402\n",
       "2              Будни           300  2021-08-19 00:00:00,000  ОРГ1-01402\n",
       "3              Будни           300  2021-08-23 00:00:00,000  ОРГ1-01402\n",
       "4              Будни           300  2021-08-26 00:00:00,000  ОРГ1-01402\n",
       "...              ...           ...                      ...         ...\n",
       "216105  Выходные дни           300  2021-11-05 00:00:00,000  ОРГ1-01770\n",
       "216106  Выходные дни           300  2021-12-26 00:00:00,000  ОРГ1-02799\n",
       "216107  Выходные дни           300  2021-11-06 00:00:00,000  ОРГ1-00933\n",
       "216108  Выходные дни           300  2021-11-28 00:00:00,000  ОРГ1-01630\n",
       "216109  Выходные дни           300  2021-10-24 00:00:00,000  ОРГ1-03000\n",
       "\n",
       "[216110 rows x 4 columns]"
      ]
     },
     "execution_count": 64,
     "metadata": {},
     "output_type": "execute_result"
    }
   ],
   "source": [
    "df_timen_network = pd.read_csv('TimenNetwork.csv')\n",
    "df_timen_network"
   ]
  },
  {
   "cell_type": "code",
   "execution_count": 65,
   "id": "d772cc93",
   "metadata": {},
   "outputs": [
    {
     "name": "stdout",
     "output_type": "stream",
     "text": [
      "<class 'pandas.core.frame.DataFrame'>\n",
      "RangeIndex: 216110 entries, 0 to 216109\n",
      "Data columns (total 4 columns):\n",
      " #   Column        Non-Null Count   Dtype \n",
      "---  ------        --------------   ----- \n",
      " 0   Вых/Будни     216110 non-null  object\n",
      " 1   monitor_Time  216110 non-null  int64 \n",
      " 2   startTime     216110 non-null  object\n",
      " 3   id            216110 non-null  object\n",
      "dtypes: int64(1), object(3)\n",
      "memory usage: 6.6+ MB\n"
     ]
    }
   ],
   "source": [
    "df_timen_network.info()"
   ]
  },
  {
   "cell_type": "markdown",
   "id": "5f8b4139",
   "metadata": {},
   "source": [
    "Изменим тип данных у столбца с временем старта активности"
   ]
  },
  {
   "cell_type": "code",
   "execution_count": 66,
   "id": "eaf73518",
   "metadata": {},
   "outputs": [],
   "source": [
    "df_timen_network['startTime'] = pd.to_datetime(df_timen_network['startTime'])"
   ]
  },
  {
   "cell_type": "markdown",
   "id": "a1d48939",
   "metadata": {},
   "source": [
    "Построим гистограмму общего времени активности пользователя"
   ]
  },
  {
   "cell_type": "code",
   "execution_count": 79,
   "id": "7a2fe2e6",
   "metadata": {
    "scrolled": true
   },
   "outputs": [
    {
     "data": {
      "image/png": "[encoded data removed]",
      "text/plain": [
       "<Figure size 576x432 with 1 Axes>"
      ]
     },
     "metadata": {
      "needs_background": "light"
     },
     "output_type": "display_data"
    },
    {
     "data": {
      "text/plain": [
       "<AxesSubplot:>"
      ]
     },
     "execution_count": 79,
     "metadata": {},
     "output_type": "execute_result"
    },
    {
     "data": {
      "image/png": "[encoded data removed]",
      "text/plain": [
       "<Figure size 432x288 with 1 Axes>"
      ]
     },
     "metadata": {
      "needs_background": "light"
     },
     "output_type": "display_data"
    }
   ],
   "source": [
    "plt.figure(figsize=(8, 6))\n",
    "plt.hist(df_timen_network['monitor_Time'], bins=100)\n",
    "plt.title('Интервалы времени в сети в системе учета рабочего времени сотрудника за компьютером')\n",
    "plt.xlabel('Интервалы времени')\n",
    "plt.ylabel('Количество вхождений')\n",
    "plt.grid()\n",
    "plt.show()\n",
    "\n",
    "df_timen_network['monitor_Time'].hist(bins=100)"
   ]
  },
  {
   "cell_type": "markdown",
   "id": "bb2d699e",
   "metadata": {},
   "source": [
    "В данных есть пика в районе 0, он вероятно связан со спецификой работы сотрудников и длинный правый хвост, однако корректно интрепритировать эти данные сложно, поскольку непонятно в чём измеряется мониторинговое время"
   ]
  },
  {
   "cell_type": "markdown",
   "id": "dd840acb",
   "metadata": {},
   "source": [
    "Разделим датасет на рабочие и выходные дни"
   ]
  },
  {
   "cell_type": "code",
   "execution_count": 80,
   "id": "ab6fc706",
   "metadata": {},
   "outputs": [],
   "source": [
    "df_timen_network_workday = df_timen_network[df_timen_network['Вых/Будни']=='Будни']\n",
    "df_timen_network_workday = df_timen_network.drop('Вых/Будни', axis=1)"
   ]
  },
  {
   "cell_type": "code",
   "execution_count": 81,
   "id": "d5a59802",
   "metadata": {},
   "outputs": [],
   "source": [
    "df_timen_network_weekend = df_timen_network[df_timen_network['Вых/Будни']!='Будни']\n",
    "df_timen_network_weekend = df_timen_network.drop('Вых/Будни', axis=1)"
   ]
  },
  {
   "cell_type": "code",
   "execution_count": 82,
   "id": "2cc13840",
   "metadata": {},
   "outputs": [
    {
     "name": "stderr",
     "output_type": "stream",
     "text": [
      "C:\\Users\\Ярослав\\AppData\\Local\\Temp\\ipykernel_9876\\4113559760.py:1: FutureWarning: ['startTime'] did not aggregate successfully. If any error is raised this will raise in a future version of pandas. Drop these columns/ops to avoid this warning.\n",
      "  df_timen_network_workday = df_timen_network_workday.groupby('id').agg(agg_list)\n",
      "C:\\Users\\Ярослав\\AppData\\Local\\Temp\\ipykernel_9876\\4113559760.py:2: FutureWarning: ['startTime'] did not aggregate successfully. If any error is raised this will raise in a future version of pandas. Drop these columns/ops to avoid this warning.\n",
      "  df_timen_network_weekend = df_timen_network_weekend.groupby('id').agg(agg_list)\n"
     ]
    }
   ],
   "source": [
    "df_timen_network_workday = df_timen_network_workday.groupby('id').agg(agg_list)\n",
    "df_timen_network_weekend = df_timen_network_weekend.groupby('id').agg(agg_list)\n",
    "df_timen_network_workday.columns = get_new_name_columns(df_timen_network_workday, 'workday_')\n",
    "df_timen_network_weekend.columns = get_new_name_columns(df_timen_network_weekend, 'weekend_')"
   ]
  },
  {
   "cell_type": "markdown",
   "id": "222dfa8f",
   "metadata": {},
   "source": [
    "### Анализ датасета  с интервалами времени активности система учета рабочего времени сотрудника за компьютером"
   ]
  },
  {
   "cell_type": "code",
   "execution_count": 83,
   "id": "a52df8f6",
   "metadata": {},
   "outputs": [
    {
     "data": {
      "text/html": [
       "<div>\n",
       "<style scoped>\n",
       "    .dataframe tbody tr th:only-of-type {\n",
       "        vertical-align: middle;\n",
       "    }\n",
       "\n",
       "    .dataframe tbody tr th {\n",
       "        vertical-align: top;\n",
       "    }\n",
       "\n",
       "    .dataframe thead th {\n",
       "        text-align: right;\n",
       "    }\n",
       "</style>\n",
       "<table border=\"1\" class=\"dataframe\">\n",
       "  <thead>\n",
       "    <tr style=\"text-align: right;\">\n",
       "      <th></th>\n",
       "      <th>startTime</th>\n",
       "      <th>activeTime</th>\n",
       "      <th>Вых/Будни</th>\n",
       "      <th>monitorTime</th>\n",
       "      <th>id</th>\n",
       "    </tr>\n",
       "  </thead>\n",
       "  <tbody>\n",
       "    <tr>\n",
       "      <th>0</th>\n",
       "      <td>2021-11-30 00:00:00,000</td>\n",
       "      <td>2</td>\n",
       "      <td>Будни</td>\n",
       "      <td>2</td>\n",
       "      <td>ОРГ1-01553</td>\n",
       "    </tr>\n",
       "    <tr>\n",
       "      <th>1</th>\n",
       "      <td>2021-11-30 00:00:00,000</td>\n",
       "      <td>2</td>\n",
       "      <td>Будни</td>\n",
       "      <td>2</td>\n",
       "      <td>ОРГ1-02112</td>\n",
       "    </tr>\n",
       "    <tr>\n",
       "      <th>2</th>\n",
       "      <td>2021-11-30 00:00:00,000</td>\n",
       "      <td>2</td>\n",
       "      <td>Будни</td>\n",
       "      <td>2</td>\n",
       "      <td>ОРГ1-02112</td>\n",
       "    </tr>\n",
       "    <tr>\n",
       "      <th>3</th>\n",
       "      <td>2021-11-30 00:00:00,000</td>\n",
       "      <td>2</td>\n",
       "      <td>Будни</td>\n",
       "      <td>2</td>\n",
       "      <td>ОРГ1-01846</td>\n",
       "    </tr>\n",
       "    <tr>\n",
       "      <th>4</th>\n",
       "      <td>2021-11-30 00:00:00,000</td>\n",
       "      <td>2</td>\n",
       "      <td>Будни</td>\n",
       "      <td>2</td>\n",
       "      <td>ОРГ1-01846</td>\n",
       "    </tr>\n",
       "    <tr>\n",
       "      <th>...</th>\n",
       "      <td>...</td>\n",
       "      <td>...</td>\n",
       "      <td>...</td>\n",
       "      <td>...</td>\n",
       "      <td>...</td>\n",
       "    </tr>\n",
       "    <tr>\n",
       "      <th>1971922</th>\n",
       "      <td>2021-12-26 00:00:00,000</td>\n",
       "      <td>6</td>\n",
       "      <td>Выходные дни</td>\n",
       "      <td>6</td>\n",
       "      <td>ОРГ1-03092</td>\n",
       "    </tr>\n",
       "    <tr>\n",
       "      <th>1971923</th>\n",
       "      <td>2021-12-26 00:00:00,000</td>\n",
       "      <td>641</td>\n",
       "      <td>Выходные дни</td>\n",
       "      <td>1243</td>\n",
       "      <td>ОРГ1-03092</td>\n",
       "    </tr>\n",
       "    <tr>\n",
       "      <th>1971924</th>\n",
       "      <td>2021-12-26 00:00:00,000</td>\n",
       "      <td>426</td>\n",
       "      <td>Выходные дни</td>\n",
       "      <td>426</td>\n",
       "      <td>ОРГ1-03092</td>\n",
       "    </tr>\n",
       "    <tr>\n",
       "      <th>1971925</th>\n",
       "      <td>2021-12-26 00:00:00,000</td>\n",
       "      <td>10</td>\n",
       "      <td>Выходные дни</td>\n",
       "      <td>10</td>\n",
       "      <td>ОРГ1-03092</td>\n",
       "    </tr>\n",
       "    <tr>\n",
       "      <th>1971926</th>\n",
       "      <td>2021-12-26 00:00:00,000</td>\n",
       "      <td>401</td>\n",
       "      <td>Выходные дни</td>\n",
       "      <td>631</td>\n",
       "      <td>ОРГ1-03092</td>\n",
       "    </tr>\n",
       "  </tbody>\n",
       "</table>\n",
       "<p>1971927 rows × 5 columns</p>\n",
       "</div>"
      ],
      "text/plain": [
       "                       startTime  activeTime     Вых/Будни  monitorTime  \\\n",
       "0        2021-11-30 00:00:00,000           2         Будни            2   \n",
       "1        2021-11-30 00:00:00,000           2         Будни            2   \n",
       "2        2021-11-30 00:00:00,000           2         Будни            2   \n",
       "3        2021-11-30 00:00:00,000           2         Будни            2   \n",
       "4        2021-11-30 00:00:00,000           2         Будни            2   \n",
       "...                          ...         ...           ...          ...   \n",
       "1971922  2021-12-26 00:00:00,000           6  Выходные дни            6   \n",
       "1971923  2021-12-26 00:00:00,000         641  Выходные дни         1243   \n",
       "1971924  2021-12-26 00:00:00,000         426  Выходные дни          426   \n",
       "1971925  2021-12-26 00:00:00,000          10  Выходные дни           10   \n",
       "1971926  2021-12-26 00:00:00,000         401  Выходные дни          631   \n",
       "\n",
       "                 id  \n",
       "0        ОРГ1-01553  \n",
       "1        ОРГ1-02112  \n",
       "2        ОРГ1-02112  \n",
       "3        ОРГ1-01846  \n",
       "4        ОРГ1-01846  \n",
       "...             ...  \n",
       "1971922  ОРГ1-03092  \n",
       "1971923  ОРГ1-03092  \n",
       "1971924  ОРГ1-03092  \n",
       "1971925  ОРГ1-03092  \n",
       "1971926  ОРГ1-03092  \n",
       "\n",
       "[1971927 rows x 5 columns]"
      ]
     },
     "execution_count": 83,
     "metadata": {},
     "output_type": "execute_result"
    }
   ],
   "source": [
    "df_working_day = pd.read_csv('WorkingDay.csv')\n",
    "df_working_day"
   ]
  },
  {
   "cell_type": "code",
   "execution_count": 84,
   "id": "7278c26a",
   "metadata": {},
   "outputs": [
    {
     "name": "stdout",
     "output_type": "stream",
     "text": [
      "<class 'pandas.core.frame.DataFrame'>\n",
      "RangeIndex: 1971927 entries, 0 to 1971926\n",
      "Data columns (total 5 columns):\n",
      " #   Column       Dtype \n",
      "---  ------       ----- \n",
      " 0   startTime    object\n",
      " 1   activeTime   int64 \n",
      " 2   Вых/Будни    object\n",
      " 3   monitorTime  int64 \n",
      " 4   id           object\n",
      "dtypes: int64(2), object(3)\n",
      "memory usage: 75.2+ MB\n"
     ]
    }
   ],
   "source": [
    "df_working_day.info()"
   ]
  },
  {
   "cell_type": "markdown",
   "id": "4951422b",
   "metadata": {},
   "source": [
    "Приведём столбец startTime в нормальный формат даты"
   ]
  },
  {
   "cell_type": "code",
   "execution_count": 85,
   "id": "4c6a501c",
   "metadata": {},
   "outputs": [],
   "source": [
    "df_working_day['startTime'] = pd.to_datetime(df_working_day['startTime'])"
   ]
  },
  {
   "cell_type": "markdown",
   "id": "3c986c00",
   "metadata": {},
   "source": [
    "Введём столбец с коэффициентом активности, который будет считать отношение активного времени к общему времени пользования компьютером"
   ]
  },
  {
   "cell_type": "code",
   "execution_count": 86,
   "id": "9bf8e6db",
   "metadata": {},
   "outputs": [],
   "source": [
    "df_working_day['ratio_of_activity'] = df_working_day['activeTime'] / df_working_day['monitorTime']"
   ]
  },
  {
   "cell_type": "markdown",
   "id": "8be9289b",
   "metadata": {},
   "source": [
    "Построим гистограмму доли активного времени сотрудника"
   ]
  },
  {
   "cell_type": "code",
   "execution_count": 87,
   "id": "be5f12aa",
   "metadata": {},
   "outputs": [
    {
     "data": {
      "image/png": "[encoded data removed]",
      "text/plain": [
       "<Figure size 576x432 with 1 Axes>"
      ]
     },
     "metadata": {
      "needs_background": "light"
     },
     "output_type": "display_data"
    }
   ],
   "source": [
    "plt.figure(figsize=(8, 6))\n",
    "plt.hist(df_working_day['ratio_of_activity'], bins=100)\n",
    "plt.title('Доля активного времени сотрудника')\n",
    "plt.xlabel('Доля активного времени')\n",
    "plt.ylabel('Количество вхождений')\n",
    "plt.grid()\n",
    "plt.show()"
   ]
  },
  {
   "cell_type": "markdown",
   "id": "b6aa47b4",
   "metadata": {},
   "source": [
    "Выделим датасет рабочего и выходного дня"
   ]
  },
  {
   "cell_type": "code",
   "execution_count": 88,
   "id": "7831902b",
   "metadata": {},
   "outputs": [],
   "source": [
    "df_working_day_workday = df_working_day[df_working_day['Вых/Будни']=='Будни']\n",
    "df_working_day_workday = df_working_day.drop('Вых/Будни', axis=1)"
   ]
  },
  {
   "cell_type": "code",
   "execution_count": 89,
   "id": "1a7cc436",
   "metadata": {},
   "outputs": [],
   "source": [
    "df_working_day_weekend = df_working_day[df_working_day['Вых/Будни']!='Будни']\n",
    "df_working_day_weekend = df_working_day.drop('Вых/Будни', axis=1)"
   ]
  },
  {
   "cell_type": "code",
   "execution_count": 90,
   "id": "16f128cd",
   "metadata": {},
   "outputs": [
    {
     "data": {
      "text/html": [
       "<div>\n",
       "<style scoped>\n",
       "    .dataframe tbody tr th:only-of-type {\n",
       "        vertical-align: middle;\n",
       "    }\n",
       "\n",
       "    .dataframe tbody tr th {\n",
       "        vertical-align: top;\n",
       "    }\n",
       "\n",
       "    .dataframe thead th {\n",
       "        text-align: right;\n",
       "    }\n",
       "</style>\n",
       "<table border=\"1\" class=\"dataframe\">\n",
       "  <thead>\n",
       "    <tr style=\"text-align: right;\">\n",
       "      <th></th>\n",
       "      <th>startTime</th>\n",
       "      <th>activeTime</th>\n",
       "      <th>Вых/Будни</th>\n",
       "      <th>monitorTime</th>\n",
       "      <th>id</th>\n",
       "      <th>ratio_of_activity</th>\n",
       "    </tr>\n",
       "  </thead>\n",
       "  <tbody>\n",
       "    <tr>\n",
       "      <th>0</th>\n",
       "      <td>2021-11-30</td>\n",
       "      <td>2</td>\n",
       "      <td>Будни</td>\n",
       "      <td>2</td>\n",
       "      <td>ОРГ1-01553</td>\n",
       "      <td>1.000000</td>\n",
       "    </tr>\n",
       "    <tr>\n",
       "      <th>1</th>\n",
       "      <td>2021-11-30</td>\n",
       "      <td>2</td>\n",
       "      <td>Будни</td>\n",
       "      <td>2</td>\n",
       "      <td>ОРГ1-02112</td>\n",
       "      <td>1.000000</td>\n",
       "    </tr>\n",
       "    <tr>\n",
       "      <th>2</th>\n",
       "      <td>2021-11-30</td>\n",
       "      <td>2</td>\n",
       "      <td>Будни</td>\n",
       "      <td>2</td>\n",
       "      <td>ОРГ1-02112</td>\n",
       "      <td>1.000000</td>\n",
       "    </tr>\n",
       "    <tr>\n",
       "      <th>3</th>\n",
       "      <td>2021-11-30</td>\n",
       "      <td>2</td>\n",
       "      <td>Будни</td>\n",
       "      <td>2</td>\n",
       "      <td>ОРГ1-01846</td>\n",
       "      <td>1.000000</td>\n",
       "    </tr>\n",
       "    <tr>\n",
       "      <th>4</th>\n",
       "      <td>2021-11-30</td>\n",
       "      <td>2</td>\n",
       "      <td>Будни</td>\n",
       "      <td>2</td>\n",
       "      <td>ОРГ1-01846</td>\n",
       "      <td>1.000000</td>\n",
       "    </tr>\n",
       "    <tr>\n",
       "      <th>...</th>\n",
       "      <td>...</td>\n",
       "      <td>...</td>\n",
       "      <td>...</td>\n",
       "      <td>...</td>\n",
       "      <td>...</td>\n",
       "      <td>...</td>\n",
       "    </tr>\n",
       "    <tr>\n",
       "      <th>1971922</th>\n",
       "      <td>2021-12-26</td>\n",
       "      <td>6</td>\n",
       "      <td>Выходные дни</td>\n",
       "      <td>6</td>\n",
       "      <td>ОРГ1-03092</td>\n",
       "      <td>1.000000</td>\n",
       "    </tr>\n",
       "    <tr>\n",
       "      <th>1971923</th>\n",
       "      <td>2021-12-26</td>\n",
       "      <td>641</td>\n",
       "      <td>Выходные дни</td>\n",
       "      <td>1243</td>\n",
       "      <td>ОРГ1-03092</td>\n",
       "      <td>0.515688</td>\n",
       "    </tr>\n",
       "    <tr>\n",
       "      <th>1971924</th>\n",
       "      <td>2021-12-26</td>\n",
       "      <td>426</td>\n",
       "      <td>Выходные дни</td>\n",
       "      <td>426</td>\n",
       "      <td>ОРГ1-03092</td>\n",
       "      <td>1.000000</td>\n",
       "    </tr>\n",
       "    <tr>\n",
       "      <th>1971925</th>\n",
       "      <td>2021-12-26</td>\n",
       "      <td>10</td>\n",
       "      <td>Выходные дни</td>\n",
       "      <td>10</td>\n",
       "      <td>ОРГ1-03092</td>\n",
       "      <td>1.000000</td>\n",
       "    </tr>\n",
       "    <tr>\n",
       "      <th>1971926</th>\n",
       "      <td>2021-12-26</td>\n",
       "      <td>401</td>\n",
       "      <td>Выходные дни</td>\n",
       "      <td>631</td>\n",
       "      <td>ОРГ1-03092</td>\n",
       "      <td>0.635499</td>\n",
       "    </tr>\n",
       "  </tbody>\n",
       "</table>\n",
       "<p>1971927 rows × 6 columns</p>\n",
       "</div>"
      ],
      "text/plain": [
       "         startTime  activeTime     Вых/Будни  monitorTime          id  \\\n",
       "0       2021-11-30           2         Будни            2  ОРГ1-01553   \n",
       "1       2021-11-30           2         Будни            2  ОРГ1-02112   \n",
       "2       2021-11-30           2         Будни            2  ОРГ1-02112   \n",
       "3       2021-11-30           2         Будни            2  ОРГ1-01846   \n",
       "4       2021-11-30           2         Будни            2  ОРГ1-01846   \n",
       "...            ...         ...           ...          ...         ...   \n",
       "1971922 2021-12-26           6  Выходные дни            6  ОРГ1-03092   \n",
       "1971923 2021-12-26         641  Выходные дни         1243  ОРГ1-03092   \n",
       "1971924 2021-12-26         426  Выходные дни          426  ОРГ1-03092   \n",
       "1971925 2021-12-26          10  Выходные дни           10  ОРГ1-03092   \n",
       "1971926 2021-12-26         401  Выходные дни          631  ОРГ1-03092   \n",
       "\n",
       "         ratio_of_activity  \n",
       "0                 1.000000  \n",
       "1                 1.000000  \n",
       "2                 1.000000  \n",
       "3                 1.000000  \n",
       "4                 1.000000  \n",
       "...                    ...  \n",
       "1971922           1.000000  \n",
       "1971923           0.515688  \n",
       "1971924           1.000000  \n",
       "1971925           1.000000  \n",
       "1971926           0.635499  \n",
       "\n",
       "[1971927 rows x 6 columns]"
      ]
     },
     "execution_count": 90,
     "metadata": {},
     "output_type": "execute_result"
    }
   ],
   "source": [
    "df_working_day"
   ]
  },
  {
   "cell_type": "code",
   "execution_count": 91,
   "id": "d7108510",
   "metadata": {},
   "outputs": [
    {
     "name": "stderr",
     "output_type": "stream",
     "text": [
      "C:\\Users\\Ярослав\\AppData\\Local\\Temp\\ipykernel_9876\\3986617357.py:1: FutureWarning: ['startTime'] did not aggregate successfully. If any error is raised this will raise in a future version of pandas. Drop these columns/ops to avoid this warning.\n",
      "  df_working_day_workday = df_working_day_workday.groupby('id').agg(agg_list)\n",
      "C:\\Users\\Ярослав\\AppData\\Local\\Temp\\ipykernel_9876\\3986617357.py:2: FutureWarning: ['startTime'] did not aggregate successfully. If any error is raised this will raise in a future version of pandas. Drop these columns/ops to avoid this warning.\n",
      "  df_working_day_weekend = df_working_day_weekend.groupby('id').agg(agg_list)\n"
     ]
    }
   ],
   "source": [
    "df_working_day_workday = df_working_day_workday.groupby('id').agg(agg_list)\n",
    "df_working_day_weekend = df_working_day_weekend.groupby('id').agg(agg_list)\n",
    "df_working_day_workday.columns = get_new_name_columns(df_working_day_workday, 'workday_')\n",
    "df_working_day_weekend.columns = get_new_name_columns(df_working_day_weekend, 'weekend_')"
   ]
  },
  {
   "cell_type": "markdown",
   "id": "0da66914",
   "metadata": {},
   "source": [
    "### Анализ датасета  с образованием"
   ]
  },
  {
   "cell_type": "code",
   "execution_count": 92,
   "id": "92935910",
   "metadata": {},
   "outputs": [
    {
     "data": {
      "text/html": [
       "<div>\n",
       "<style scoped>\n",
       "    .dataframe tbody tr th:only-of-type {\n",
       "        vertical-align: middle;\n",
       "    }\n",
       "\n",
       "    .dataframe tbody tr th {\n",
       "        vertical-align: top;\n",
       "    }\n",
       "\n",
       "    .dataframe thead th {\n",
       "        text-align: right;\n",
       "    }\n",
       "</style>\n",
       "<table border=\"1\" class=\"dataframe\">\n",
       "  <thead>\n",
       "    <tr style=\"text-align: right;\">\n",
       "      <th></th>\n",
       "      <th>Табельный номер руководителя</th>\n",
       "      <th>id</th>\n",
       "      <th>Вид образования</th>\n",
       "      <th>Специальность</th>\n",
       "    </tr>\n",
       "  </thead>\n",
       "  <tbody>\n",
       "    <tr>\n",
       "      <th>0</th>\n",
       "      <td>NaN</td>\n",
       "      <td>ОРГ1-00131</td>\n",
       "      <td>Высшее образование - бакалавриат</td>\n",
       "      <td>Юриспруденция</td>\n",
       "    </tr>\n",
       "    <tr>\n",
       "      <th>1</th>\n",
       "      <td>NaN</td>\n",
       "      <td>ОРГ1-03220</td>\n",
       "      <td>Среднее профессиональное образование</td>\n",
       "      <td>Финансы</td>\n",
       "    </tr>\n",
       "    <tr>\n",
       "      <th>2</th>\n",
       "      <td>NaN</td>\n",
       "      <td>ОРГ1-03008</td>\n",
       "      <td>Высшее образование</td>\n",
       "      <td>Юриспруденция</td>\n",
       "    </tr>\n",
       "    <tr>\n",
       "      <th>3</th>\n",
       "      <td>NaN</td>\n",
       "      <td>ОРГ1-00922</td>\n",
       "      <td>Высшее образование - бакалавриат</td>\n",
       "      <td>Бакалавр технических наук</td>\n",
       "    </tr>\n",
       "    <tr>\n",
       "      <th>4</th>\n",
       "      <td>NaN</td>\n",
       "      <td>ОРГ1-00922</td>\n",
       "      <td>Высшее образование</td>\n",
       "      <td>Машины и аппараты химических производств и пре...</td>\n",
       "    </tr>\n",
       "    <tr>\n",
       "      <th>...</th>\n",
       "      <td>...</td>\n",
       "      <td>...</td>\n",
       "      <td>...</td>\n",
       "      <td>...</td>\n",
       "    </tr>\n",
       "    <tr>\n",
       "      <th>5604</th>\n",
       "      <td>ОРГ2-09100</td>\n",
       "      <td>ОРГ2-08601</td>\n",
       "      <td>Начальное профессиональное образование</td>\n",
       "      <td>Специалист сварочного производства I уровня</td>\n",
       "    </tr>\n",
       "    <tr>\n",
       "      <th>5605</th>\n",
       "      <td>ОРГ2-09100</td>\n",
       "      <td>ОРГ2-08622</td>\n",
       "      <td>Начальное профессиональное образование</td>\n",
       "      <td>NaN</td>\n",
       "    </tr>\n",
       "    <tr>\n",
       "      <th>5606</th>\n",
       "      <td>ОРГ2-09100</td>\n",
       "      <td>ОРГ2-04773</td>\n",
       "      <td>Среднее профессиональное образование</td>\n",
       "      <td>Дефектоскопист рентгено-, гаммаграфирования</td>\n",
       "    </tr>\n",
       "    <tr>\n",
       "      <th>5607</th>\n",
       "      <td>ОРГ2-09100</td>\n",
       "      <td>ОРГ2-05048</td>\n",
       "      <td>Высшее образование - специалитет, магистратура</td>\n",
       "      <td>Управление и информатика в технических системах</td>\n",
       "    </tr>\n",
       "    <tr>\n",
       "      <th>5608</th>\n",
       "      <td>ОРГ2-09100</td>\n",
       "      <td>ОРГ2-02124</td>\n",
       "      <td>Начальное профессиональное образование</td>\n",
       "      <td>NaN</td>\n",
       "    </tr>\n",
       "  </tbody>\n",
       "</table>\n",
       "<p>5609 rows × 4 columns</p>\n",
       "</div>"
      ],
      "text/plain": [
       "     Табельный номер руководителя          id  \\\n",
       "0                             NaN  ОРГ1-00131   \n",
       "1                             NaN  ОРГ1-03220   \n",
       "2                             NaN  ОРГ1-03008   \n",
       "3                             NaN  ОРГ1-00922   \n",
       "4                             NaN  ОРГ1-00922   \n",
       "...                           ...         ...   \n",
       "5604                   ОРГ2-09100  ОРГ2-08601   \n",
       "5605                   ОРГ2-09100  ОРГ2-08622   \n",
       "5606                   ОРГ2-09100  ОРГ2-04773   \n",
       "5607                   ОРГ2-09100  ОРГ2-05048   \n",
       "5608                   ОРГ2-09100  ОРГ2-02124   \n",
       "\n",
       "                                     Вид образования  \\\n",
       "0                   Высшее образование - бакалавриат   \n",
       "1               Среднее профессиональное образование   \n",
       "2                                 Высшее образование   \n",
       "3                   Высшее образование - бакалавриат   \n",
       "4                                 Высшее образование   \n",
       "...                                              ...   \n",
       "5604          Начальное профессиональное образование   \n",
       "5605          Начальное профессиональное образование   \n",
       "5606            Среднее профессиональное образование   \n",
       "5607  Высшее образование - специалитет, магистратура   \n",
       "5608          Начальное профессиональное образование   \n",
       "\n",
       "                                          Специальность  \n",
       "0                                         Юриспруденция  \n",
       "1                                               Финансы  \n",
       "2                                         Юриспруденция  \n",
       "3                             Бакалавр технических наук  \n",
       "4     Машины и аппараты химических производств и пре...  \n",
       "...                                                 ...  \n",
       "5604        Специалист сварочного производства I уровня  \n",
       "5605                                                NaN  \n",
       "5606        Дефектоскопист рентгено-, гаммаграфирования  \n",
       "5607    Управление и информатика в технических системах  \n",
       "5608                                                NaN  \n",
       "\n",
       "[5609 rows x 4 columns]"
      ]
     },
     "execution_count": 92,
     "metadata": {},
     "output_type": "execute_result"
    }
   ],
   "source": [
    "df_education = pd.read_csv('Education.csv')\n",
    "df_education"
   ]
  },
  {
   "cell_type": "markdown",
   "id": "e0f92dce",
   "metadata": {},
   "source": [
    "Исходя из специальности будет сложно получить полезный признак, поскольку не известно как соотносится данный показатель с занимаемой должностью. Однако можно поработать с видом образования. Для этого сначала изучим какие переменные встречаются в данном столбце."
   ]
  },
  {
   "cell_type": "code",
   "execution_count": 93,
   "id": "4d5ae825",
   "metadata": {},
   "outputs": [
    {
     "data": {
      "text/plain": [
       "Высшее образование                                1440\n",
       "Среднее профессиональное образование              1009\n",
       "Среднее общее образование                          620\n",
       "Начальное профессиональное образование             573\n",
       "Профессиональное обучение                          497\n",
       "Повышение квалификации                             392\n",
       "Высшее образование - бакалавриат                   365\n",
       "Высшее образование - специалитет, магистратура     327\n",
       "Среднее (полное) общее образование                 111\n",
       "Основное общее образование                          66\n",
       "Переподготовка                                      52\n",
       "Дополнительное профессиональное образование         23\n",
       "Неполное высшее образование                         21\n",
       "Аспирантура                                          6\n",
       "Начальное общее образование                          6\n",
       "Послевузовское образование                           2\n",
       "Name: Вид образования, dtype: int64"
      ]
     },
     "execution_count": 93,
     "metadata": {},
     "output_type": "execute_result"
    }
   ],
   "source": [
    "df_education['Вид образования'].value_counts()"
   ]
  },
  {
   "cell_type": "markdown",
   "id": "356a3218",
   "metadata": {},
   "source": [
    "В датасете много наименований схожих видов образования. Нужно будет сгруппировать и переименовать их по следующей схеме:\n",
    "\n",
    "* Высшее образование (Высшее образование, Высшее образование - бакалавриат, Высшее образование - специалитет, магистратура)\n",
    "* Среднее и начальное профессиональное образование (Среднее профессиональное образование, Начальное профессиональное образование, Профессиональное обучение, Неполное высшее образование)\n",
    "* Среднее, основное и начальное общее образование (Среднее общее образование, Среднее (полное) общее образование, Основное общее образование, Начальное общее образование)\n",
    "* Дополнительное образование (Повышение квалификации, Переподготовка, Дополнительное профессиональное образование, Послевузовское образование)\n",
    "* Аспирантура"
   ]
  },
  {
   "cell_type": "code",
   "execution_count": 94,
   "id": "0e03c1cd",
   "metadata": {},
   "outputs": [],
   "source": [
    "name_map = {'Высшее образование': 'Высшее образование' ,\n",
    "           'Высшее образование - бакалавриат': 'Высшее образование' ,\n",
    "           'Высшее образование - специалитет, магистратура': 'Высшее образование' ,\n",
    "            \n",
    "           'Среднее профессиональное образование':'Среднее и начальное профессиональное образование', \n",
    "            'Начальное профессиональное образование':'Среднее и начальное профессиональное образование',\n",
    "            'Профессиональное обучение':'Среднее и начальное профессиональное образование', \n",
    "            'Неполное высшее образование':'Среднее и начальное профессиональное образование',\n",
    "           \n",
    "           'Среднее общее образование': 'Среднее, основное и начальное общее образование', \n",
    "            'Среднее (полное) общее образование': 'Среднее, основное и начальное общее образование',\n",
    "            'Основное общее образование': 'Среднее, основное и начальное общее образование',\n",
    "            'Начальное общее образование': 'Среднее, основное и начальное общее образование',\n",
    "           \n",
    "           'Повышение квалификации': 'Дополнительное образование', \n",
    "            'Переподготовка': 'Дополнительное образование',  \n",
    "            'Дополнительное профессиональное образование': 'Дополнительное образование',  \n",
    "            'Послевузовское образование': 'Дополнительное образование', \n",
    "           'Аспирантура': 'Аспирантура'}"
   ]
  },
  {
   "cell_type": "code",
   "execution_count": 95,
   "id": "e92dba4c",
   "metadata": {},
   "outputs": [
    {
     "data": {
      "text/plain": [
       "Высшее образование                                  2132\n",
       "Среднее и начальное профессиональное образование    2100\n",
       "Среднее, основное и начальное общее образование      803\n",
       "Дополнительное образование                           469\n",
       "другое                                                99\n",
       "Аспирантура                                            6\n",
       "Name: Вид образования, dtype: int64"
      ]
     },
     "execution_count": 95,
     "metadata": {},
     "output_type": "execute_result"
    }
   ],
   "source": [
    "df_education['Вид образования'] = df_education['Вид образования'].map(name_map)\n",
    "df_education['Вид образования'] = df_education['Вид образования'].fillna('другое')\n",
    "df_education['Вид образования'].value_counts()"
   ]
  },
  {
   "cell_type": "code",
   "execution_count": 98,
   "id": "e38d7000",
   "metadata": {},
   "outputs": [
    {
     "data": {
      "image/png": "[encoded data removed]",
      "text/plain": [
       "<Figure size 576x432 with 1 Axes>"
      ]
     },
     "metadata": {
      "needs_background": "light"
     },
     "output_type": "display_data"
    }
   ],
   "source": [
    "plt.figure(figsize=(8, 6))\n",
    "sns.countplot(x='Вид образования', data=df_education)\n",
    "plt.title('Распределение типов образования сотрудников')\n",
    "plt.xlabel('Тип образования')\n",
    "plt.xticks(rotation=90)\n",
    "plt.ylabel('Количество сотрудников')\n",
    "plt.show()"
   ]
  },
  {
   "cell_type": "markdown",
   "id": "d8a3e86c",
   "metadata": {},
   "source": [
    "Посмотрим количество id"
   ]
  },
  {
   "cell_type": "code",
   "execution_count": 99,
   "id": "a2006db4",
   "metadata": {},
   "outputs": [
    {
     "data": {
      "text/plain": [
       "ОРГ1-02554    15\n",
       "ОРГ1-02179    13\n",
       "ОРГ1-00483    10\n",
       "ОРГ1-02013     9\n",
       "ОРГ1-01806     8\n",
       "              ..\n",
       "ОРГ2-06199     1\n",
       "ОРГ2-02971     1\n",
       "ОРГ2-07932     1\n",
       "ОРГ2-05408     1\n",
       "ОРГ2-02124     1\n",
       "Name: id, Length: 4788, dtype: int64"
      ]
     },
     "execution_count": 99,
     "metadata": {},
     "output_type": "execute_result"
    }
   ],
   "source": [
    "df_education['id'].value_counts()"
   ]
  },
  {
   "cell_type": "code",
   "execution_count": 101,
   "id": "f0210fac",
   "metadata": {},
   "outputs": [
    {
     "data": {
      "image/png": "[encoded data removed]",
      "text/plain": [
       "<Figure size 576x432 with 1 Axes>"
      ]
     },
     "metadata": {
      "needs_background": "light"
     },
     "output_type": "display_data"
    }
   ],
   "source": [
    "plt.figure(figsize=(8, 6))\n",
    "plt.hist(df_education['id'].value_counts(), bins=14)\n",
    "plt.title('Количество образований на каждого сотрудника')\n",
    "plt.xlabel('Количество документов об образовании')\n",
    "plt.ylabel('Количество вхождений')\n",
    "plt.grid()\n",
    "plt.show()"
   ]
  },
  {
   "cell_type": "markdown",
   "id": "f0186181",
   "metadata": {},
   "source": [
    "Из данных видно, что один и тот же работник может встречаться несколько раз. Соответственно необходимо сделать OneHotEncoded и сгруппировать данные по пользователю."
   ]
  },
  {
   "cell_type": "code",
   "execution_count": 102,
   "id": "fd2257f3",
   "metadata": {},
   "outputs": [],
   "source": [
    "df_education = pd.concat([df_education, pd.get_dummies(df_education['Вид образования'])], axis=1)"
   ]
  },
  {
   "cell_type": "code",
   "execution_count": 103,
   "id": "383faa00",
   "metadata": {},
   "outputs": [],
   "source": [
    "df_education = df_education.drop(['Табельный номер руководителя', 'Вид образования', 'Специальность'], axis=1)"
   ]
  },
  {
   "cell_type": "code",
   "execution_count": 104,
   "id": "8f1501aa",
   "metadata": {},
   "outputs": [],
   "source": [
    "df_education = df_education.groupby('id').agg('sum')"
   ]
  },
  {
   "cell_type": "markdown",
   "id": "e4f5d4e8",
   "metadata": {},
   "source": [
    "### Анализ датасета  с задачами"
   ]
  },
  {
   "cell_type": "code",
   "execution_count": 105,
   "id": "48dea7d1",
   "metadata": {},
   "outputs": [
    {
     "name": "stderr",
     "output_type": "stream",
     "text": [
      "C:\\Users\\Ярослав\\AppData\\Local\\Temp\\ipykernel_9876\\4103289469.py:1: DtypeWarning: Columns (1,7) have mixed types. Specify dtype option on import or set low_memory=False.\n",
      "  df_tasks = pd.read_csv('Tasks.csv')\n"
     ]
    },
    {
     "data": {
      "text/html": [
       "<div>\n",
       "<style scoped>\n",
       "    .dataframe tbody tr th:only-of-type {\n",
       "        vertical-align: middle;\n",
       "    }\n",
       "\n",
       "    .dataframe tbody tr th {\n",
       "        vertical-align: top;\n",
       "    }\n",
       "\n",
       "    .dataframe thead th {\n",
       "        text-align: right;\n",
       "    }\n",
       "</style>\n",
       "<table border=\"1\" class=\"dataframe\">\n",
       "  <thead>\n",
       "    <tr style=\"text-align: right;\">\n",
       "      <th></th>\n",
       "      <th>Статус по просрочке</th>\n",
       "      <th>Срок плановый</th>\n",
       "      <th>Просрочено, дней</th>\n",
       "      <th>ДлительностьПросрочки</th>\n",
       "      <th>ID задачи</th>\n",
       "      <th>Вид документа</th>\n",
       "      <th>Дата старта задания</th>\n",
       "      <th>Дата завершения задания плановая</th>\n",
       "      <th>Дата завершения задания фактическая</th>\n",
       "      <th>Состояние задания</th>\n",
       "      <th>id</th>\n",
       "    </tr>\n",
       "  </thead>\n",
       "  <tbody>\n",
       "    <tr>\n",
       "      <th>0</th>\n",
       "      <td>Без нарушения срока</td>\n",
       "      <td>NaN</td>\n",
       "      <td>0</td>\n",
       "      <td>без нарушения срока</td>\n",
       "      <td>E1DE844D-EE2D-4C41-AEDF-93F246749F0E</td>\n",
       "      <td>Служебная записка</td>\n",
       "      <td>2021-12-10 00:00:00,000</td>\n",
       "      <td>NaN</td>\n",
       "      <td>2021-12-10 00:00:00,000</td>\n",
       "      <td>Завершено</td>\n",
       "      <td>ОРГ1-02588</td>\n",
       "    </tr>\n",
       "    <tr>\n",
       "      <th>1</th>\n",
       "      <td>Без нарушения срока</td>\n",
       "      <td>NaN</td>\n",
       "      <td>0</td>\n",
       "      <td>без нарушения срока</td>\n",
       "      <td>7A92343C-8C9A-46E7-AC81-8F50F95009D0</td>\n",
       "      <td>Служебная записка</td>\n",
       "      <td>2021-12-10 00:00:00,000</td>\n",
       "      <td>NaN</td>\n",
       "      <td>2021-12-10 00:00:00,000</td>\n",
       "      <td>Завершено</td>\n",
       "      <td>ОРГ1-02588</td>\n",
       "    </tr>\n",
       "    <tr>\n",
       "      <th>2</th>\n",
       "      <td>Без нарушения срока</td>\n",
       "      <td>NaN</td>\n",
       "      <td>0</td>\n",
       "      <td>без нарушения срока</td>\n",
       "      <td>5CE64E52-D2D1-4DCC-B2C8-34734AA39AC0</td>\n",
       "      <td>Служебная записка</td>\n",
       "      <td>2021-12-10 00:00:00,000</td>\n",
       "      <td>NaN</td>\n",
       "      <td>2021-12-10 00:00:00,000</td>\n",
       "      <td>Завершено</td>\n",
       "      <td>ОРГ1-02588</td>\n",
       "    </tr>\n",
       "    <tr>\n",
       "      <th>3</th>\n",
       "      <td>Без нарушения срока</td>\n",
       "      <td>NaN</td>\n",
       "      <td>0</td>\n",
       "      <td>без нарушения срока</td>\n",
       "      <td>7A28F3DD-983F-4127-AB7F-6EDB85A69F1C</td>\n",
       "      <td>Служебная записка</td>\n",
       "      <td>2021-12-10 00:00:00,000</td>\n",
       "      <td>NaN</td>\n",
       "      <td>2021-12-10 00:00:00,000</td>\n",
       "      <td>Завершено</td>\n",
       "      <td>ОРГ1-02588</td>\n",
       "    </tr>\n",
       "    <tr>\n",
       "      <th>4</th>\n",
       "      <td>Без нарушения срока</td>\n",
       "      <td>NaN</td>\n",
       "      <td>0</td>\n",
       "      <td>без нарушения срока</td>\n",
       "      <td>ABFFAF61-12D8-44C2-B1F6-8402D174889E</td>\n",
       "      <td>Служебная записка</td>\n",
       "      <td>2021-12-10 00:00:00,000</td>\n",
       "      <td>NaN</td>\n",
       "      <td>2021-12-10 00:00:00,000</td>\n",
       "      <td>Завершено</td>\n",
       "      <td>ОРГ1-02588</td>\n",
       "    </tr>\n",
       "  </tbody>\n",
       "</table>\n",
       "</div>"
      ],
      "text/plain": [
       "   Статус по просрочке Срок плановый  Просрочено, дней ДлительностьПросрочки  \\\n",
       "0  Без нарушения срока           NaN                 0   без нарушения срока   \n",
       "1  Без нарушения срока           NaN                 0   без нарушения срока   \n",
       "2  Без нарушения срока           NaN                 0   без нарушения срока   \n",
       "3  Без нарушения срока           NaN                 0   без нарушения срока   \n",
       "4  Без нарушения срока           NaN                 0   без нарушения срока   \n",
       "\n",
       "                              ID задачи      Вид документа  \\\n",
       "0  E1DE844D-EE2D-4C41-AEDF-93F246749F0E  Служебная записка   \n",
       "1  7A92343C-8C9A-46E7-AC81-8F50F95009D0  Служебная записка   \n",
       "2  5CE64E52-D2D1-4DCC-B2C8-34734AA39AC0  Служебная записка   \n",
       "3  7A28F3DD-983F-4127-AB7F-6EDB85A69F1C  Служебная записка   \n",
       "4  ABFFAF61-12D8-44C2-B1F6-8402D174889E  Служебная записка   \n",
       "\n",
       "       Дата старта задания Дата завершения задания плановая  \\\n",
       "0  2021-12-10 00:00:00,000                              NaN   \n",
       "1  2021-12-10 00:00:00,000                              NaN   \n",
       "2  2021-12-10 00:00:00,000                              NaN   \n",
       "3  2021-12-10 00:00:00,000                              NaN   \n",
       "4  2021-12-10 00:00:00,000                              NaN   \n",
       "\n",
       "  Дата завершения задания фактическая Состояние задания          id  \n",
       "0             2021-12-10 00:00:00,000         Завершено  ОРГ1-02588  \n",
       "1             2021-12-10 00:00:00,000         Завершено  ОРГ1-02588  \n",
       "2             2021-12-10 00:00:00,000         Завершено  ОРГ1-02588  \n",
       "3             2021-12-10 00:00:00,000         Завершено  ОРГ1-02588  \n",
       "4             2021-12-10 00:00:00,000         Завершено  ОРГ1-02588  "
      ]
     },
     "execution_count": 105,
     "metadata": {},
     "output_type": "execute_result"
    }
   ],
   "source": [
    "df_tasks = pd.read_csv('Tasks.csv')\n",
    "df_tasks.head(5)"
   ]
  },
  {
   "cell_type": "code",
   "execution_count": 106,
   "id": "50997351",
   "metadata": {},
   "outputs": [
    {
     "name": "stdout",
     "output_type": "stream",
     "text": [
      "<class 'pandas.core.frame.DataFrame'>\n",
      "RangeIndex: 536660 entries, 0 to 536659\n",
      "Data columns (total 11 columns):\n",
      " #   Column                               Non-Null Count   Dtype \n",
      "---  ------                               --------------   ----- \n",
      " 0   Статус по просрочке                  536660 non-null  object\n",
      " 1   Срок плановый                        15821 non-null   object\n",
      " 2   Просрочено, дней                     536660 non-null  int64 \n",
      " 3   ДлительностьПросрочки                536660 non-null  object\n",
      " 4   ID задачи                            536660 non-null  object\n",
      " 5   Вид документа                        533143 non-null  object\n",
      " 6   Дата старта задания                  536660 non-null  object\n",
      " 7   Дата завершения задания плановая     274057 non-null  object\n",
      " 8   Дата завершения задания фактическая  520683 non-null  object\n",
      " 9   Состояние задания                    536660 non-null  object\n",
      " 10  id                                   536660 non-null  object\n",
      "dtypes: int64(1), object(10)\n",
      "memory usage: 45.0+ MB\n"
     ]
    }
   ],
   "source": [
    "df_tasks.info()"
   ]
  },
  {
   "cell_type": "code",
   "execution_count": 107,
   "id": "6f831155",
   "metadata": {},
   "outputs": [
    {
     "data": {
      "image/png": "[encoded data removed]",
      "text/plain": [
       "<Figure size 576x432 with 1 Axes>"
      ]
     },
     "metadata": {
      "needs_background": "light"
     },
     "output_type": "display_data"
    }
   ],
   "source": [
    "plt.figure(figsize=(8, 6))\n",
    "sns.countplot(x='ДлительностьПросрочки', data=df_tasks)\n",
    "plt.title('Распределение типов просрочки задач сотрудниками')\n",
    "plt.xlabel('Тип просрочки')\n",
    "plt.xticks(rotation=90)\n",
    "plt.ylabel('Количество задач')\n",
    "plt.show()"
   ]
  },
  {
   "cell_type": "markdown",
   "id": "e98839d9",
   "metadata": {},
   "source": [
    "В датасете проблемы с типами данных. Даты не приведены в правильный форма. Столбцы Срок плановый и Дата завершения задания, плановая идентичны. Поэтому удалим столбец Срок плановый"
   ]
  },
  {
   "cell_type": "code",
   "execution_count": 87,
   "id": "9f631de4",
   "metadata": {},
   "outputs": [],
   "source": [
    "df_tasks = df_tasks.drop('Срок плановый', axis=1)"
   ]
  },
  {
   "cell_type": "markdown",
   "id": "919df4cd",
   "metadata": {},
   "source": [
    "Приведём столбцы с датами к нужному типу."
   ]
  },
  {
   "cell_type": "code",
   "execution_count": 88,
   "id": "2b903a6d",
   "metadata": {},
   "outputs": [],
   "source": [
    "df_tasks['Дата завершения задания фактическая'] = pd.to_datetime(df_tasks['Дата завершения задания фактическая'])\n",
    "df_tasks['Дата завершения задания плановая'] = pd.to_datetime(df_tasks['Дата завершения задания плановая'])\n",
    "df_tasks['Дата старта задания'] = pd.to_datetime(df_tasks['Дата старта задания'])\n",
    "df_tasks[ 'Просрочено, дней'] = pd.to_timedelta(df_tasks[ 'Просрочено, дней'], 'D')"
   ]
  },
  {
   "cell_type": "markdown",
   "id": "adfaa8c1",
   "metadata": {},
   "source": [
    "Есть пропуски в столбце с фактической датой завершения задания. Посмотрим на такие строки."
   ]
  },
  {
   "cell_type": "code",
   "execution_count": 89,
   "id": "61205aa0",
   "metadata": {},
   "outputs": [
    {
     "data": {
      "text/html": [
       "<div>\n",
       "<style scoped>\n",
       "    .dataframe tbody tr th:only-of-type {\n",
       "        vertical-align: middle;\n",
       "    }\n",
       "\n",
       "    .dataframe tbody tr th {\n",
       "        vertical-align: top;\n",
       "    }\n",
       "\n",
       "    .dataframe thead th {\n",
       "        text-align: right;\n",
       "    }\n",
       "</style>\n",
       "<table border=\"1\" class=\"dataframe\">\n",
       "  <thead>\n",
       "    <tr style=\"text-align: right;\">\n",
       "      <th></th>\n",
       "      <th>Статус по просрочке</th>\n",
       "      <th>Просрочено, дней</th>\n",
       "      <th>ДлительностьПросрочки</th>\n",
       "      <th>ID задачи</th>\n",
       "      <th>Вид документа</th>\n",
       "      <th>Дата старта задания</th>\n",
       "      <th>Дата завершения задания плановая</th>\n",
       "      <th>Дата завершения задания фактическая</th>\n",
       "      <th>Состояние задания</th>\n",
       "      <th>id</th>\n",
       "    </tr>\n",
       "  </thead>\n",
       "  <tbody>\n",
       "    <tr>\n",
       "      <th>54358</th>\n",
       "      <td>Без нарушения срока</td>\n",
       "      <td>0 days</td>\n",
       "      <td>без нарушения срока</td>\n",
       "      <td>FEAA9AEF-E217-4D64-8CC0-1810E91E5E66</td>\n",
       "      <td>Служебная записка</td>\n",
       "      <td>2021-10-21</td>\n",
       "      <td>NaT</td>\n",
       "      <td>NaT</td>\n",
       "      <td>Завершено</td>\n",
       "      <td>ОРГ1-01323</td>\n",
       "    </tr>\n",
       "    <tr>\n",
       "      <th>183228</th>\n",
       "      <td>Без нарушения срока</td>\n",
       "      <td>0 days</td>\n",
       "      <td>без нарушения срока</td>\n",
       "      <td>59F23BC6-CD33-4A3A-AC87-288729394F00</td>\n",
       "      <td>Входящий</td>\n",
       "      <td>2020-07-22</td>\n",
       "      <td>NaT</td>\n",
       "      <td>NaT</td>\n",
       "      <td>Завершено</td>\n",
       "      <td>ОРГ1-01246</td>\n",
       "    </tr>\n",
       "    <tr>\n",
       "      <th>196887</th>\n",
       "      <td>Без нарушения срока</td>\n",
       "      <td>0 days</td>\n",
       "      <td>без нарушения срока</td>\n",
       "      <td>D68C6C93-4468-433A-A2FC-5935882BAA9C</td>\n",
       "      <td>Входящий</td>\n",
       "      <td>2021-09-07</td>\n",
       "      <td>NaT</td>\n",
       "      <td>NaT</td>\n",
       "      <td>Завершено</td>\n",
       "      <td>ОРГ1-00338</td>\n",
       "    </tr>\n",
       "    <tr>\n",
       "      <th>248740</th>\n",
       "      <td>Без нарушения срока</td>\n",
       "      <td>0 days</td>\n",
       "      <td>без нарушения срока</td>\n",
       "      <td>32A04DA1-05C8-4F8D-892F-1249FB7773CA</td>\n",
       "      <td>NaN</td>\n",
       "      <td>2020-01-28</td>\n",
       "      <td>NaT</td>\n",
       "      <td>NaT</td>\n",
       "      <td>Завершено</td>\n",
       "      <td>ОРГ1-00430</td>\n",
       "    </tr>\n",
       "    <tr>\n",
       "      <th>249063</th>\n",
       "      <td>Без нарушения срока</td>\n",
       "      <td>0 days</td>\n",
       "      <td>без нарушения срока</td>\n",
       "      <td>3373A447-FCCE-4BE3-9E94-1A4E3170174F</td>\n",
       "      <td>NaN</td>\n",
       "      <td>2020-01-28</td>\n",
       "      <td>NaT</td>\n",
       "      <td>NaT</td>\n",
       "      <td>Завершено</td>\n",
       "      <td>ОРГ1-00430</td>\n",
       "    </tr>\n",
       "    <tr>\n",
       "      <th>...</th>\n",
       "      <td>...</td>\n",
       "      <td>...</td>\n",
       "      <td>...</td>\n",
       "      <td>...</td>\n",
       "      <td>...</td>\n",
       "      <td>...</td>\n",
       "      <td>...</td>\n",
       "      <td>...</td>\n",
       "      <td>...</td>\n",
       "      <td>...</td>\n",
       "    </tr>\n",
       "    <tr>\n",
       "      <th>478997</th>\n",
       "      <td>С нарушением срока</td>\n",
       "      <td>215 days</td>\n",
       "      <td>более 30 дней</td>\n",
       "      <td>5435A1C7-8938-4338-A0DD-BC6DFAB5E5F6</td>\n",
       "      <td>Служебная записка</td>\n",
       "      <td>2021-11-11</td>\n",
       "      <td>2021-11-17</td>\n",
       "      <td>NaT</td>\n",
       "      <td>Завершено</td>\n",
       "      <td>ОРГ1-00672</td>\n",
       "    </tr>\n",
       "    <tr>\n",
       "      <th>478998</th>\n",
       "      <td>С нарушением срока</td>\n",
       "      <td>214 days</td>\n",
       "      <td>более 30 дней</td>\n",
       "      <td>9EA265D8-A021-4D0F-A169-DF9CB1EFBEBC</td>\n",
       "      <td>Служебная записка</td>\n",
       "      <td>2021-11-15</td>\n",
       "      <td>2021-11-18</td>\n",
       "      <td>NaT</td>\n",
       "      <td>Завершено</td>\n",
       "      <td>ОРГ1-00672</td>\n",
       "    </tr>\n",
       "    <tr>\n",
       "      <th>478999</th>\n",
       "      <td>С нарушением срока</td>\n",
       "      <td>190 days</td>\n",
       "      <td>более 30 дней</td>\n",
       "      <td>4314DC24-7A66-4F78-9544-351A53265EEF</td>\n",
       "      <td>Служебная записка</td>\n",
       "      <td>2021-12-09</td>\n",
       "      <td>2021-12-12</td>\n",
       "      <td>NaT</td>\n",
       "      <td>Завершено</td>\n",
       "      <td>ОРГ1-00672</td>\n",
       "    </tr>\n",
       "    <tr>\n",
       "      <th>479000</th>\n",
       "      <td>С нарушением срока</td>\n",
       "      <td>172 days</td>\n",
       "      <td>более 30 дней</td>\n",
       "      <td>4D0C3E71-E83C-4D68-BAC0-59284BF49AC2</td>\n",
       "      <td>Служебная записка</td>\n",
       "      <td>2021-12-29</td>\n",
       "      <td>2021-12-30</td>\n",
       "      <td>NaT</td>\n",
       "      <td>Завершено</td>\n",
       "      <td>ОРГ1-00672</td>\n",
       "    </tr>\n",
       "    <tr>\n",
       "      <th>479001</th>\n",
       "      <td>С нарушением срока</td>\n",
       "      <td>215 days</td>\n",
       "      <td>более 30 дней</td>\n",
       "      <td>5753884C-D746-4ADA-8A0C-91728F1215A7</td>\n",
       "      <td>Служебная записка</td>\n",
       "      <td>2021-11-12</td>\n",
       "      <td>2021-11-17</td>\n",
       "      <td>NaT</td>\n",
       "      <td>Завершено</td>\n",
       "      <td>ОРГ1-00672</td>\n",
       "    </tr>\n",
       "  </tbody>\n",
       "</table>\n",
       "<p>15977 rows × 10 columns</p>\n",
       "</div>"
      ],
      "text/plain": [
       "        Статус по просрочке Просрочено, дней ДлительностьПросрочки  \\\n",
       "54358   Без нарушения срока           0 days   без нарушения срока   \n",
       "183228  Без нарушения срока           0 days   без нарушения срока   \n",
       "196887  Без нарушения срока           0 days   без нарушения срока   \n",
       "248740  Без нарушения срока           0 days   без нарушения срока   \n",
       "249063  Без нарушения срока           0 days   без нарушения срока   \n",
       "...                     ...              ...                   ...   \n",
       "478997   С нарушением срока         215 days         более 30 дней   \n",
       "478998   С нарушением срока         214 days         более 30 дней   \n",
       "478999   С нарушением срока         190 days         более 30 дней   \n",
       "479000   С нарушением срока         172 days         более 30 дней   \n",
       "479001   С нарушением срока         215 days         более 30 дней   \n",
       "\n",
       "                                   ID задачи      Вид документа  \\\n",
       "54358   FEAA9AEF-E217-4D64-8CC0-1810E91E5E66  Служебная записка   \n",
       "183228  59F23BC6-CD33-4A3A-AC87-288729394F00           Входящий   \n",
       "196887  D68C6C93-4468-433A-A2FC-5935882BAA9C           Входящий   \n",
       "248740  32A04DA1-05C8-4F8D-892F-1249FB7773CA                NaN   \n",
       "249063  3373A447-FCCE-4BE3-9E94-1A4E3170174F                NaN   \n",
       "...                                      ...                ...   \n",
       "478997  5435A1C7-8938-4338-A0DD-BC6DFAB5E5F6  Служебная записка   \n",
       "478998  9EA265D8-A021-4D0F-A169-DF9CB1EFBEBC  Служебная записка   \n",
       "478999  4314DC24-7A66-4F78-9544-351A53265EEF  Служебная записка   \n",
       "479000  4D0C3E71-E83C-4D68-BAC0-59284BF49AC2  Служебная записка   \n",
       "479001  5753884C-D746-4ADA-8A0C-91728F1215A7  Служебная записка   \n",
       "\n",
       "       Дата старта задания Дата завершения задания плановая  \\\n",
       "54358           2021-10-21                              NaT   \n",
       "183228          2020-07-22                              NaT   \n",
       "196887          2021-09-07                              NaT   \n",
       "248740          2020-01-28                              NaT   \n",
       "249063          2020-01-28                              NaT   \n",
       "...                    ...                              ...   \n",
       "478997          2021-11-11                       2021-11-17   \n",
       "478998          2021-11-15                       2021-11-18   \n",
       "478999          2021-12-09                       2021-12-12   \n",
       "479000          2021-12-29                       2021-12-30   \n",
       "479001          2021-11-12                       2021-11-17   \n",
       "\n",
       "       Дата завершения задания фактическая Состояние задания          id  \n",
       "54358                                  NaT         Завершено  ОРГ1-01323  \n",
       "183228                                 NaT         Завершено  ОРГ1-01246  \n",
       "196887                                 NaT         Завершено  ОРГ1-00338  \n",
       "248740                                 NaT         Завершено  ОРГ1-00430  \n",
       "249063                                 NaT         Завершено  ОРГ1-00430  \n",
       "...                                    ...               ...         ...  \n",
       "478997                                 NaT         Завершено  ОРГ1-00672  \n",
       "478998                                 NaT         Завершено  ОРГ1-00672  \n",
       "478999                                 NaT         Завершено  ОРГ1-00672  \n",
       "479000                                 NaT         Завершено  ОРГ1-00672  \n",
       "479001                                 NaT         Завершено  ОРГ1-00672  \n",
       "\n",
       "[15977 rows x 10 columns]"
      ]
     },
     "execution_count": 89,
     "metadata": {},
     "output_type": "execute_result"
    }
   ],
   "source": [
    "df_tasks[df_tasks['Дата завершения задания фактическая'].isna()]"
   ]
  },
  {
   "cell_type": "markdown",
   "id": "fabf4ce1",
   "metadata": {},
   "source": [
    "Заполнить такие пропуски можно исходя из даты старты задания и времени просрочки для задач, которые были завершены"
   ]
  },
  {
   "cell_type": "code",
   "execution_count": 90,
   "id": "409b22ef",
   "metadata": {},
   "outputs": [],
   "source": [
    "df_tasks.loc[(df_tasks['Дата завершения задания фактическая'].isna()) & (df_tasks['Состояние задания']=='Завершено'), \n",
    "            'Дата завершения задания фактическая'] = df_tasks.loc[(df_tasks['Дата завершения задания фактическая'].isna()) & (df_tasks['Состояние задания']=='Завершено'), \n",
    "            'Дата старта задания'] + df_tasks.loc[(df_tasks['Дата завершения задания фактическая'].isna()) & (df_tasks['Состояние задания']=='Завершено'), \n",
    "            'Просрочено, дней']"
   ]
  },
  {
   "cell_type": "code",
   "execution_count": 91,
   "id": "89b854fe",
   "metadata": {},
   "outputs": [
    {
     "data": {
      "text/plain": [
       "15820"
      ]
     },
     "execution_count": 91,
     "metadata": {},
     "output_type": "execute_result"
    }
   ],
   "source": [
    "df_tasks['Дата завершения задания фактическая'].isna().sum()"
   ]
  },
  {
   "cell_type": "markdown",
   "id": "50d9da79",
   "metadata": {},
   "source": [
    "В столбце всё ещё много пропусков. Посмотрим на них."
   ]
  },
  {
   "cell_type": "code",
   "execution_count": 92,
   "id": "9ce0db65",
   "metadata": {},
   "outputs": [
    {
     "data": {
      "text/html": [
       "<div>\n",
       "<style scoped>\n",
       "    .dataframe tbody tr th:only-of-type {\n",
       "        vertical-align: middle;\n",
       "    }\n",
       "\n",
       "    .dataframe tbody tr th {\n",
       "        vertical-align: top;\n",
       "    }\n",
       "\n",
       "    .dataframe thead th {\n",
       "        text-align: right;\n",
       "    }\n",
       "</style>\n",
       "<table border=\"1\" class=\"dataframe\">\n",
       "  <thead>\n",
       "    <tr style=\"text-align: right;\">\n",
       "      <th></th>\n",
       "      <th>Статус по просрочке</th>\n",
       "      <th>Просрочено, дней</th>\n",
       "      <th>ДлительностьПросрочки</th>\n",
       "      <th>ID задачи</th>\n",
       "      <th>Вид документа</th>\n",
       "      <th>Дата старта задания</th>\n",
       "      <th>Дата завершения задания плановая</th>\n",
       "      <th>Дата завершения задания фактическая</th>\n",
       "      <th>Состояние задания</th>\n",
       "      <th>id</th>\n",
       "    </tr>\n",
       "  </thead>\n",
       "  <tbody>\n",
       "    <tr>\n",
       "      <th>258076</th>\n",
       "      <td>Без нарушения срока</td>\n",
       "      <td>0 days</td>\n",
       "      <td>без нарушения срока</td>\n",
       "      <td>7EEBA7CB-04C6-451F-9794-EA547351568C</td>\n",
       "      <td>Исходящий</td>\n",
       "      <td>2021-12-21</td>\n",
       "      <td>NaT</td>\n",
       "      <td>NaT</td>\n",
       "      <td>Возврат с делегирования</td>\n",
       "      <td>ОРГ2-03121</td>\n",
       "    </tr>\n",
       "    <tr>\n",
       "      <th>258077</th>\n",
       "      <td>Без нарушения срока</td>\n",
       "      <td>0 days</td>\n",
       "      <td>без нарушения срока</td>\n",
       "      <td>21CF0178-3BC0-4B81-9540-40430E31541F</td>\n",
       "      <td>Входящий</td>\n",
       "      <td>2020-03-02</td>\n",
       "      <td>NaT</td>\n",
       "      <td>NaT</td>\n",
       "      <td>Отложено</td>\n",
       "      <td>ОРГ2-03126</td>\n",
       "    </tr>\n",
       "    <tr>\n",
       "      <th>258078</th>\n",
       "      <td>Без нарушения срока</td>\n",
       "      <td>0 days</td>\n",
       "      <td>без нарушения срока</td>\n",
       "      <td>71EE5130-04D1-4152-AE91-2D04F24F6B88</td>\n",
       "      <td>Служебная записка</td>\n",
       "      <td>2021-07-28</td>\n",
       "      <td>NaT</td>\n",
       "      <td>NaT</td>\n",
       "      <td>Отложено</td>\n",
       "      <td>ОРГ2-00657</td>\n",
       "    </tr>\n",
       "    <tr>\n",
       "      <th>258079</th>\n",
       "      <td>Без нарушения срока</td>\n",
       "      <td>0 days</td>\n",
       "      <td>без нарушения срока</td>\n",
       "      <td>2E9D65B1-BC01-47BC-A6AA-B1B796617C8D</td>\n",
       "      <td>Служебная записка</td>\n",
       "      <td>2021-08-13</td>\n",
       "      <td>NaT</td>\n",
       "      <td>NaT</td>\n",
       "      <td>Отложено</td>\n",
       "      <td>ОРГ2-00657</td>\n",
       "    </tr>\n",
       "    <tr>\n",
       "      <th>258080</th>\n",
       "      <td>Без нарушения срока</td>\n",
       "      <td>0 days</td>\n",
       "      <td>без нарушения срока</td>\n",
       "      <td>0FFAB396-48EF-44D9-984F-05A479646689</td>\n",
       "      <td>Входящий</td>\n",
       "      <td>2021-01-20</td>\n",
       "      <td>NaT</td>\n",
       "      <td>NaT</td>\n",
       "      <td>Отложено</td>\n",
       "      <td>ОРГ2-03025</td>\n",
       "    </tr>\n",
       "    <tr>\n",
       "      <th>...</th>\n",
       "      <td>...</td>\n",
       "      <td>...</td>\n",
       "      <td>...</td>\n",
       "      <td>...</td>\n",
       "      <td>...</td>\n",
       "      <td>...</td>\n",
       "      <td>...</td>\n",
       "      <td>...</td>\n",
       "      <td>...</td>\n",
       "      <td>...</td>\n",
       "    </tr>\n",
       "    <tr>\n",
       "      <th>273923</th>\n",
       "      <td>С нарушением срока</td>\n",
       "      <td>339 days</td>\n",
       "      <td>более 30 дней</td>\n",
       "      <td>C3FA54B0-6A94-4961-8B6A-A0D39AD576A0</td>\n",
       "      <td>Служебная записка</td>\n",
       "      <td>2021-07-15</td>\n",
       "      <td>2021-07-16</td>\n",
       "      <td>NaT</td>\n",
       "      <td>В работе</td>\n",
       "      <td>ОРГ1-00276</td>\n",
       "    </tr>\n",
       "    <tr>\n",
       "      <th>273924</th>\n",
       "      <td>С нарушением срока</td>\n",
       "      <td>570 days</td>\n",
       "      <td>более 30 дней</td>\n",
       "      <td>23242D5B-6CEB-40CC-86DF-3F656B01613E</td>\n",
       "      <td>Служебная записка</td>\n",
       "      <td>2020-11-26</td>\n",
       "      <td>2020-11-27</td>\n",
       "      <td>NaT</td>\n",
       "      <td>В работе</td>\n",
       "      <td>ОРГ1-00276</td>\n",
       "    </tr>\n",
       "    <tr>\n",
       "      <th>273925</th>\n",
       "      <td>С нарушением срока</td>\n",
       "      <td>544 days</td>\n",
       "      <td>более 30 дней</td>\n",
       "      <td>DB3F9A6E-D179-4082-8411-0C398E918DD1</td>\n",
       "      <td>Служебная записка</td>\n",
       "      <td>2020-12-22</td>\n",
       "      <td>2020-12-23</td>\n",
       "      <td>NaT</td>\n",
       "      <td>В работе</td>\n",
       "      <td>ОРГ1-00276</td>\n",
       "    </tr>\n",
       "    <tr>\n",
       "      <th>273926</th>\n",
       "      <td>С нарушением срока</td>\n",
       "      <td>339 days</td>\n",
       "      <td>более 30 дней</td>\n",
       "      <td>5B905D37-C806-4D87-8D98-9F197F042A30</td>\n",
       "      <td>Служебная записка</td>\n",
       "      <td>2021-07-15</td>\n",
       "      <td>2021-07-16</td>\n",
       "      <td>NaT</td>\n",
       "      <td>В работе</td>\n",
       "      <td>ОРГ1-00276</td>\n",
       "    </tr>\n",
       "    <tr>\n",
       "      <th>273927</th>\n",
       "      <td>С нарушением срока</td>\n",
       "      <td>726 days</td>\n",
       "      <td>более 30 дней</td>\n",
       "      <td>4A2717F5-06B5-418A-8FAB-4B8846FFD857</td>\n",
       "      <td>Служебная записка</td>\n",
       "      <td>2020-06-23</td>\n",
       "      <td>2020-06-24</td>\n",
       "      <td>NaT</td>\n",
       "      <td>В работе</td>\n",
       "      <td>ОРГ1-00276</td>\n",
       "    </tr>\n",
       "  </tbody>\n",
       "</table>\n",
       "<p>15820 rows × 10 columns</p>\n",
       "</div>"
      ],
      "text/plain": [
       "        Статус по просрочке Просрочено, дней ДлительностьПросрочки  \\\n",
       "258076  Без нарушения срока           0 days   без нарушения срока   \n",
       "258077  Без нарушения срока           0 days   без нарушения срока   \n",
       "258078  Без нарушения срока           0 days   без нарушения срока   \n",
       "258079  Без нарушения срока           0 days   без нарушения срока   \n",
       "258080  Без нарушения срока           0 days   без нарушения срока   \n",
       "...                     ...              ...                   ...   \n",
       "273923   С нарушением срока         339 days         более 30 дней   \n",
       "273924   С нарушением срока         570 days         более 30 дней   \n",
       "273925   С нарушением срока         544 days         более 30 дней   \n",
       "273926   С нарушением срока         339 days         более 30 дней   \n",
       "273927   С нарушением срока         726 days         более 30 дней   \n",
       "\n",
       "                                   ID задачи      Вид документа  \\\n",
       "258076  7EEBA7CB-04C6-451F-9794-EA547351568C          Исходящий   \n",
       "258077  21CF0178-3BC0-4B81-9540-40430E31541F           Входящий   \n",
       "258078  71EE5130-04D1-4152-AE91-2D04F24F6B88  Служебная записка   \n",
       "258079  2E9D65B1-BC01-47BC-A6AA-B1B796617C8D  Служебная записка   \n",
       "258080  0FFAB396-48EF-44D9-984F-05A479646689           Входящий   \n",
       "...                                      ...                ...   \n",
       "273923  C3FA54B0-6A94-4961-8B6A-A0D39AD576A0  Служебная записка   \n",
       "273924  23242D5B-6CEB-40CC-86DF-3F656B01613E  Служебная записка   \n",
       "273925  DB3F9A6E-D179-4082-8411-0C398E918DD1  Служебная записка   \n",
       "273926  5B905D37-C806-4D87-8D98-9F197F042A30  Служебная записка   \n",
       "273927  4A2717F5-06B5-418A-8FAB-4B8846FFD857  Служебная записка   \n",
       "\n",
       "       Дата старта задания Дата завершения задания плановая  \\\n",
       "258076          2021-12-21                              NaT   \n",
       "258077          2020-03-02                              NaT   \n",
       "258078          2021-07-28                              NaT   \n",
       "258079          2021-08-13                              NaT   \n",
       "258080          2021-01-20                              NaT   \n",
       "...                    ...                              ...   \n",
       "273923          2021-07-15                       2021-07-16   \n",
       "273924          2020-11-26                       2020-11-27   \n",
       "273925          2020-12-22                       2020-12-23   \n",
       "273926          2021-07-15                       2021-07-16   \n",
       "273927          2020-06-23                       2020-06-24   \n",
       "\n",
       "       Дата завершения задания фактическая        Состояние задания  \\\n",
       "258076                                 NaT  Возврат с делегирования   \n",
       "258077                                 NaT                 Отложено   \n",
       "258078                                 NaT                 Отложено   \n",
       "258079                                 NaT                 Отложено   \n",
       "258080                                 NaT                 Отложено   \n",
       "...                                    ...                      ...   \n",
       "273923                                 NaT                 В работе   \n",
       "273924                                 NaT                 В работе   \n",
       "273925                                 NaT                 В работе   \n",
       "273926                                 NaT                 В работе   \n",
       "273927                                 NaT                 В работе   \n",
       "\n",
       "                id  \n",
       "258076  ОРГ2-03121  \n",
       "258077  ОРГ2-03126  \n",
       "258078  ОРГ2-00657  \n",
       "258079  ОРГ2-00657  \n",
       "258080  ОРГ2-03025  \n",
       "...            ...  \n",
       "273923  ОРГ1-00276  \n",
       "273924  ОРГ1-00276  \n",
       "273925  ОРГ1-00276  \n",
       "273926  ОРГ1-00276  \n",
       "273927  ОРГ1-00276  \n",
       "\n",
       "[15820 rows x 10 columns]"
      ]
     },
     "execution_count": 92,
     "metadata": {},
     "output_type": "execute_result"
    }
   ],
   "source": [
    "df_tasks[df_tasks['Дата завершения задания фактическая'].isna()]"
   ]
  },
  {
   "cell_type": "markdown",
   "id": "bb01c714",
   "metadata": {},
   "source": [
    "Как видно из приведённой выборки достаточно много задач находятся в работе (согласно вводной инструкции, если задача не относится к категориям завершено, на приёмке, на проверке, делегировано, то она находится в работе). Посмотрим какие значения может принимать данный столбец."
   ]
  },
  {
   "cell_type": "code",
   "execution_count": 93,
   "id": "0cfd709b",
   "metadata": {},
   "outputs": [
    {
     "data": {
      "text/plain": [
       "Завершено                  520779\n",
       "Не начато                    7842\n",
       "В работе                     7571\n",
       "Делегировано                  344\n",
       "На приёмке                     60\n",
       "Отложено                       55\n",
       "Возврат с делегирования         9\n",
       "Name: Состояние задания, dtype: int64"
      ]
     },
     "execution_count": 93,
     "metadata": {},
     "output_type": "execute_result"
    }
   ],
   "source": [
    "df_tasks['Состояние задания'].value_counts()"
   ]
  },
  {
   "cell_type": "markdown",
   "id": "0e707f6d",
   "metadata": {},
   "source": [
    "Вариантов достаточно много, поэтому просто будем проверять входит ли текущий статус задачи в приведённое выше перечисление, и если не входит, то будем считать, что задача находится в настоящий момент в работе. Однако, нам потребуются конкретные даты, чтобы делать срезы по ним. Поэтому заполним пропуски для таких строк текущей датой."
   ]
  },
  {
   "cell_type": "code",
   "execution_count": 94,
   "id": "04e758d1",
   "metadata": {},
   "outputs": [],
   "source": [
    "list_status = ['Завершено', 'На приёмке', 'На проверке', 'Делегировано']"
   ]
  },
  {
   "cell_type": "code",
   "execution_count": 95,
   "id": "eff742c6",
   "metadata": {},
   "outputs": [],
   "source": [
    "df_tasks.loc[~df_tasks['Состояние задания'].isin(list_status) & df_tasks['Дата завершения задания фактическая'].isna(), \n",
    "             'Дата завершения задания фактическая'] = dt.datetime.now().strftime('%Y-%m-%d')"
   ]
  },
  {
   "cell_type": "code",
   "execution_count": 96,
   "id": "c1f7a1f7",
   "metadata": {},
   "outputs": [],
   "source": [
    "df_tasks.loc[~df_tasks['Состояние задания'].isin(list_status) & df_tasks['Дата завершения задания плановая'].isna(), \n",
    "             'Дата завершения задания плановая'] = dt.datetime.now().strftime('%Y-%m-%d')"
   ]
  },
  {
   "cell_type": "markdown",
   "id": "c3d4a254",
   "metadata": {},
   "source": [
    "Проверим сколько остальось нулевых значений"
   ]
  },
  {
   "cell_type": "code",
   "execution_count": 97,
   "id": "f287ee38",
   "metadata": {},
   "outputs": [
    {
     "data": {
      "text/plain": [
       "344"
      ]
     },
     "execution_count": 97,
     "metadata": {},
     "output_type": "execute_result"
    }
   ],
   "source": [
    "df_tasks['Дата завершения задания фактическая'].isna().sum()"
   ]
  },
  {
   "cell_type": "markdown",
   "id": "6c8bc44f",
   "metadata": {},
   "source": [
    "Ещё остальось 344 строки с пропусками. Посмотрим на них"
   ]
  },
  {
   "cell_type": "code",
   "execution_count": 98,
   "id": "4c1a915a",
   "metadata": {},
   "outputs": [
    {
     "data": {
      "text/html": [
       "<div>\n",
       "<style scoped>\n",
       "    .dataframe tbody tr th:only-of-type {\n",
       "        vertical-align: middle;\n",
       "    }\n",
       "\n",
       "    .dataframe tbody tr th {\n",
       "        vertical-align: top;\n",
       "    }\n",
       "\n",
       "    .dataframe thead th {\n",
       "        text-align: right;\n",
       "    }\n",
       "</style>\n",
       "<table border=\"1\" class=\"dataframe\">\n",
       "  <thead>\n",
       "    <tr style=\"text-align: right;\">\n",
       "      <th></th>\n",
       "      <th>Статус по просрочке</th>\n",
       "      <th>Просрочено, дней</th>\n",
       "      <th>ДлительностьПросрочки</th>\n",
       "      <th>ID задачи</th>\n",
       "      <th>Вид документа</th>\n",
       "      <th>Дата старта задания</th>\n",
       "      <th>Дата завершения задания плановая</th>\n",
       "      <th>Дата завершения задания фактическая</th>\n",
       "      <th>Состояние задания</th>\n",
       "      <th>id</th>\n",
       "    </tr>\n",
       "  </thead>\n",
       "  <tbody>\n",
       "    <tr>\n",
       "      <th>258110</th>\n",
       "      <td>Без нарушения срока</td>\n",
       "      <td>0 days</td>\n",
       "      <td>без нарушения срока</td>\n",
       "      <td>280B48BA-DEC0-42F4-85F4-2A7097249C27</td>\n",
       "      <td>Исходящий</td>\n",
       "      <td>2021-05-25</td>\n",
       "      <td>NaT</td>\n",
       "      <td>NaT</td>\n",
       "      <td>Делегировано</td>\n",
       "      <td>ОРГ2-05325</td>\n",
       "    </tr>\n",
       "    <tr>\n",
       "      <th>258111</th>\n",
       "      <td>Без нарушения срока</td>\n",
       "      <td>0 days</td>\n",
       "      <td>без нарушения срока</td>\n",
       "      <td>3A8FAFFC-F7E2-4B7C-9D89-5A05EF9F4102</td>\n",
       "      <td>Исходящий</td>\n",
       "      <td>2021-11-25</td>\n",
       "      <td>NaT</td>\n",
       "      <td>NaT</td>\n",
       "      <td>Делегировано</td>\n",
       "      <td>ОРГ2-00125</td>\n",
       "    </tr>\n",
       "    <tr>\n",
       "      <th>258112</th>\n",
       "      <td>Без нарушения срока</td>\n",
       "      <td>0 days</td>\n",
       "      <td>без нарушения срока</td>\n",
       "      <td>B4C03403-9AD7-426E-87FF-596CB6681F08</td>\n",
       "      <td>Исходящий</td>\n",
       "      <td>2021-11-23</td>\n",
       "      <td>NaT</td>\n",
       "      <td>NaT</td>\n",
       "      <td>Делегировано</td>\n",
       "      <td>ОРГ2-00591</td>\n",
       "    </tr>\n",
       "    <tr>\n",
       "      <th>258113</th>\n",
       "      <td>Без нарушения срока</td>\n",
       "      <td>0 days</td>\n",
       "      <td>без нарушения срока</td>\n",
       "      <td>F085D003-F9D7-4174-9905-BE3D7BD3D416</td>\n",
       "      <td>Исходящий</td>\n",
       "      <td>2021-06-25</td>\n",
       "      <td>NaT</td>\n",
       "      <td>NaT</td>\n",
       "      <td>Делегировано</td>\n",
       "      <td>ОРГ2-05324</td>\n",
       "    </tr>\n",
       "    <tr>\n",
       "      <th>258114</th>\n",
       "      <td>Без нарушения срока</td>\n",
       "      <td>0 days</td>\n",
       "      <td>без нарушения срока</td>\n",
       "      <td>17B7F47F-294A-499A-BF4C-3F1911919E91</td>\n",
       "      <td>Исходящий</td>\n",
       "      <td>2021-06-22</td>\n",
       "      <td>NaT</td>\n",
       "      <td>NaT</td>\n",
       "      <td>Делегировано</td>\n",
       "      <td>ОРГ2-04651</td>\n",
       "    </tr>\n",
       "    <tr>\n",
       "      <th>...</th>\n",
       "      <td>...</td>\n",
       "      <td>...</td>\n",
       "      <td>...</td>\n",
       "      <td>...</td>\n",
       "      <td>...</td>\n",
       "      <td>...</td>\n",
       "      <td>...</td>\n",
       "      <td>...</td>\n",
       "      <td>...</td>\n",
       "      <td>...</td>\n",
       "    </tr>\n",
       "    <tr>\n",
       "      <th>268804</th>\n",
       "      <td>С нарушением срока</td>\n",
       "      <td>189 days</td>\n",
       "      <td>более 30 дней</td>\n",
       "      <td>D947A894-AEB7-40A9-BE5F-2B05C617F5B6</td>\n",
       "      <td>Служебная записка</td>\n",
       "      <td>2021-12-10</td>\n",
       "      <td>2021-12-13</td>\n",
       "      <td>NaT</td>\n",
       "      <td>Делегировано</td>\n",
       "      <td>ОРГ1-01497</td>\n",
       "    </tr>\n",
       "    <tr>\n",
       "      <th>268805</th>\n",
       "      <td>С нарушением срока</td>\n",
       "      <td>220 days</td>\n",
       "      <td>более 30 дней</td>\n",
       "      <td>0B028154-FA8F-4C7A-AB3B-4455FBA3FFAF</td>\n",
       "      <td>Служебная записка</td>\n",
       "      <td>2021-11-11</td>\n",
       "      <td>2021-11-12</td>\n",
       "      <td>NaT</td>\n",
       "      <td>Делегировано</td>\n",
       "      <td>ОРГ1-00634</td>\n",
       "    </tr>\n",
       "    <tr>\n",
       "      <th>268806</th>\n",
       "      <td>С нарушением срока</td>\n",
       "      <td>159 days</td>\n",
       "      <td>более 30 дней</td>\n",
       "      <td>9CD14000-CC1D-412C-9D3F-C7E90ED71088</td>\n",
       "      <td>Служебная записка</td>\n",
       "      <td>2021-12-30</td>\n",
       "      <td>2022-01-12</td>\n",
       "      <td>NaT</td>\n",
       "      <td>Делегировано</td>\n",
       "      <td>ОРГ1-00634</td>\n",
       "    </tr>\n",
       "    <tr>\n",
       "      <th>268807</th>\n",
       "      <td>С нарушением срока</td>\n",
       "      <td>311 days</td>\n",
       "      <td>более 30 дней</td>\n",
       "      <td>C6BC5B03-D75E-4710-ADD4-D5B70C8EB48C</td>\n",
       "      <td>Служебная записка</td>\n",
       "      <td>2021-08-12</td>\n",
       "      <td>2021-08-13</td>\n",
       "      <td>NaT</td>\n",
       "      <td>Делегировано</td>\n",
       "      <td>ОРГ1-01692</td>\n",
       "    </tr>\n",
       "    <tr>\n",
       "      <th>268808</th>\n",
       "      <td>С нарушением срока</td>\n",
       "      <td>172 days</td>\n",
       "      <td>более 30 дней</td>\n",
       "      <td>CEDE3DD8-AF67-4E22-889A-5860D2F21F4A</td>\n",
       "      <td>Служебная записка</td>\n",
       "      <td>2021-12-29</td>\n",
       "      <td>2021-12-30</td>\n",
       "      <td>NaT</td>\n",
       "      <td>Делегировано</td>\n",
       "      <td>ОРГ1-01692</td>\n",
       "    </tr>\n",
       "  </tbody>\n",
       "</table>\n",
       "<p>344 rows × 10 columns</p>\n",
       "</div>"
      ],
      "text/plain": [
       "        Статус по просрочке Просрочено, дней ДлительностьПросрочки  \\\n",
       "258110  Без нарушения срока           0 days   без нарушения срока   \n",
       "258111  Без нарушения срока           0 days   без нарушения срока   \n",
       "258112  Без нарушения срока           0 days   без нарушения срока   \n",
       "258113  Без нарушения срока           0 days   без нарушения срока   \n",
       "258114  Без нарушения срока           0 days   без нарушения срока   \n",
       "...                     ...              ...                   ...   \n",
       "268804   С нарушением срока         189 days         более 30 дней   \n",
       "268805   С нарушением срока         220 days         более 30 дней   \n",
       "268806   С нарушением срока         159 days         более 30 дней   \n",
       "268807   С нарушением срока         311 days         более 30 дней   \n",
       "268808   С нарушением срока         172 days         более 30 дней   \n",
       "\n",
       "                                   ID задачи      Вид документа  \\\n",
       "258110  280B48BA-DEC0-42F4-85F4-2A7097249C27          Исходящий   \n",
       "258111  3A8FAFFC-F7E2-4B7C-9D89-5A05EF9F4102          Исходящий   \n",
       "258112  B4C03403-9AD7-426E-87FF-596CB6681F08          Исходящий   \n",
       "258113  F085D003-F9D7-4174-9905-BE3D7BD3D416          Исходящий   \n",
       "258114  17B7F47F-294A-499A-BF4C-3F1911919E91          Исходящий   \n",
       "...                                      ...                ...   \n",
       "268804  D947A894-AEB7-40A9-BE5F-2B05C617F5B6  Служебная записка   \n",
       "268805  0B028154-FA8F-4C7A-AB3B-4455FBA3FFAF  Служебная записка   \n",
       "268806  9CD14000-CC1D-412C-9D3F-C7E90ED71088  Служебная записка   \n",
       "268807  C6BC5B03-D75E-4710-ADD4-D5B70C8EB48C  Служебная записка   \n",
       "268808  CEDE3DD8-AF67-4E22-889A-5860D2F21F4A  Служебная записка   \n",
       "\n",
       "       Дата старта задания Дата завершения задания плановая  \\\n",
       "258110          2021-05-25                              NaT   \n",
       "258111          2021-11-25                              NaT   \n",
       "258112          2021-11-23                              NaT   \n",
       "258113          2021-06-25                              NaT   \n",
       "258114          2021-06-22                              NaT   \n",
       "...                    ...                              ...   \n",
       "268804          2021-12-10                       2021-12-13   \n",
       "268805          2021-11-11                       2021-11-12   \n",
       "268806          2021-12-30                       2022-01-12   \n",
       "268807          2021-08-12                       2021-08-13   \n",
       "268808          2021-12-29                       2021-12-30   \n",
       "\n",
       "       Дата завершения задания фактическая Состояние задания          id  \n",
       "258110                                 NaT      Делегировано  ОРГ2-05325  \n",
       "258111                                 NaT      Делегировано  ОРГ2-00125  \n",
       "258112                                 NaT      Делегировано  ОРГ2-00591  \n",
       "258113                                 NaT      Делегировано  ОРГ2-05324  \n",
       "258114                                 NaT      Делегировано  ОРГ2-04651  \n",
       "...                                    ...               ...         ...  \n",
       "268804                                 NaT      Делегировано  ОРГ1-01497  \n",
       "268805                                 NaT      Делегировано  ОРГ1-00634  \n",
       "268806                                 NaT      Делегировано  ОРГ1-00634  \n",
       "268807                                 NaT      Делегировано  ОРГ1-01692  \n",
       "268808                                 NaT      Делегировано  ОРГ1-01692  \n",
       "\n",
       "[344 rows x 10 columns]"
      ]
     },
     "execution_count": 98,
     "metadata": {},
     "output_type": "execute_result"
    }
   ],
   "source": [
    "df_tasks[df_tasks['Дата завершения задания фактическая'].isna()]"
   ]
  },
  {
   "cell_type": "markdown",
   "id": "853d3e6a",
   "metadata": {},
   "source": [
    "Вероятнее всего пропуски в данном столбце принадлежат строке с делигированием. Проверим данное предположение"
   ]
  },
  {
   "cell_type": "code",
   "execution_count": 99,
   "id": "fa347d5c",
   "metadata": {},
   "outputs": [
    {
     "data": {
      "text/plain": [
       "Делегировано    344\n",
       "Name: Состояние задания, dtype: int64"
      ]
     },
     "execution_count": 99,
     "metadata": {},
     "output_type": "execute_result"
    }
   ],
   "source": [
    "df_tasks[df_tasks['Дата завершения задания фактическая'].isna()]['Состояние задания'].value_counts()"
   ]
  },
  {
   "cell_type": "markdown",
   "id": "abeb700e",
   "metadata": {},
   "source": [
    "Проверим можно ли получить статус делигированной задачи от того, кому она делигирована. Выебрем все строчки с первым id, который у нас выведен выше."
   ]
  },
  {
   "cell_type": "code",
   "execution_count": 100,
   "id": "3853f521",
   "metadata": {},
   "outputs": [
    {
     "data": {
      "text/html": [
       "<div>\n",
       "<style scoped>\n",
       "    .dataframe tbody tr th:only-of-type {\n",
       "        vertical-align: middle;\n",
       "    }\n",
       "\n",
       "    .dataframe tbody tr th {\n",
       "        vertical-align: top;\n",
       "    }\n",
       "\n",
       "    .dataframe thead th {\n",
       "        text-align: right;\n",
       "    }\n",
       "</style>\n",
       "<table border=\"1\" class=\"dataframe\">\n",
       "  <thead>\n",
       "    <tr style=\"text-align: right;\">\n",
       "      <th></th>\n",
       "      <th>Статус по просрочке</th>\n",
       "      <th>Просрочено, дней</th>\n",
       "      <th>ДлительностьПросрочки</th>\n",
       "      <th>ID задачи</th>\n",
       "      <th>Вид документа</th>\n",
       "      <th>Дата старта задания</th>\n",
       "      <th>Дата завершения задания плановая</th>\n",
       "      <th>Дата завершения задания фактическая</th>\n",
       "      <th>Состояние задания</th>\n",
       "      <th>id</th>\n",
       "    </tr>\n",
       "  </thead>\n",
       "  <tbody>\n",
       "    <tr>\n",
       "      <th>258110</th>\n",
       "      <td>Без нарушения срока</td>\n",
       "      <td>0 days</td>\n",
       "      <td>без нарушения срока</td>\n",
       "      <td>280B48BA-DEC0-42F4-85F4-2A7097249C27</td>\n",
       "      <td>Исходящий</td>\n",
       "      <td>2021-05-25</td>\n",
       "      <td>NaT</td>\n",
       "      <td>NaT</td>\n",
       "      <td>Делегировано</td>\n",
       "      <td>ОРГ2-05325</td>\n",
       "    </tr>\n",
       "  </tbody>\n",
       "</table>\n",
       "</div>"
      ],
      "text/plain": [
       "        Статус по просрочке Просрочено, дней ДлительностьПросрочки  \\\n",
       "258110  Без нарушения срока           0 days   без нарушения срока   \n",
       "\n",
       "                                   ID задачи Вид документа  \\\n",
       "258110  280B48BA-DEC0-42F4-85F4-2A7097249C27     Исходящий   \n",
       "\n",
       "       Дата старта задания Дата завершения задания плановая  \\\n",
       "258110          2021-05-25                              NaT   \n",
       "\n",
       "       Дата завершения задания фактическая Состояние задания          id  \n",
       "258110                                 NaT      Делегировано  ОРГ2-05325  "
      ]
     },
     "execution_count": 100,
     "metadata": {},
     "output_type": "execute_result"
    }
   ],
   "source": [
    "df_tasks[df_tasks['ID задачи']==\"280B48BA-DEC0-42F4-85F4-2A7097249C27\"]"
   ]
  },
  {
   "cell_type": "markdown",
   "id": "6428ebc8",
   "metadata": {},
   "source": [
    "Как видно, задача с такой id всего одна, поэтому целесообразно удалить такие строки из дата сета."
   ]
  },
  {
   "cell_type": "code",
   "execution_count": 101,
   "id": "4f62e11f",
   "metadata": {},
   "outputs": [],
   "source": [
    "df_tasks.dropna(subset=['Дата завершения задания фактическая'], inplace=True)"
   ]
  },
  {
   "cell_type": "code",
   "execution_count": 102,
   "id": "50cacd61",
   "metadata": {},
   "outputs": [
    {
     "data": {
      "text/plain": [
       "0"
      ]
     },
     "execution_count": 102,
     "metadata": {},
     "output_type": "execute_result"
    }
   ],
   "source": [
    "df_tasks['Дата завершения задания фактическая'].isna().sum()"
   ]
  },
  {
   "cell_type": "markdown",
   "id": "cd6a14b6",
   "metadata": {},
   "source": [
    "С пропусками в столбце Дата завершения задания фактическая разобрались, теперь необходимо разобраться с пропусками в столбце Дата завершения плановая. Возможно это связано с тем, что задача была уже завершена. в таком случае дату плановую можно заполнить также как и дату фактическую. Проверим данное предположение."
   ]
  },
  {
   "cell_type": "code",
   "execution_count": 103,
   "id": "db221068",
   "metadata": {},
   "outputs": [
    {
     "data": {
      "text/plain": [
       "258075"
      ]
     },
     "execution_count": 103,
     "metadata": {},
     "output_type": "execute_result"
    }
   ],
   "source": [
    "#Всего пропусков в столюце 'Дата завершения задания плановая'\n",
    "df_tasks['Дата завершения задания плановая'].isna().sum()"
   ]
  },
  {
   "cell_type": "code",
   "execution_count": 104,
   "id": "d382d7f1",
   "metadata": {},
   "outputs": [
    {
     "data": {
      "text/plain": [
       "258047"
      ]
     },
     "execution_count": 104,
     "metadata": {},
     "output_type": "execute_result"
    }
   ],
   "source": [
    "# пропусков со статусом 'Завершено'\n",
    "sum((df_tasks['Дата завершения задания плановая'].isna()) & (df_tasks['Состояние задания']=='Завершено'))"
   ]
  },
  {
   "cell_type": "markdown",
   "id": "49a78e68",
   "metadata": {},
   "source": [
    "Действиетльно, чтолбцы в значительной мере коррелируеются по данному параметру. Заполним пропуски в столбце Дата завершения задания плановая для таких строк."
   ]
  },
  {
   "cell_type": "code",
   "execution_count": 105,
   "id": "40a6a1a5",
   "metadata": {},
   "outputs": [],
   "source": [
    "df_tasks.loc[(df_tasks['Дата завершения задания плановая'].isna()) & (df_tasks['Состояние задания']=='Завершено'), \n",
    "            'Дата завершения задания плановая'] = df_tasks.loc[(df_tasks['Дата завершения задания плановая'].isna()) & (df_tasks['Состояние задания']=='Завершено'), \n",
    "            'Дата завершения задания фактическая']"
   ]
  },
  {
   "cell_type": "markdown",
   "id": "32c26b8c",
   "metadata": {},
   "source": [
    "Проверим количество оставшихся строк с пропусками"
   ]
  },
  {
   "cell_type": "code",
   "execution_count": 106,
   "id": "29140b39",
   "metadata": {},
   "outputs": [
    {
     "data": {
      "text/plain": [
       "28"
      ]
     },
     "execution_count": 106,
     "metadata": {},
     "output_type": "execute_result"
    }
   ],
   "source": [
    "df_tasks['Дата завершения задания плановая'].isna().sum()"
   ]
  },
  {
   "cell_type": "markdown",
   "id": "5cc63fd7",
   "metadata": {},
   "source": [
    "Количество строк с пропусками уменьшилось. Посмотрим на них"
   ]
  },
  {
   "cell_type": "code",
   "execution_count": 107,
   "id": "277e476b",
   "metadata": {},
   "outputs": [
    {
     "data": {
      "text/html": [
       "<div>\n",
       "<style scoped>\n",
       "    .dataframe tbody tr th:only-of-type {\n",
       "        vertical-align: middle;\n",
       "    }\n",
       "\n",
       "    .dataframe tbody tr th {\n",
       "        vertical-align: top;\n",
       "    }\n",
       "\n",
       "    .dataframe thead th {\n",
       "        text-align: right;\n",
       "    }\n",
       "</style>\n",
       "<table border=\"1\" class=\"dataframe\">\n",
       "  <thead>\n",
       "    <tr style=\"text-align: right;\">\n",
       "      <th></th>\n",
       "      <th>Статус по просрочке</th>\n",
       "      <th>Просрочено, дней</th>\n",
       "      <th>ДлительностьПросрочки</th>\n",
       "      <th>ID задачи</th>\n",
       "      <th>Вид документа</th>\n",
       "      <th>Дата старта задания</th>\n",
       "      <th>Дата завершения задания плановая</th>\n",
       "      <th>Дата завершения задания фактическая</th>\n",
       "      <th>Состояние задания</th>\n",
       "      <th>id</th>\n",
       "    </tr>\n",
       "  </thead>\n",
       "  <tbody>\n",
       "    <tr>\n",
       "      <th>258047</th>\n",
       "      <td>Без нарушения срока</td>\n",
       "      <td>0 days</td>\n",
       "      <td>без нарушения срока</td>\n",
       "      <td>E5A914E3-60FF-E711-A223-90E2BA8378FD</td>\n",
       "      <td>Входящий</td>\n",
       "      <td>2018-01-22</td>\n",
       "      <td>NaT</td>\n",
       "      <td>2021-03-02</td>\n",
       "      <td>На приёмке</td>\n",
       "      <td>ОРГ2-00635</td>\n",
       "    </tr>\n",
       "    <tr>\n",
       "      <th>258048</th>\n",
       "      <td>Без нарушения срока</td>\n",
       "      <td>0 days</td>\n",
       "      <td>без нарушения срока</td>\n",
       "      <td>1DB103D6-3EF5-E711-A223-90E2BA8378FD</td>\n",
       "      <td>Служебная записка</td>\n",
       "      <td>2018-01-09</td>\n",
       "      <td>NaT</td>\n",
       "      <td>2021-02-27</td>\n",
       "      <td>На приёмке</td>\n",
       "      <td>ОРГ2-00868</td>\n",
       "    </tr>\n",
       "    <tr>\n",
       "      <th>258049</th>\n",
       "      <td>Без нарушения срока</td>\n",
       "      <td>0 days</td>\n",
       "      <td>без нарушения срока</td>\n",
       "      <td>10FAE1DA-1532-48A9-BA77-3E9CCA3B1695</td>\n",
       "      <td>Протокол</td>\n",
       "      <td>2021-05-24</td>\n",
       "      <td>NaT</td>\n",
       "      <td>2021-06-07</td>\n",
       "      <td>На приёмке</td>\n",
       "      <td>ОРГ2-00477</td>\n",
       "    </tr>\n",
       "    <tr>\n",
       "      <th>258050</th>\n",
       "      <td>Без нарушения срока</td>\n",
       "      <td>0 days</td>\n",
       "      <td>без нарушения срока</td>\n",
       "      <td>B22024D5-1483-E711-A21A-90E2BA8378FD</td>\n",
       "      <td>Входящий</td>\n",
       "      <td>2017-08-17</td>\n",
       "      <td>NaT</td>\n",
       "      <td>2021-03-04</td>\n",
       "      <td>На приёмке</td>\n",
       "      <td>ОРГ1-01391</td>\n",
       "    </tr>\n",
       "    <tr>\n",
       "      <th>258051</th>\n",
       "      <td>Без нарушения срока</td>\n",
       "      <td>0 days</td>\n",
       "      <td>без нарушения срока</td>\n",
       "      <td>EB201CB9-3029-E911-A214-90E2BAC69FD5</td>\n",
       "      <td>NaN</td>\n",
       "      <td>2019-02-05</td>\n",
       "      <td>NaT</td>\n",
       "      <td>2021-11-29</td>\n",
       "      <td>На приёмке</td>\n",
       "      <td>ОРГ1-01807</td>\n",
       "    </tr>\n",
       "    <tr>\n",
       "      <th>258052</th>\n",
       "      <td>Без нарушения срока</td>\n",
       "      <td>0 days</td>\n",
       "      <td>без нарушения срока</td>\n",
       "      <td>064340CE-F213-E911-A20D-90E2BAC69FD5</td>\n",
       "      <td>Входящий</td>\n",
       "      <td>2019-01-09</td>\n",
       "      <td>NaT</td>\n",
       "      <td>2021-11-29</td>\n",
       "      <td>На приёмке</td>\n",
       "      <td>ОРГ1-01807</td>\n",
       "    </tr>\n",
       "    <tr>\n",
       "      <th>258053</th>\n",
       "      <td>Без нарушения срока</td>\n",
       "      <td>0 days</td>\n",
       "      <td>без нарушения срока</td>\n",
       "      <td>AC13D720-C8B3-E711-A21B-90E2BA8378FD</td>\n",
       "      <td>Служебная записка</td>\n",
       "      <td>2017-10-18</td>\n",
       "      <td>NaT</td>\n",
       "      <td>2021-02-17</td>\n",
       "      <td>На приёмке</td>\n",
       "      <td>ОРГ1-01378</td>\n",
       "    </tr>\n",
       "    <tr>\n",
       "      <th>258054</th>\n",
       "      <td>Без нарушения срока</td>\n",
       "      <td>0 days</td>\n",
       "      <td>без нарушения срока</td>\n",
       "      <td>2CF30C0B-3D65-E711-A217-90E2BA8378FC</td>\n",
       "      <td>Служебная записка</td>\n",
       "      <td>2017-07-10</td>\n",
       "      <td>NaT</td>\n",
       "      <td>2021-03-01</td>\n",
       "      <td>На приёмке</td>\n",
       "      <td>ОРГ1-02701</td>\n",
       "    </tr>\n",
       "    <tr>\n",
       "      <th>258055</th>\n",
       "      <td>Без нарушения срока</td>\n",
       "      <td>0 days</td>\n",
       "      <td>без нарушения срока</td>\n",
       "      <td>17E5665E-FD57-E711-A203-901B0E0F5E0F</td>\n",
       "      <td>Служебная записка</td>\n",
       "      <td>2017-06-23</td>\n",
       "      <td>NaT</td>\n",
       "      <td>2021-02-17</td>\n",
       "      <td>На приёмке</td>\n",
       "      <td>ОРГ1-00870</td>\n",
       "    </tr>\n",
       "    <tr>\n",
       "      <th>258056</th>\n",
       "      <td>Без нарушения срока</td>\n",
       "      <td>0 days</td>\n",
       "      <td>без нарушения срока</td>\n",
       "      <td>08B2D2C6-C357-432B-8297-394CC59ED30C</td>\n",
       "      <td>Входящий</td>\n",
       "      <td>2020-06-03</td>\n",
       "      <td>NaT</td>\n",
       "      <td>2021-07-06</td>\n",
       "      <td>На приёмке</td>\n",
       "      <td>ОРГ1-00969</td>\n",
       "    </tr>\n",
       "    <tr>\n",
       "      <th>258058</th>\n",
       "      <td>Без нарушения срока</td>\n",
       "      <td>0 days</td>\n",
       "      <td>без нарушения срока</td>\n",
       "      <td>7EE92AB6-6E39-E711-80C9-00155D000B4B</td>\n",
       "      <td>Служебная записка</td>\n",
       "      <td>2017-05-15</td>\n",
       "      <td>NaT</td>\n",
       "      <td>2021-02-26</td>\n",
       "      <td>На приёмке</td>\n",
       "      <td>ОРГ1-00046</td>\n",
       "    </tr>\n",
       "    <tr>\n",
       "      <th>258059</th>\n",
       "      <td>Без нарушения срока</td>\n",
       "      <td>0 days</td>\n",
       "      <td>без нарушения срока</td>\n",
       "      <td>83C7D6D8-CB3B-E711-80C9-00155D000B4B</td>\n",
       "      <td>Входящий</td>\n",
       "      <td>2017-05-18</td>\n",
       "      <td>NaT</td>\n",
       "      <td>2021-11-12</td>\n",
       "      <td>На приёмке</td>\n",
       "      <td>ОРГ1-00046</td>\n",
       "    </tr>\n",
       "    <tr>\n",
       "      <th>258060</th>\n",
       "      <td>Без нарушения срока</td>\n",
       "      <td>0 days</td>\n",
       "      <td>без нарушения срока</td>\n",
       "      <td>DCF15565-2D5B-E711-A203-901B0E0F5E0F</td>\n",
       "      <td>Входящий</td>\n",
       "      <td>2017-06-27</td>\n",
       "      <td>NaT</td>\n",
       "      <td>2021-02-19</td>\n",
       "      <td>На приёмке</td>\n",
       "      <td>ОРГ1-00967</td>\n",
       "    </tr>\n",
       "    <tr>\n",
       "      <th>258061</th>\n",
       "      <td>Без нарушения срока</td>\n",
       "      <td>0 days</td>\n",
       "      <td>без нарушения срока</td>\n",
       "      <td>E14BAEE7-7CED-E811-A210-90E2BA8285A9</td>\n",
       "      <td>Входящий</td>\n",
       "      <td>2018-11-21</td>\n",
       "      <td>NaT</td>\n",
       "      <td>2021-03-16</td>\n",
       "      <td>На приёмке</td>\n",
       "      <td>ОРГ1-00226</td>\n",
       "    </tr>\n",
       "    <tr>\n",
       "      <th>258062</th>\n",
       "      <td>Без нарушения срока</td>\n",
       "      <td>0 days</td>\n",
       "      <td>без нарушения срока</td>\n",
       "      <td>8DFEF68D-D63F-4E92-BF8C-51B5BFE141DC</td>\n",
       "      <td>Входящий</td>\n",
       "      <td>2021-08-11</td>\n",
       "      <td>NaT</td>\n",
       "      <td>2021-08-12</td>\n",
       "      <td>На приёмке</td>\n",
       "      <td>ОРГ1-02767</td>\n",
       "    </tr>\n",
       "    <tr>\n",
       "      <th>258063</th>\n",
       "      <td>Без нарушения срока</td>\n",
       "      <td>0 days</td>\n",
       "      <td>без нарушения срока</td>\n",
       "      <td>24774AA9-75DF-4E4D-B55B-4A9ADF44425F</td>\n",
       "      <td>Служебная записка</td>\n",
       "      <td>2021-09-15</td>\n",
       "      <td>NaT</td>\n",
       "      <td>2021-09-16</td>\n",
       "      <td>На приёмке</td>\n",
       "      <td>ОРГ1-01387</td>\n",
       "    </tr>\n",
       "    <tr>\n",
       "      <th>258064</th>\n",
       "      <td>Без нарушения срока</td>\n",
       "      <td>0 days</td>\n",
       "      <td>без нарушения срока</td>\n",
       "      <td>BC93F4EE-C62D-E911-A214-90E2BAC69FD5</td>\n",
       "      <td>NaN</td>\n",
       "      <td>2019-02-11</td>\n",
       "      <td>NaT</td>\n",
       "      <td>2021-11-12</td>\n",
       "      <td>На приёмке</td>\n",
       "      <td>ОРГ1-00046</td>\n",
       "    </tr>\n",
       "    <tr>\n",
       "      <th>258065</th>\n",
       "      <td>Без нарушения срока</td>\n",
       "      <td>0 days</td>\n",
       "      <td>без нарушения срока</td>\n",
       "      <td>C72E76A8-CE18-E911-A20D-90E2BAC69FD5</td>\n",
       "      <td>NaN</td>\n",
       "      <td>2019-01-15</td>\n",
       "      <td>NaT</td>\n",
       "      <td>2021-11-12</td>\n",
       "      <td>На приёмке</td>\n",
       "      <td>ОРГ1-00046</td>\n",
       "    </tr>\n",
       "    <tr>\n",
       "      <th>258066</th>\n",
       "      <td>Без нарушения срока</td>\n",
       "      <td>0 days</td>\n",
       "      <td>без нарушения срока</td>\n",
       "      <td>5ACAD2E3-8C15-E911-A20D-90E2BAC69FD5</td>\n",
       "      <td>NaN</td>\n",
       "      <td>2019-01-11</td>\n",
       "      <td>NaT</td>\n",
       "      <td>2021-11-12</td>\n",
       "      <td>На приёмке</td>\n",
       "      <td>ОРГ1-00046</td>\n",
       "    </tr>\n",
       "    <tr>\n",
       "      <th>258067</th>\n",
       "      <td>Без нарушения срока</td>\n",
       "      <td>0 days</td>\n",
       "      <td>без нарушения срока</td>\n",
       "      <td>5F57F818-5E24-E911-A216-90E2BA8285A9</td>\n",
       "      <td>NaN</td>\n",
       "      <td>2019-01-30</td>\n",
       "      <td>NaT</td>\n",
       "      <td>2021-11-16</td>\n",
       "      <td>На приёмке</td>\n",
       "      <td>ОРГ1-01258</td>\n",
       "    </tr>\n",
       "    <tr>\n",
       "      <th>258068</th>\n",
       "      <td>Без нарушения срока</td>\n",
       "      <td>0 days</td>\n",
       "      <td>без нарушения срока</td>\n",
       "      <td>62304226-892E-E811-A204-90E2BA8285A9</td>\n",
       "      <td>Служебная записка</td>\n",
       "      <td>2018-03-23</td>\n",
       "      <td>NaT</td>\n",
       "      <td>2021-02-17</td>\n",
       "      <td>На приёмке</td>\n",
       "      <td>ОРГ1-01378</td>\n",
       "    </tr>\n",
       "    <tr>\n",
       "      <th>258069</th>\n",
       "      <td>Без нарушения срока</td>\n",
       "      <td>0 days</td>\n",
       "      <td>без нарушения срока</td>\n",
       "      <td>1A291ACD-3283-E711-A21A-90E2BA8378FD</td>\n",
       "      <td>Служебная записка</td>\n",
       "      <td>2017-08-17</td>\n",
       "      <td>NaT</td>\n",
       "      <td>2021-02-17</td>\n",
       "      <td>На приёмке</td>\n",
       "      <td>ОРГ1-01378</td>\n",
       "    </tr>\n",
       "    <tr>\n",
       "      <th>258070</th>\n",
       "      <td>Без нарушения срока</td>\n",
       "      <td>0 days</td>\n",
       "      <td>без нарушения срока</td>\n",
       "      <td>26492698-9F1F-E911-A216-90E2BA8285A9</td>\n",
       "      <td>NaN</td>\n",
       "      <td>2019-01-24</td>\n",
       "      <td>NaT</td>\n",
       "      <td>2021-05-26</td>\n",
       "      <td>На приёмке</td>\n",
       "      <td>ОРГ1-00464</td>\n",
       "    </tr>\n",
       "    <tr>\n",
       "      <th>258071</th>\n",
       "      <td>Без нарушения срока</td>\n",
       "      <td>0 days</td>\n",
       "      <td>без нарушения срока</td>\n",
       "      <td>81B1674E-CDB3-E711-A21B-90E2BA8378FD</td>\n",
       "      <td>Входящий</td>\n",
       "      <td>2017-10-18</td>\n",
       "      <td>NaT</td>\n",
       "      <td>2021-02-18</td>\n",
       "      <td>На приёмке</td>\n",
       "      <td>ОРГ1-00346</td>\n",
       "    </tr>\n",
       "    <tr>\n",
       "      <th>258072</th>\n",
       "      <td>Без нарушения срока</td>\n",
       "      <td>0 days</td>\n",
       "      <td>без нарушения срока</td>\n",
       "      <td>099A493B-E425-E911-A214-90E2BAC69FD5</td>\n",
       "      <td>NaN</td>\n",
       "      <td>2019-02-01</td>\n",
       "      <td>NaT</td>\n",
       "      <td>2021-11-12</td>\n",
       "      <td>На приёмке</td>\n",
       "      <td>ОРГ1-00464</td>\n",
       "    </tr>\n",
       "    <tr>\n",
       "      <th>258073</th>\n",
       "      <td>Без нарушения срока</td>\n",
       "      <td>0 days</td>\n",
       "      <td>без нарушения срока</td>\n",
       "      <td>726C0FEE-ABAC-E711-A21B-90E2BA8378FD</td>\n",
       "      <td>Служебная записка</td>\n",
       "      <td>2017-10-09</td>\n",
       "      <td>NaT</td>\n",
       "      <td>2021-02-17</td>\n",
       "      <td>На приёмке</td>\n",
       "      <td>ОРГ1-01378</td>\n",
       "    </tr>\n",
       "    <tr>\n",
       "      <th>258074</th>\n",
       "      <td>Без нарушения срока</td>\n",
       "      <td>0 days</td>\n",
       "      <td>без нарушения срока</td>\n",
       "      <td>19ECDD4F-EE45-E711-80C9-00155D000B4B</td>\n",
       "      <td>Служебная записка</td>\n",
       "      <td>2017-05-31</td>\n",
       "      <td>NaT</td>\n",
       "      <td>2021-02-20</td>\n",
       "      <td>На приёмке</td>\n",
       "      <td>ОРГ1-00634</td>\n",
       "    </tr>\n",
       "    <tr>\n",
       "      <th>258075</th>\n",
       "      <td>Без нарушения срока</td>\n",
       "      <td>0 days</td>\n",
       "      <td>без нарушения срока</td>\n",
       "      <td>DC6B8213-4C11-E811-A20D-901B0E0F5E0F</td>\n",
       "      <td>Служебная записка</td>\n",
       "      <td>2018-02-14</td>\n",
       "      <td>NaT</td>\n",
       "      <td>2021-11-12</td>\n",
       "      <td>На приёмке</td>\n",
       "      <td>ОРГ1-01546</td>\n",
       "    </tr>\n",
       "  </tbody>\n",
       "</table>\n",
       "</div>"
      ],
      "text/plain": [
       "        Статус по просрочке Просрочено, дней ДлительностьПросрочки  \\\n",
       "258047  Без нарушения срока           0 days   без нарушения срока   \n",
       "258048  Без нарушения срока           0 days   без нарушения срока   \n",
       "258049  Без нарушения срока           0 days   без нарушения срока   \n",
       "258050  Без нарушения срока           0 days   без нарушения срока   \n",
       "258051  Без нарушения срока           0 days   без нарушения срока   \n",
       "258052  Без нарушения срока           0 days   без нарушения срока   \n",
       "258053  Без нарушения срока           0 days   без нарушения срока   \n",
       "258054  Без нарушения срока           0 days   без нарушения срока   \n",
       "258055  Без нарушения срока           0 days   без нарушения срока   \n",
       "258056  Без нарушения срока           0 days   без нарушения срока   \n",
       "258058  Без нарушения срока           0 days   без нарушения срока   \n",
       "258059  Без нарушения срока           0 days   без нарушения срока   \n",
       "258060  Без нарушения срока           0 days   без нарушения срока   \n",
       "258061  Без нарушения срока           0 days   без нарушения срока   \n",
       "258062  Без нарушения срока           0 days   без нарушения срока   \n",
       "258063  Без нарушения срока           0 days   без нарушения срока   \n",
       "258064  Без нарушения срока           0 days   без нарушения срока   \n",
       "258065  Без нарушения срока           0 days   без нарушения срока   \n",
       "258066  Без нарушения срока           0 days   без нарушения срока   \n",
       "258067  Без нарушения срока           0 days   без нарушения срока   \n",
       "258068  Без нарушения срока           0 days   без нарушения срока   \n",
       "258069  Без нарушения срока           0 days   без нарушения срока   \n",
       "258070  Без нарушения срока           0 days   без нарушения срока   \n",
       "258071  Без нарушения срока           0 days   без нарушения срока   \n",
       "258072  Без нарушения срока           0 days   без нарушения срока   \n",
       "258073  Без нарушения срока           0 days   без нарушения срока   \n",
       "258074  Без нарушения срока           0 days   без нарушения срока   \n",
       "258075  Без нарушения срока           0 days   без нарушения срока   \n",
       "\n",
       "                                   ID задачи      Вид документа  \\\n",
       "258047  E5A914E3-60FF-E711-A223-90E2BA8378FD           Входящий   \n",
       "258048  1DB103D6-3EF5-E711-A223-90E2BA8378FD  Служебная записка   \n",
       "258049  10FAE1DA-1532-48A9-BA77-3E9CCA3B1695           Протокол   \n",
       "258050  B22024D5-1483-E711-A21A-90E2BA8378FD           Входящий   \n",
       "258051  EB201CB9-3029-E911-A214-90E2BAC69FD5                NaN   \n",
       "258052  064340CE-F213-E911-A20D-90E2BAC69FD5           Входящий   \n",
       "258053  AC13D720-C8B3-E711-A21B-90E2BA8378FD  Служебная записка   \n",
       "258054  2CF30C0B-3D65-E711-A217-90E2BA8378FC  Служебная записка   \n",
       "258055  17E5665E-FD57-E711-A203-901B0E0F5E0F  Служебная записка   \n",
       "258056  08B2D2C6-C357-432B-8297-394CC59ED30C           Входящий   \n",
       "258058  7EE92AB6-6E39-E711-80C9-00155D000B4B  Служебная записка   \n",
       "258059  83C7D6D8-CB3B-E711-80C9-00155D000B4B           Входящий   \n",
       "258060  DCF15565-2D5B-E711-A203-901B0E0F5E0F           Входящий   \n",
       "258061  E14BAEE7-7CED-E811-A210-90E2BA8285A9           Входящий   \n",
       "258062  8DFEF68D-D63F-4E92-BF8C-51B5BFE141DC           Входящий   \n",
       "258063  24774AA9-75DF-4E4D-B55B-4A9ADF44425F  Служебная записка   \n",
       "258064  BC93F4EE-C62D-E911-A214-90E2BAC69FD5                NaN   \n",
       "258065  C72E76A8-CE18-E911-A20D-90E2BAC69FD5                NaN   \n",
       "258066  5ACAD2E3-8C15-E911-A20D-90E2BAC69FD5                NaN   \n",
       "258067  5F57F818-5E24-E911-A216-90E2BA8285A9                NaN   \n",
       "258068  62304226-892E-E811-A204-90E2BA8285A9  Служебная записка   \n",
       "258069  1A291ACD-3283-E711-A21A-90E2BA8378FD  Служебная записка   \n",
       "258070  26492698-9F1F-E911-A216-90E2BA8285A9                NaN   \n",
       "258071  81B1674E-CDB3-E711-A21B-90E2BA8378FD           Входящий   \n",
       "258072  099A493B-E425-E911-A214-90E2BAC69FD5                NaN   \n",
       "258073  726C0FEE-ABAC-E711-A21B-90E2BA8378FD  Служебная записка   \n",
       "258074  19ECDD4F-EE45-E711-80C9-00155D000B4B  Служебная записка   \n",
       "258075  DC6B8213-4C11-E811-A20D-901B0E0F5E0F  Служебная записка   \n",
       "\n",
       "       Дата старта задания Дата завершения задания плановая  \\\n",
       "258047          2018-01-22                              NaT   \n",
       "258048          2018-01-09                              NaT   \n",
       "258049          2021-05-24                              NaT   \n",
       "258050          2017-08-17                              NaT   \n",
       "258051          2019-02-05                              NaT   \n",
       "258052          2019-01-09                              NaT   \n",
       "258053          2017-10-18                              NaT   \n",
       "258054          2017-07-10                              NaT   \n",
       "258055          2017-06-23                              NaT   \n",
       "258056          2020-06-03                              NaT   \n",
       "258058          2017-05-15                              NaT   \n",
       "258059          2017-05-18                              NaT   \n",
       "258060          2017-06-27                              NaT   \n",
       "258061          2018-11-21                              NaT   \n",
       "258062          2021-08-11                              NaT   \n",
       "258063          2021-09-15                              NaT   \n",
       "258064          2019-02-11                              NaT   \n",
       "258065          2019-01-15                              NaT   \n",
       "258066          2019-01-11                              NaT   \n",
       "258067          2019-01-30                              NaT   \n",
       "258068          2018-03-23                              NaT   \n",
       "258069          2017-08-17                              NaT   \n",
       "258070          2019-01-24                              NaT   \n",
       "258071          2017-10-18                              NaT   \n",
       "258072          2019-02-01                              NaT   \n",
       "258073          2017-10-09                              NaT   \n",
       "258074          2017-05-31                              NaT   \n",
       "258075          2018-02-14                              NaT   \n",
       "\n",
       "       Дата завершения задания фактическая Состояние задания          id  \n",
       "258047                          2021-03-02        На приёмке  ОРГ2-00635  \n",
       "258048                          2021-02-27        На приёмке  ОРГ2-00868  \n",
       "258049                          2021-06-07        На приёмке  ОРГ2-00477  \n",
       "258050                          2021-03-04        На приёмке  ОРГ1-01391  \n",
       "258051                          2021-11-29        На приёмке  ОРГ1-01807  \n",
       "258052                          2021-11-29        На приёмке  ОРГ1-01807  \n",
       "258053                          2021-02-17        На приёмке  ОРГ1-01378  \n",
       "258054                          2021-03-01        На приёмке  ОРГ1-02701  \n",
       "258055                          2021-02-17        На приёмке  ОРГ1-00870  \n",
       "258056                          2021-07-06        На приёмке  ОРГ1-00969  \n",
       "258058                          2021-02-26        На приёмке  ОРГ1-00046  \n",
       "258059                          2021-11-12        На приёмке  ОРГ1-00046  \n",
       "258060                          2021-02-19        На приёмке  ОРГ1-00967  \n",
       "258061                          2021-03-16        На приёмке  ОРГ1-00226  \n",
       "258062                          2021-08-12        На приёмке  ОРГ1-02767  \n",
       "258063                          2021-09-16        На приёмке  ОРГ1-01387  \n",
       "258064                          2021-11-12        На приёмке  ОРГ1-00046  \n",
       "258065                          2021-11-12        На приёмке  ОРГ1-00046  \n",
       "258066                          2021-11-12        На приёмке  ОРГ1-00046  \n",
       "258067                          2021-11-16        На приёмке  ОРГ1-01258  \n",
       "258068                          2021-02-17        На приёмке  ОРГ1-01378  \n",
       "258069                          2021-02-17        На приёмке  ОРГ1-01378  \n",
       "258070                          2021-05-26        На приёмке  ОРГ1-00464  \n",
       "258071                          2021-02-18        На приёмке  ОРГ1-00346  \n",
       "258072                          2021-11-12        На приёмке  ОРГ1-00464  \n",
       "258073                          2021-02-17        На приёмке  ОРГ1-01378  \n",
       "258074                          2021-02-20        На приёмке  ОРГ1-00634  \n",
       "258075                          2021-11-12        На приёмке  ОРГ1-01546  "
      ]
     },
     "execution_count": 107,
     "metadata": {},
     "output_type": "execute_result"
    }
   ],
   "source": [
    "df_tasks[df_tasks['Дата завершения задания плановая'].isna()]"
   ]
  },
  {
   "cell_type": "code",
   "execution_count": 108,
   "id": "7383c4b6",
   "metadata": {},
   "outputs": [
    {
     "data": {
      "text/plain": [
       "На приёмке    28\n",
       "Name: Состояние задания, dtype: int64"
      ]
     },
     "execution_count": 108,
     "metadata": {},
     "output_type": "execute_result"
    }
   ],
   "source": [
    "df_tasks[df_tasks['Дата завершения задания плановая'].isna()]['Состояние задания'].value_counts()"
   ]
  },
  {
   "cell_type": "markdown",
   "id": "9e7f602b",
   "metadata": {},
   "source": [
    "Все документы с пропусками находятся в состоянии на приёме. Заполним плановую дату как фактическую дату минус количество просроченных дней"
   ]
  },
  {
   "cell_type": "code",
   "execution_count": 109,
   "id": "b36019e2",
   "metadata": {},
   "outputs": [],
   "source": [
    "df_tasks.loc[(df_tasks['Дата завершения задания плановая'].isna()), 'Дата завершения задания плановая'] = (df_tasks.loc[\n",
    "    (df_tasks['Дата завершения задания плановая'].isna()), 'Дата завершения задания фактическая'] - \n",
    "    df_tasks.loc[(df_tasks['Дата завершения задания плановая'].isna()), 'Просрочено, дней'])"
   ]
  },
  {
   "cell_type": "code",
   "execution_count": 110,
   "id": "f6e72726",
   "metadata": {},
   "outputs": [
    {
     "data": {
      "text/plain": [
       "0"
      ]
     },
     "execution_count": 110,
     "metadata": {},
     "output_type": "execute_result"
    }
   ],
   "source": [
    "df_tasks['Дата завершения задания плановая'].isna().sum()"
   ]
  },
  {
   "cell_type": "markdown",
   "id": "8d877c73",
   "metadata": {},
   "source": [
    "Пропуски в столбцах с датами обработали. Теперь необходимо преобразовать категориальный признак ДлительностьПросрочки, Вид документа и Состояние задания, при помощи One Hot Encoder. После этого удалим ненужные столбцы."
   ]
  },
  {
   "cell_type": "code",
   "execution_count": 111,
   "id": "f696e48f",
   "metadata": {},
   "outputs": [],
   "source": [
    "df_tasks = pd.concat([df_tasks, pd.get_dummies(df_tasks[['ДлительностьПросрочки', 'Вид документа', 'Состояние задания']])],\n",
    "                     axis=1)\n",
    "df_tasks.drop(['ДлительностьПросрочки', 'ID задачи','Статус по просрочке', 'Вид документа', 'Состояние задания'], \n",
    "              axis=1, inplace=True)"
   ]
  },
  {
   "cell_type": "markdown",
   "id": "fc4fae3a",
   "metadata": {},
   "source": [
    "Добавим столбец с опережением плановой даты"
   ]
  },
  {
   "cell_type": "code",
   "execution_count": 112,
   "id": "c6b54991",
   "metadata": {},
   "outputs": [],
   "source": [
    "df_tasks['advance_day'] = df_tasks['Дата завершения задания плановая'] - df_tasks['Дата завершения задания фактическая']"
   ]
  },
  {
   "cell_type": "markdown",
   "id": "95c27953",
   "metadata": {},
   "source": [
    "Для дальнейшего объединения таблиц создадим столбцы с диапазонами планируемого и штрафного времени , после чего удалим столбцы с датами"
   ]
  },
  {
   "cell_type": "code",
   "execution_count": 113,
   "id": "56ba5e2c",
   "metadata": {},
   "outputs": [
    {
     "data": {
      "text/html": [
       "<div>\n",
       "<style scoped>\n",
       "    .dataframe tbody tr th:only-of-type {\n",
       "        vertical-align: middle;\n",
       "    }\n",
       "\n",
       "    .dataframe tbody tr th {\n",
       "        vertical-align: top;\n",
       "    }\n",
       "\n",
       "    .dataframe thead th {\n",
       "        text-align: right;\n",
       "    }\n",
       "</style>\n",
       "<table border=\"1\" class=\"dataframe\">\n",
       "  <thead>\n",
       "    <tr style=\"text-align: right;\">\n",
       "      <th></th>\n",
       "      <th>Просрочено, дней</th>\n",
       "      <th>id</th>\n",
       "      <th>ДлительностьПросрочки_без нарушения срока</th>\n",
       "      <th>ДлительностьПросрочки_более 30 дней</th>\n",
       "      <th>ДлительностьПросрочки_до 30 дней</th>\n",
       "      <th>ДлительностьПросрочки_до 7 дней</th>\n",
       "      <th>Вид документа_Акт</th>\n",
       "      <th>Вид документа_Внутренний документ</th>\n",
       "      <th>Вид документа_Внутренний документ для БП синхронизация 1С</th>\n",
       "      <th>Вид документа_Входящий</th>\n",
       "      <th>...</th>\n",
       "      <th>Вид документа_Распоряжение</th>\n",
       "      <th>Вид документа_Служебная записка</th>\n",
       "      <th>Вид документа_Файл</th>\n",
       "      <th>Состояние задания_В работе</th>\n",
       "      <th>Состояние задания_Возврат с делегирования</th>\n",
       "      <th>Состояние задания_Завершено</th>\n",
       "      <th>Состояние задания_На приёмке</th>\n",
       "      <th>Состояние задания_Не начато</th>\n",
       "      <th>Состояние задания_Отложено</th>\n",
       "      <th>advance_day</th>\n",
       "    </tr>\n",
       "  </thead>\n",
       "  <tbody>\n",
       "    <tr>\n",
       "      <th>0</th>\n",
       "      <td>0 days</td>\n",
       "      <td>ОРГ1-02588</td>\n",
       "      <td>1</td>\n",
       "      <td>0</td>\n",
       "      <td>0</td>\n",
       "      <td>0</td>\n",
       "      <td>0</td>\n",
       "      <td>0</td>\n",
       "      <td>0</td>\n",
       "      <td>0</td>\n",
       "      <td>...</td>\n",
       "      <td>0</td>\n",
       "      <td>1</td>\n",
       "      <td>0</td>\n",
       "      <td>0</td>\n",
       "      <td>0</td>\n",
       "      <td>1</td>\n",
       "      <td>0</td>\n",
       "      <td>0</td>\n",
       "      <td>0</td>\n",
       "      <td>0 days</td>\n",
       "    </tr>\n",
       "    <tr>\n",
       "      <th>1</th>\n",
       "      <td>0 days</td>\n",
       "      <td>ОРГ1-02588</td>\n",
       "      <td>1</td>\n",
       "      <td>0</td>\n",
       "      <td>0</td>\n",
       "      <td>0</td>\n",
       "      <td>0</td>\n",
       "      <td>0</td>\n",
       "      <td>0</td>\n",
       "      <td>0</td>\n",
       "      <td>...</td>\n",
       "      <td>0</td>\n",
       "      <td>1</td>\n",
       "      <td>0</td>\n",
       "      <td>0</td>\n",
       "      <td>0</td>\n",
       "      <td>1</td>\n",
       "      <td>0</td>\n",
       "      <td>0</td>\n",
       "      <td>0</td>\n",
       "      <td>0 days</td>\n",
       "    </tr>\n",
       "    <tr>\n",
       "      <th>2</th>\n",
       "      <td>0 days</td>\n",
       "      <td>ОРГ1-02588</td>\n",
       "      <td>1</td>\n",
       "      <td>0</td>\n",
       "      <td>0</td>\n",
       "      <td>0</td>\n",
       "      <td>0</td>\n",
       "      <td>0</td>\n",
       "      <td>0</td>\n",
       "      <td>0</td>\n",
       "      <td>...</td>\n",
       "      <td>0</td>\n",
       "      <td>1</td>\n",
       "      <td>0</td>\n",
       "      <td>0</td>\n",
       "      <td>0</td>\n",
       "      <td>1</td>\n",
       "      <td>0</td>\n",
       "      <td>0</td>\n",
       "      <td>0</td>\n",
       "      <td>0 days</td>\n",
       "    </tr>\n",
       "    <tr>\n",
       "      <th>3</th>\n",
       "      <td>0 days</td>\n",
       "      <td>ОРГ1-02588</td>\n",
       "      <td>1</td>\n",
       "      <td>0</td>\n",
       "      <td>0</td>\n",
       "      <td>0</td>\n",
       "      <td>0</td>\n",
       "      <td>0</td>\n",
       "      <td>0</td>\n",
       "      <td>0</td>\n",
       "      <td>...</td>\n",
       "      <td>0</td>\n",
       "      <td>1</td>\n",
       "      <td>0</td>\n",
       "      <td>0</td>\n",
       "      <td>0</td>\n",
       "      <td>1</td>\n",
       "      <td>0</td>\n",
       "      <td>0</td>\n",
       "      <td>0</td>\n",
       "      <td>0 days</td>\n",
       "    </tr>\n",
       "    <tr>\n",
       "      <th>4</th>\n",
       "      <td>0 days</td>\n",
       "      <td>ОРГ1-02588</td>\n",
       "      <td>1</td>\n",
       "      <td>0</td>\n",
       "      <td>0</td>\n",
       "      <td>0</td>\n",
       "      <td>0</td>\n",
       "      <td>0</td>\n",
       "      <td>0</td>\n",
       "      <td>0</td>\n",
       "      <td>...</td>\n",
       "      <td>0</td>\n",
       "      <td>1</td>\n",
       "      <td>0</td>\n",
       "      <td>0</td>\n",
       "      <td>0</td>\n",
       "      <td>1</td>\n",
       "      <td>0</td>\n",
       "      <td>0</td>\n",
       "      <td>0</td>\n",
       "      <td>0 days</td>\n",
       "    </tr>\n",
       "  </tbody>\n",
       "</table>\n",
       "<p>5 rows × 28 columns</p>\n",
       "</div>"
      ],
      "text/plain": [
       "  Просрочено, дней          id  ДлительностьПросрочки_без нарушения срока  \\\n",
       "0           0 days  ОРГ1-02588                                          1   \n",
       "1           0 days  ОРГ1-02588                                          1   \n",
       "2           0 days  ОРГ1-02588                                          1   \n",
       "3           0 days  ОРГ1-02588                                          1   \n",
       "4           0 days  ОРГ1-02588                                          1   \n",
       "\n",
       "   ДлительностьПросрочки_более 30 дней  ДлительностьПросрочки_до 30 дней  \\\n",
       "0                                    0                                 0   \n",
       "1                                    0                                 0   \n",
       "2                                    0                                 0   \n",
       "3                                    0                                 0   \n",
       "4                                    0                                 0   \n",
       "\n",
       "   ДлительностьПросрочки_до 7 дней  Вид документа_Акт  \\\n",
       "0                                0                  0   \n",
       "1                                0                  0   \n",
       "2                                0                  0   \n",
       "3                                0                  0   \n",
       "4                                0                  0   \n",
       "\n",
       "   Вид документа_Внутренний документ  \\\n",
       "0                                  0   \n",
       "1                                  0   \n",
       "2                                  0   \n",
       "3                                  0   \n",
       "4                                  0   \n",
       "\n",
       "   Вид документа_Внутренний документ для БП синхронизация 1С  \\\n",
       "0                                                  0           \n",
       "1                                                  0           \n",
       "2                                                  0           \n",
       "3                                                  0           \n",
       "4                                                  0           \n",
       "\n",
       "   Вид документа_Входящий  ...  Вид документа_Распоряжение  \\\n",
       "0                       0  ...                           0   \n",
       "1                       0  ...                           0   \n",
       "2                       0  ...                           0   \n",
       "3                       0  ...                           0   \n",
       "4                       0  ...                           0   \n",
       "\n",
       "   Вид документа_Служебная записка  Вид документа_Файл  \\\n",
       "0                                1                   0   \n",
       "1                                1                   0   \n",
       "2                                1                   0   \n",
       "3                                1                   0   \n",
       "4                                1                   0   \n",
       "\n",
       "   Состояние задания_В работе  Состояние задания_Возврат с делегирования  \\\n",
       "0                           0                                          0   \n",
       "1                           0                                          0   \n",
       "2                           0                                          0   \n",
       "3                           0                                          0   \n",
       "4                           0                                          0   \n",
       "\n",
       "   Состояние задания_Завершено  Состояние задания_На приёмке  \\\n",
       "0                            1                             0   \n",
       "1                            1                             0   \n",
       "2                            1                             0   \n",
       "3                            1                             0   \n",
       "4                            1                             0   \n",
       "\n",
       "   Состояние задания_Не начато  Состояние задания_Отложено  advance_day  \n",
       "0                            0                           0       0 days  \n",
       "1                            0                           0       0 days  \n",
       "2                            0                           0       0 days  \n",
       "3                            0                           0       0 days  \n",
       "4                            0                           0       0 days  \n",
       "\n",
       "[5 rows x 28 columns]"
      ]
     },
     "execution_count": 113,
     "metadata": {},
     "output_type": "execute_result"
    }
   ],
   "source": [
    "df_tasks.drop(['Дата старта задания', 'Дата завершения задания плановая','Дата завершения задания фактическая'], \n",
    "               axis=1, inplace=True)\n",
    "df_tasks.head()"
   ]
  },
  {
   "cell_type": "markdown",
   "id": "a0c4afcb",
   "metadata": {},
   "source": [
    "Так же требуется преобразовать дни из формата deltatimes в int, чтобы в дальнейшем можно было передать эти данные в модель"
   ]
  },
  {
   "cell_type": "code",
   "execution_count": 114,
   "id": "2cc20859",
   "metadata": {},
   "outputs": [],
   "source": [
    "df_tasks['Просрочено, дней'] = df_tasks['Просрочено, дней'].dt.days"
   ]
  },
  {
   "cell_type": "code",
   "execution_count": 115,
   "id": "3d302db3",
   "metadata": {},
   "outputs": [],
   "source": [
    "df_tasks['advance_day'] = df_tasks['advance_day'].dt.days"
   ]
  },
  {
   "cell_type": "code",
   "execution_count": 116,
   "id": "ac648210",
   "metadata": {},
   "outputs": [
    {
     "name": "stdout",
     "output_type": "stream",
     "text": [
      "<class 'pandas.core.frame.DataFrame'>\n",
      "Int64Index: 536316 entries, 0 to 536659\n",
      "Data columns (total 28 columns):\n",
      " #   Column                                                     Non-Null Count   Dtype \n",
      "---  ------                                                     --------------   ----- \n",
      " 0   Просрочено, дней                                           536316 non-null  int64 \n",
      " 1   id                                                         536316 non-null  object\n",
      " 2   ДлительностьПросрочки_без нарушения срока                  536316 non-null  uint8 \n",
      " 3   ДлительностьПросрочки_более 30 дней                        536316 non-null  uint8 \n",
      " 4   ДлительностьПросрочки_до 30 дней                           536316 non-null  uint8 \n",
      " 5   ДлительностьПросрочки_до 7 дней                            536316 non-null  uint8 \n",
      " 6   Вид документа_Акт                                          536316 non-null  uint8 \n",
      " 7   Вид документа_Внутренний документ                          536316 non-null  uint8 \n",
      " 8   Вид документа_Внутренний документ для БП синхронизация 1С  536316 non-null  uint8 \n",
      " 9   Вид документа_Входящий                                     536316 non-null  uint8 \n",
      " 10  Вид документа_Договор                                      536316 non-null  uint8 \n",
      " 11  Вид документа_Дополнительное соглашение                    536316 non-null  uint8 \n",
      " 12  Вид документа_Запрос на внесение изменений                 536316 non-null  uint8 \n",
      " 13  Вид документа_Исходящий                                    536316 non-null  uint8 \n",
      " 14  Вид документа_Исходящий РМЗ                                536316 non-null  uint8 \n",
      " 15  Вид документа_Отчет по ВА                                  536316 non-null  uint8 \n",
      " 16  Вид документа_Приказ                                       536316 non-null  uint8 \n",
      " 17  Вид документа_Протокол                                     536316 non-null  uint8 \n",
      " 18  Вид документа_Распоряжение                                 536316 non-null  uint8 \n",
      " 19  Вид документа_Служебная записка                            536316 non-null  uint8 \n",
      " 20  Вид документа_Файл                                         536316 non-null  uint8 \n",
      " 21  Состояние задания_В работе                                 536316 non-null  uint8 \n",
      " 22  Состояние задания_Возврат с делегирования                  536316 non-null  uint8 \n",
      " 23  Состояние задания_Завершено                                536316 non-null  uint8 \n",
      " 24  Состояние задания_На приёмке                               536316 non-null  uint8 \n",
      " 25  Состояние задания_Не начато                                536316 non-null  uint8 \n",
      " 26  Состояние задания_Отложено                                 536316 non-null  uint8 \n",
      " 27  advance_day                                                536316 non-null  int64 \n",
      "dtypes: int64(2), object(1), uint8(25)\n",
      "memory usage: 29.2+ MB\n"
     ]
    }
   ],
   "source": [
    "df_tasks.info()"
   ]
  },
  {
   "cell_type": "markdown",
   "id": "e2381bca",
   "metadata": {},
   "source": [
    "Переименуем некоторые столбцы"
   ]
  },
  {
   "cell_type": "code",
   "execution_count": 117,
   "id": "3a779642",
   "metadata": {},
   "outputs": [],
   "source": [
    "df_tasks.rename(columns={'Просрочено, дней':'overdue_days',\n",
    "                        'ДлительностьПросрочки_без нарушения срока': 'without_breaking_the_deadline',\n",
    "                        'ДлительностьПросрочки_более 30 дней': 'breaking_the_deadline_over_30',\n",
    "                        'ДлительностьПросрочки_до 30 дней': 'breaking_the_deadline_up_to_30',\n",
    "                        'ДлительностьПросрочки_до 7 дней': 'breaking_the_deadline_up_to_7'}, inplace=True)"
   ]
  },
  {
   "cell_type": "markdown",
   "id": "0ff9252e",
   "metadata": {},
   "source": [
    "Разделим датасет на 4 отдельных в зависимости от просрочки"
   ]
  },
  {
   "cell_type": "code",
   "execution_count": 118,
   "id": "55e90e80",
   "metadata": {},
   "outputs": [],
   "source": [
    "df_tasks_without_breaking = df_tasks[df_tasks['without_breaking_the_deadline']==1]\n",
    "df_tasks_over_30 = df_tasks[df_tasks['breaking_the_deadline_over_30']==1]\n",
    "df_tasks_up_to_30 = df_tasks[df_tasks['breaking_the_deadline_up_to_30']==1]\n",
    "df_tasks_up_to_7 = df_tasks[df_tasks['breaking_the_deadline_up_to_7']==1]"
   ]
  },
  {
   "cell_type": "markdown",
   "id": "43fca125",
   "metadata": {},
   "source": [
    "Выведем размер получившихся датасетов"
   ]
  },
  {
   "cell_type": "code",
   "execution_count": 119,
   "id": "e4154fae",
   "metadata": {
    "scrolled": true
   },
   "outputs": [
    {
     "name": "stdout",
     "output_type": "stream",
     "text": [
      "(453958, 28)\n",
      "(34466, 28)\n",
      "(15908, 28)\n",
      "(31984, 28)\n"
     ]
    }
   ],
   "source": [
    "print(df_tasks_without_breaking.shape)\n",
    "print(df_tasks_over_30.shape)\n",
    "print(df_tasks_up_to_30.shape)\n",
    "print(df_tasks_up_to_7.shape)"
   ]
  },
  {
   "cell_type": "markdown",
   "id": "4b29fceb",
   "metadata": {},
   "source": [
    "Сгруппируем получившиеся датасеты по пользователям (при этом выделим числовые столбцы и агрерируем их столбцы). А столбцы с временными диапазонами объединим в списки, которые затем распакуем."
   ]
  },
  {
   "cell_type": "code",
   "execution_count": 120,
   "id": "d354d4c9",
   "metadata": {},
   "outputs": [],
   "source": [
    "df_tasks_without_breaking_group = df_tasks_without_breaking.groupby('id').agg(agg_list).reset_index(drop=False)\n",
    "df_tasks_over_30_group = df_tasks_over_30.groupby('id').agg(agg_list).reset_index(drop=False)\n",
    "df_tasks_up_to_30_group = df_tasks_up_to_30.groupby('id').agg(agg_list).reset_index(drop=False)\n",
    "df_tasks_up_to_7_group = df_tasks_up_to_7.groupby('id').agg(agg_list).reset_index(drop=False)"
   ]
  },
  {
   "cell_type": "markdown",
   "id": "5f8764fb",
   "metadata": {},
   "source": [
    "Переименуем столбцы в получившихся датасетах, чтобы убрать многоуровневость в заголовках"
   ]
  },
  {
   "cell_type": "code",
   "execution_count": 122,
   "id": "55766193",
   "metadata": {},
   "outputs": [],
   "source": [
    "df_tasks_without_breaking_group.columns=get_new_name_columns(df_tasks_without_breaking_group)\n",
    "df_tasks_over_30_group.columns=get_new_name_columns(df_tasks_over_30_group, 'over_30_group_')\n",
    "df_tasks_up_to_30_group.columns=get_new_name_columns(df_tasks_up_to_30_group, 'up_to_30_group_')\n",
    "df_tasks_up_to_7_group.columns=get_new_name_columns(df_tasks_up_to_7_group, 'up_to_7_group_')"
   ]
  },
  {
   "cell_type": "markdown",
   "id": "5b74b9f8",
   "metadata": {},
   "source": [
    "### Объединение таблиц"
   ]
  },
  {
   "cell_type": "markdown",
   "id": "a5b32c0b",
   "metadata": {},
   "source": [
    "Объединим полученные ранее таблицы. Начнём с таблиц с заданиями"
   ]
  },
  {
   "cell_type": "code",
   "execution_count": 123,
   "id": "289ce369",
   "metadata": {},
   "outputs": [],
   "source": [
    "df_tasks_all_group = df_tasks_without_breaking_group.merge(df_tasks_over_30_group, how='outer', on='id')\n",
    "df_tasks_all_group = df_tasks_all_group.merge(df_tasks_up_to_30_group, how='outer', on='id')\n",
    "df_tasks_all_group = df_tasks_all_group.merge(df_tasks_up_to_7_group, how='outer', on='id')"
   ]
  },
  {
   "cell_type": "code",
   "execution_count": 124,
   "id": "4d9045e8",
   "metadata": {},
   "outputs": [],
   "source": [
    "df_tasks_all_group = df_tasks_all_group.merge(df_calls_workday, how='outer', on='id')\n",
    "df_tasks_all_group = df_tasks_all_group.merge(df_calls_weekend, how='outer', on='id')"
   ]
  },
  {
   "cell_type": "code",
   "execution_count": 125,
   "id": "fed8dccc",
   "metadata": {},
   "outputs": [],
   "source": [
    "df_tasks_all_group = df_tasks_all_group.merge(df_connection_time_workday, how='outer', on='id')\n",
    "df_tasks_all_group = df_tasks_all_group.merge(df_connection_time_weekend, how='outer', on='id')"
   ]
  },
  {
   "cell_type": "code",
   "execution_count": 126,
   "id": "1cf0071a",
   "metadata": {},
   "outputs": [
    {
     "name": "stderr",
     "output_type": "stream",
     "text": [
      "C:\\Users\\Ярослав\\AppData\\Local\\Temp\\ipykernel_2732\\2870698592.py:2: FutureWarning: Passing 'suffixes' which cause duplicate columns {'ratio_late_x'} in the result is deprecated and will raise a MergeError in a future version.\n",
      "  df_tasks_all_group = df_tasks_all_group.merge(df_connection_time_workday, how='outer', on='id')\n"
     ]
    }
   ],
   "source": [
    "df_tasks_all_group = df_tasks_all_group.merge(df_connection_time_workday, how='outer', on='id')\n",
    "df_tasks_all_group = df_tasks_all_group.merge(df_connection_time_workday, how='outer', on='id')"
   ]
  },
  {
   "cell_type": "code",
   "execution_count": 127,
   "id": "34590db8",
   "metadata": {},
   "outputs": [],
   "source": [
    "df_tasks_all_group = df_tasks_all_group.merge(df_skud_workday, how='outer', on='id')\n",
    "df_tasks_all_group = df_tasks_all_group.merge(df_skud_weekend, how='outer', on='id')"
   ]
  },
  {
   "cell_type": "code",
   "execution_count": 128,
   "id": "0c7b5175",
   "metadata": {},
   "outputs": [],
   "source": [
    "df_tasks_all_group = df_tasks_all_group.merge(df_timen_network_workday, how='outer', on='id')\n",
    "df_tasks_all_group = df_tasks_all_group.merge(df_timen_network_weekend, how='outer', on='id')"
   ]
  },
  {
   "cell_type": "code",
   "execution_count": 129,
   "id": "059b0449",
   "metadata": {},
   "outputs": [],
   "source": [
    "df_tasks_all_group = df_tasks_all_group.merge(df_working_day_workday, how='outer', on='id')\n",
    "df_tasks_all_group = df_tasks_all_group.merge(df_working_day_weekend, how='outer', on='id')"
   ]
  },
  {
   "cell_type": "markdown",
   "id": "ffdc7127",
   "metadata": {},
   "source": [
    "Присоединим таблицу с образованием"
   ]
  },
  {
   "cell_type": "code",
   "execution_count": 130,
   "id": "14c4f1cc",
   "metadata": {},
   "outputs": [],
   "source": [
    "df_tasks_all_group = df_tasks_all_group.merge(df_education, how='outer', on='id')\n",
    "df_tasks_all_group = df_tasks_all_group.fillna(0)"
   ]
  },
  {
   "cell_type": "markdown",
   "id": "df389dba",
   "metadata": {},
   "source": [
    "Добавим столбцы с долей, показывающей отношения выполненных заданий к невыполненным с учётом просрочки"
   ]
  },
  {
   "cell_type": "code",
   "execution_count": 131,
   "id": "2ef3701b",
   "metadata": {},
   "outputs": [],
   "source": [
    "df_tasks_all_group['ratio_deadline'] = ((df_tasks_all_group['over_30_group_breaking_the_deadline_over_30_sum'] + \n",
    "                                         df_tasks_all_group['up_to_30_group_breaking_the_deadline_up_to_30_sum'] + \n",
    "                                         df_tasks_all_group['up_to_7_group_breaking_the_deadline_up_to_7_sum']) / \n",
    "                                        df_tasks_all_group['without_breaking_the_deadline_sum'])\n"
   ]
  },
  {
   "cell_type": "code",
   "execution_count": 132,
   "id": "702a81cc",
   "metadata": {},
   "outputs": [
    {
     "data": {
      "text/plain": [
       "0.000000    115\n",
       "inf          55\n",
       "0.500000     39\n",
       "1.000000     27\n",
       "0.250000     19\n",
       "           ... \n",
       "0.275862      1\n",
       "0.106383      1\n",
       "0.299287      1\n",
       "0.094059      1\n",
       "0.115871      1\n",
       "Name: ratio_deadline, Length: 760, dtype: int64"
      ]
     },
     "execution_count": 132,
     "metadata": {},
     "output_type": "execute_result"
    }
   ],
   "source": [
    "df_tasks_all_group['ratio_deadline'].value_counts()"
   ]
  },
  {
   "cell_type": "markdown",
   "id": "c4b05777",
   "metadata": {},
   "source": [
    "В данных появляется бесконечность, поэтому преобразуем такие ячейки присвоив им значение 2"
   ]
  },
  {
   "cell_type": "code",
   "execution_count": 133,
   "id": "c473ae5d",
   "metadata": {},
   "outputs": [],
   "source": [
    "df_tasks_all_group.loc[df_tasks_all_group['ratio_deadline']==np.inf, 'ratio_deadline'] = 2"
   ]
  },
  {
   "cell_type": "code",
   "execution_count": 134,
   "id": "7ecc9297",
   "metadata": {},
   "outputs": [],
   "source": [
    "df_tasks_all_group['ratio_deadline_over_30'] = (df_tasks_all_group['over_30_group_breaking_the_deadline_over_30_sum']  / \n",
    "                                        df_tasks_all_group['without_breaking_the_deadline_sum'])\n",
    "df_tasks_all_group.loc[df_tasks_all_group['ratio_deadline_over_30']==np.inf, 'ratio_deadline_over_30'] = 2"
   ]
  },
  {
   "cell_type": "code",
   "execution_count": 135,
   "id": "6dfbeda4",
   "metadata": {},
   "outputs": [],
   "source": [
    "df_tasks_all_group['ratio_deadline_up_to_30'] = (df_tasks_all_group['up_to_30_group_breaking_the_deadline_up_to_30_sum'] / \n",
    "                                        df_tasks_all_group['without_breaking_the_deadline_sum'])\n",
    "df_tasks_all_group.loc[df_tasks_all_group['ratio_deadline_up_to_30']==np.inf, 'ratio_deadline_up_to_30'] = 2"
   ]
  },
  {
   "cell_type": "code",
   "execution_count": 136,
   "id": "40121917",
   "metadata": {},
   "outputs": [],
   "source": [
    "df_tasks_all_group['ratio_deadline_up_to_7'] = (df_tasks_all_group['up_to_7_group_breaking_the_deadline_up_to_7_sum'] / \n",
    "                                        df_tasks_all_group['without_breaking_the_deadline_sum'])\n",
    "df_tasks_all_group.loc[df_tasks_all_group['ratio_deadline_up_to_7']==np.inf, 'ratio_deadline_up_to_7'] = 2"
   ]
  },
  {
   "cell_type": "markdown",
   "id": "86c9119c",
   "metadata": {},
   "source": [
    "## Разработка модели"
   ]
  },
  {
   "cell_type": "markdown",
   "id": "c1a90f21",
   "metadata": {},
   "source": [
    "### Создание датасетов"
   ]
  },
  {
   "cell_type": "markdown",
   "id": "14d958f8",
   "metadata": {},
   "source": [
    "Присоединим к выбранным датасетам полученные таблицы"
   ]
  },
  {
   "cell_type": "code",
   "execution_count": 137,
   "id": "3462132a",
   "metadata": {},
   "outputs": [],
   "source": [
    "df_train = df_train.merge(df_tasks_all_group, how='left', on='id')\n",
    "df_test = df_test.merge(df_tasks_all_group, how='left', on='id')\n",
    "df_final_test = df_final_test.merge(df_tasks_all_group, how='left', on='id')"
   ]
  },
  {
   "cell_type": "markdown",
   "id": "05633b76",
   "metadata": {},
   "source": [
    "Проверим отсутствующие значения в датасетах"
   ]
  },
  {
   "cell_type": "code",
   "execution_count": 138,
   "id": "bdca3d2a",
   "metadata": {},
   "outputs": [
    {
     "data": {
      "text/plain": [
       "id                           0\n",
       "type                         0\n",
       "overdue_days_sum             0\n",
       "overdue_days_mean            0\n",
       "overdue_days_median          0\n",
       "                          ... \n",
       "другое                       0\n",
       "ratio_deadline             116\n",
       "ratio_deadline_over_30     122\n",
       "ratio_deadline_up_to_30    129\n",
       "ratio_deadline_up_to_7     129\n",
       "Length: 1138, dtype: int64"
      ]
     },
     "execution_count": 138,
     "metadata": {},
     "output_type": "execute_result"
    }
   ],
   "source": [
    "df_train.isna().sum()"
   ]
  },
  {
   "cell_type": "code",
   "execution_count": 139,
   "id": "54472c61",
   "metadata": {},
   "outputs": [
    {
     "data": {
      "text/plain": [
       "id                          0\n",
       "type                        0\n",
       "overdue_days_sum            0\n",
       "overdue_days_mean           0\n",
       "overdue_days_median         0\n",
       "                           ..\n",
       "другое                      0\n",
       "ratio_deadline             26\n",
       "ratio_deadline_over_30     26\n",
       "ratio_deadline_up_to_30    28\n",
       "ratio_deadline_up_to_7     29\n",
       "Length: 1138, dtype: int64"
      ]
     },
     "execution_count": 139,
     "metadata": {},
     "output_type": "execute_result"
    }
   ],
   "source": [
    "df_test.isna().sum()"
   ]
  },
  {
   "cell_type": "code",
   "execution_count": 140,
   "id": "a8d34cc6",
   "metadata": {},
   "outputs": [
    {
     "data": {
      "text/plain": [
       "id                          0\n",
       "type                        0\n",
       "overdue_days_sum            0\n",
       "overdue_days_mean           0\n",
       "overdue_days_median         0\n",
       "                           ..\n",
       "другое                      0\n",
       "ratio_deadline             76\n",
       "ratio_deadline_over_30     77\n",
       "ratio_deadline_up_to_30    81\n",
       "ratio_deadline_up_to_7     82\n",
       "Length: 1138, dtype: int64"
      ]
     },
     "execution_count": 140,
     "metadata": {},
     "output_type": "execute_result"
    }
   ],
   "source": [
    "df_final_test.isna().sum()"
   ]
  },
  {
   "cell_type": "markdown",
   "id": "1466ddb4",
   "metadata": {},
   "source": [
    "В датасетах есть пропуски и если в тренировочном и выделеном тестовом такие строки можно удалить, то в финальном тестовом пропуски нужно как-то заполнить. Будем их заполнять нулями."
   ]
  },
  {
   "cell_type": "code",
   "execution_count": 141,
   "id": "a23900f1",
   "metadata": {},
   "outputs": [],
   "source": [
    "df_train = df_train.dropna()\n",
    "df_test = df_test.dropna()\n",
    "df_final_test = df_final_test.fillna(0)"
   ]
  },
  {
   "cell_type": "markdown",
   "id": "8496a55a",
   "metadata": {},
   "source": [
    "Выделим цели обучения для тренировочного и тестого датасета"
   ]
  },
  {
   "cell_type": "code",
   "execution_count": 142,
   "id": "a330761f",
   "metadata": {},
   "outputs": [],
   "source": [
    "y_train = df_train['type']\n",
    "y_test = df_test['type']"
   ]
  },
  {
   "cell_type": "markdown",
   "id": "a67f77ee",
   "metadata": {},
   "source": [
    "Выделим признаки по всем датасетам"
   ]
  },
  {
   "cell_type": "code",
   "execution_count": 143,
   "id": "de0df3a7",
   "metadata": {},
   "outputs": [],
   "source": [
    "X_train = df_train.drop(['id', 'type'], axis=1)\n",
    "X_test = df_test.drop(['id', 'type'], axis=1)\n",
    "X_final_test = df_final_test.drop(['id', 'type'], axis=1)"
   ]
  },
  {
   "cell_type": "code",
   "execution_count": 144,
   "id": "6f35e839",
   "metadata": {},
   "outputs": [],
   "source": [
    "obj_columns = X_train.select_dtypes(exclude=['float', 'int', 'uint']).columns\n",
    "\n",
    "X_train = X_train.drop(obj_columns, axis=1)\n",
    "X_test = X_test.drop(obj_columns, axis=1)\n",
    "X_final_test = X_final_test.drop(obj_columns, axis=1)"
   ]
  },
  {
   "cell_type": "markdown",
   "id": "c2d6dc62",
   "metadata": {},
   "source": [
    "### Обучение модели"
   ]
  },
  {
   "cell_type": "markdown",
   "id": "43316f86",
   "metadata": {},
   "source": [
    "Создадим функцию, которая будет выбирать модели для и гиперпараметры к ним. В качестве моделей будем рассматривать"
   ]
  },
  {
   "cell_type": "code",
   "execution_count": 145,
   "id": "72f6a8aa",
   "metadata": {
    "code_folding": []
   },
   "outputs": [],
   "source": [
    "def get_predicator(X_tr, y_tr):\n",
    "    #SGDClassifier\n",
    "    lin_clf = SGDClassifier(random_state=159, \n",
    "                            penalty='elasticnet', \n",
    "                            l1_ratio=0.5,\n",
    "                           class_weight='balanced')\n",
    "    score = cross_val_score(lin_clf, X_tr, y_tr, cv=3, scoring='recall_macro')\n",
    "    print('Метрика для SGDClassifier с параметрами по умолчанию', score)\n",
    "    \n",
    "    param = {'alpha': np.arange(0.5, 10, 0.5),\n",
    "             'l1_ratio': np.arange(0.1, 1.1, 0.1)}\n",
    "    lin_clf = SGDClassifier(random_state=159, \n",
    "                             penalty='elasticnet',\n",
    "                           class_weight='balanced')\n",
    "    lin_grid_clf = GridSearchCV(lin_clf,\n",
    "                                       param,     \n",
    "                                       n_jobs=-1,\n",
    "                                       cv=3,\n",
    "                                       scoring='recall_macro',\n",
    "                                       verbose=False)\n",
    "    lin_grid_clf.fit(X_tr, y_tr)\n",
    "    print('Оптимальные параметры для SGDClassifier', lin_grid_clf.best_params_)\n",
    "    print('Метрика для SGDClassifier с оптимальными параметрами', lin_grid_clf.best_score_)\n",
    "    print('')\n",
    "    \n",
    "    \n",
    "    #RandomForestClassifier\n",
    "    rnd_clf = RandomForestClassifier(random_state=159,\n",
    "                           class_weight='balanced', )\n",
    "    score = cross_val_score(rnd_clf, X_tr, y_tr, cv=3, scoring='recall_macro')\n",
    "    print('Метрика для RandomForestClassifier с параметрами по умолчанию', score)\n",
    "   \n",
    "    param = {'max_depth': range(1, 101, 10), \n",
    "             'n_estimators': range(20, 1001, 20)}\n",
    "    rnd_clf = RandomForestClassifier(random_state=159,\n",
    "                           class_weight='balanced')\n",
    "    rnd_grid_clf = GridSearchCV(rnd_clf,\n",
    "                           param,\n",
    "                           n_jobs=-1,\n",
    "                           cv=3,\n",
    "                           scoring='recall_macro',\n",
    "                           verbose=False)\n",
    "    rnd_grid_clf.fit(X_tr, y_tr)\n",
    "    print('Оптимальные параметры для RandomForestClassifier', rnd_grid_clf.best_params_)\n",
    "    print('Метрика для RandomForestClassifier с оптимальными параметрами', rnd_grid_clf.best_score_)\n",
    "    print('')\n",
    "    \n",
    "    \n",
    "    #ExtraTreesClassifier\n",
    "    extr_clf = ExtraTreesClassifier(random_state=159,\n",
    "                           class_weight='balanced')\n",
    "    score = cross_val_score(extr_clf, X_tr, y_tr, cv=3, scoring='recall_macro')\n",
    "    print('Метрика для ExtraTreesClassifier с параметрами по умолчанию', score)\n",
    "    \n",
    "    param = {'max_depth': range(1, 101, 10), \n",
    "             'n_estimators': range(20, 1001, 20)}\n",
    "    ext_clf = ExtraTreesClassifier(random_state=159,\n",
    "                           class_weight='balanced')\n",
    "    ext_grid_clf = GridSearchCV(ext_clf,\n",
    "                           param,\n",
    "                           n_jobs=-1,\n",
    "                           cv=3,\n",
    "                           scoring='recall_macro',\n",
    "                           verbose=False)\n",
    "    ext_grid_clf.fit(X_tr, y_tr)\n",
    "    print('Оптимальные параметры для ExtraTreesClassifier', ext_grid_clf.best_params_)\n",
    "    print('Метрика для ExtraTreesClassifier с оптимальными параметрами', ext_grid_clf.best_score_)\n",
    "    print('')\n",
    "    \n",
    "    \n",
    "    #SVC\n",
    "    svm_clf = SVC(random_state=159, \n",
    "                  probability=True,\n",
    "                  class_weight='balanced')\n",
    "    score = cross_val_score(svm_clf, X_tr, y_tr, cv=3, scoring='recall_macro')\n",
    "    print('Метрика для SVC с параметрами по умолчанию', score)\n",
    "    \n",
    "    param = {'C': np.arange(0.5, 100, 0.5)}\n",
    "    svm_clf = SVC(random_state=159, \n",
    "                  probability=True,\n",
    "                  class_weight='balanced')\n",
    "    svm_grid_clf = GridSearchCV(svm_clf,\n",
    "                           param,\n",
    "                           n_jobs=-1,\n",
    "                           cv=3,\n",
    "                           scoring='recall_macro',\n",
    "                           verbose=False)\n",
    "    svm_grid_clf.fit(X_tr, y_tr)\n",
    "    print('Оптимальные параметры для SVC', svm_grid_clf.best_params_)\n",
    "    print('Метрика для SVC с оптимальными параметрами', svm_grid_clf.best_score_)\n",
    "    print('')\n",
    "    \n",
    "    \n",
    "    #CatBoostClassifier\n",
    "    cat_clf = CatBoostClassifier(random_state=159,\n",
    "                            verbose=False)\n",
    "    score = cross_val_score(cat_clf, X_tr, y_tr, cv=3, scoring='recall_macro')\n",
    "    print('Метрика для CatBoostClassifier с параметрами по умолчанию', score)\n",
    "    \n",
    "    cat_param = {'iterations': range(20, 1020, 20)}\n",
    "    cat_clf = CatBoostClassifier(random_state=159,\n",
    "                                verbose=False)\n",
    "    cat_grid_clf = GridSearchCV(cat_clf,\n",
    "                           cat_param,\n",
    "                           cv=3,\n",
    "                           scoring='recall_macro',\n",
    "                           n_jobs=-1,\n",
    "                           verbose=False)\n",
    "    cat_grid_clf.fit(X_tr, y_tr)\n",
    "    print('Оптимальные параметры для CatBoostClassifier', cat_grid_clf.best_params_)\n",
    "    print('Метрика для CatBoostClassifier с оптимальными параметрами', cat_grid_clf.best_score_)\n",
    "    print('')\n",
    "    \n",
    "    \n",
    "    #VotingClassifier\n",
    "    estimators = [('rnd', rnd_grid_clf.best_estimator_), \n",
    "                  ('extr', ext_grid_clf.best_estimator_), \n",
    "                  ('svm', svm_grid_clf.best_estimator_),\n",
    "                  ('cat', cat_grid_clf.best_estimator_)]\n",
    "    voting_clf = VotingClassifier(estimators=estimators,\n",
    "                                         voting='soft')\n",
    "\n",
    "    score = cross_val_score(voting_clf, X_tr, y_tr, cv=3, scoring='recall_macro')\n",
    "    print('Метрика для VotingClassifier со всеми моделями', score)\n",
    "    \n",
    "    for i in range(len(estimators)):\n",
    "        new_estimators = estimators[:i] + estimators[i+1:]\n",
    "        voting_clf = VotingClassifier(estimators=new_estimators,\n",
    "                                         voting='soft')\n",
    "        score = cross_val_score(voting_clf, X_tr, y_tr, cv=3, scoring='recall_macro')\n",
    "        print(f'Метрика для VotingClassifier без {estimators[i][0]}', score)"
   ]
  },
  {
   "cell_type": "markdown",
   "id": "6eb95e63",
   "metadata": {},
   "source": [
    "Смасштабируем признаки, поскольку ряд рассматриваемых моделей чувствиетльны к масштабу"
   ]
  },
  {
   "cell_type": "code",
   "execution_count": 146,
   "id": "3a2e569a",
   "metadata": {},
   "outputs": [],
   "source": [
    "scaler = StandardScaler()\n",
    "X_train = scaler.fit_transform(X_train)\n",
    "X_test = scaler.transform(X_test)"
   ]
  },
  {
   "cell_type": "code",
   "execution_count": 149,
   "id": "009155da",
   "metadata": {
    "scrolled": true
   },
   "outputs": [
    {
     "name": "stdout",
     "output_type": "stream",
     "text": [
      "Метрика для SGDClassifier с параметрами по умолчанию [0.26370968 0.4015625  0.32445276]\n",
      "Оптимальные параметры для SGDClassifier {'alpha': 0.5, 'l1_ratio': 0.1}\n",
      "Метрика для SGDClassifier с оптимальными параметрами 0.34124663978494624\n",
      "\n",
      "Метрика для RandomForestClassifier с параметрами по умолчанию [0.32165899 0.296875   0.27433756]\n",
      "Оптимальные параметры для RandomForestClassifier {'max_depth': 1, 'n_estimators': 200}\n",
      "Метрика для RandomForestClassifier с оптимальными параметрами 0.3540082565284178\n",
      "\n",
      "Метрика для ExtraTreesClassifier с параметрами по умолчанию [0.31359447 0.3390625  0.31105991]\n",
      "Оптимальные параметры для ExtraTreesClassifier {'max_depth': 11, 'n_estimators': 300}\n",
      "Метрика для ExtraTreesClassifier с оптимальными параметрами 0.3434691820276498\n",
      "\n",
      "Метрика для SVC с параметрами по умолчанию [0.4358775  0.43125    0.32730415]\n",
      "Оптимальные параметры для SVC {'C': 0.5}\n",
      "Метрика для SVC с оптимальными параметрами 0.43886808755760365\n",
      "\n",
      "Метрика для CatBoostClassifier с параметрами по умолчанию [0.30380184 0.296875   0.26008065]\n",
      "Оптимальные параметры для CatBoostClassifier {'iterations': 920}\n",
      "Метрика для CatBoostClassifier с оптимальными параметрами 0.3115855414746544\n",
      "\n",
      "Метрика для VotingClassifier со всеми моделями [0.25907258 0.31026786 0.27880184]\n",
      "Метрика для VotingClassifier без rnd [0.25100806 0.31026786 0.27880184]\n",
      "Метрика для VotingClassifier без extr [0.25100806 0.29464286 0.27520161]\n",
      "Метрика для VotingClassifier без svm [0.30380184 0.3296875  0.28153802]\n",
      "Метрика для VotingClassifier без cat [0.25720046 0.27678571 0.28052995]\n"
     ]
    }
   ],
   "source": [
    "get_predicator(X_train, y_train)"
   ]
  },
  {
   "cell_type": "markdown",
   "id": "f1cab48f",
   "metadata": {},
   "source": [
    "Подберём гиперпараметры для лучшей модели на более мелкой сетке"
   ]
  },
  {
   "cell_type": "code",
   "execution_count": 151,
   "id": "390882a7",
   "metadata": {},
   "outputs": [
    {
     "name": "stdout",
     "output_type": "stream",
     "text": [
      "Оптимальные параметры для SVC {'C': 0.46}\n",
      "Метрика для SVC с оптимальными параметрами 0.44881912442396316\n"
     ]
    }
   ],
   "source": [
    "param = {'C': np.arange(0.01, 1, 0.01)}\n",
    "svm_clf = SVC(random_state=159, \n",
    "              probability=True,\n",
    "              class_weight='balanced')\n",
    "svm_grid_clf = GridSearchCV(svm_clf,\n",
    "                       param,\n",
    "                       n_jobs=-1,\n",
    "                       cv=3,\n",
    "                       scoring='recall_macro',\n",
    "                       verbose=False)\n",
    "svm_grid_clf.fit(X_train, y_train)\n",
    "print('Оптимальные параметры для SVC', svm_grid_clf.best_params_)\n",
    "print('Метрика для SVC с оптимальными параметрами', svm_grid_clf.best_score_)"
   ]
  },
  {
   "cell_type": "markdown",
   "id": "d8d65357",
   "metadata": {},
   "source": [
    "Обучим модель с оптимальными гиперпараметрами и проверим на тестовой выборке"
   ]
  },
  {
   "cell_type": "code",
   "execution_count": 152,
   "id": "b3211de8",
   "metadata": {},
   "outputs": [
    {
     "name": "stdout",
     "output_type": "stream",
     "text": [
      "Метрика для SVC с оптимальными параметрами (на кроссвалидации) [0.47096774 0.40178571 0.47370392]\n",
      "Метрика для SVC с оптимальными параметрами (на тесте) 0.5066425120772947\n"
     ]
    }
   ],
   "source": [
    "svm_clf = SVC(random_state=159, \n",
    "              C=0.46,\n",
    "              probability=True,\n",
    "              class_weight='balanced')\n",
    "score = cross_val_score(svm_clf, X_train, y_train, cv=3, scoring='recall_macro')\n",
    "print('Метрика для SVC с оптимальными параметрами (на кроссвалидации)', score)\n",
    "svm_clf.fit(X_train, y_train)\n",
    "y_pred = svm_clf.predict(X_test)\n",
    "print('Метрика для SVC с оптимальными параметрами (на тесте)', recall_score(y_test, y_pred, average='macro'))"
   ]
  },
  {
   "cell_type": "markdown",
   "id": "7f002f3c",
   "metadata": {},
   "source": [
    "Сетрика на тесте ожидаемо оказалась немного ниже."
   ]
  },
  {
   "cell_type": "markdown",
   "id": "42323006",
   "metadata": {},
   "source": [
    "### Финальное обучение модели и предсказание результатов"
   ]
  },
  {
   "cell_type": "markdown",
   "id": "511b63e2",
   "metadata": {},
   "source": [
    "Заново откроем тренировочный файл"
   ]
  },
  {
   "cell_type": "code",
   "execution_count": 153,
   "id": "ff82c86e",
   "metadata": {},
   "outputs": [],
   "source": [
    "df_data = pd.read_csv('train_dataset_train.csv')\n",
    "df_train = df_data.merge(df_tasks_all_group, how='left', on='id')\n",
    "df_train.isna().sum()\n",
    "df_train = df_train.dropna()\n",
    "\n",
    "y_train = df_train['type']\n",
    "X_train = df_train.drop(['id', 'type'], axis=1)\n",
    "obj_columns = X_train.select_dtypes(exclude=['float', 'int', 'uint']).columns\n",
    "X_train = X_train.drop(obj_columns, axis=1)"
   ]
  },
  {
   "cell_type": "code",
   "execution_count": 154,
   "id": "48be4cce",
   "metadata": {},
   "outputs": [],
   "source": [
    "scaler = StandardScaler()\n",
    "X_train = scaler.fit_transform(X_train)\n",
    "X_final_test = scaler.transform(X_final_test)"
   ]
  },
  {
   "cell_type": "code",
   "execution_count": 155,
   "id": "093330e9",
   "metadata": {},
   "outputs": [],
   "source": [
    "df_final_test =  pd.read_csv('test_dataset_test.csv')"
   ]
  },
  {
   "cell_type": "code",
   "execution_count": 156,
   "id": "e47dd7f7",
   "metadata": {},
   "outputs": [],
   "source": [
    "svm_clf = SVC(random_state=159, \n",
    "              C=0.41,\n",
    "              probability=True,\n",
    "              class_weight='balanced')\n",
    "svm_clf.fit(X_train, y_train)\n",
    "df_final_test['type'] = svm_clf.predict(X_final_test)"
   ]
  },
  {
   "cell_type": "code",
   "execution_count": 157,
   "id": "5753f063",
   "metadata": {},
   "outputs": [],
   "source": [
    "df_final_test.to_csv('chemp_RS.csv', index=False)"
   ]
  },
  {
   "cell_type": "code",
   "execution_count": 158,
   "id": "8779ab66",
   "metadata": {},
   "outputs": [
    {
     "data": {
      "text/plain": [
       "2    118\n",
       "1     57\n",
       "0     49\n",
       "3     38\n",
       "Name: type, dtype: int64"
      ]
     },
     "execution_count": 158,
     "metadata": {},
     "output_type": "execute_result"
    }
   ],
   "source": [
    "df_final_test['type'].value_counts()"
   ]
  },
  {
   "cell_type": "code",
   "execution_count": null,
   "id": "3e5b06bc",
   "metadata": {},
   "outputs": [],
   "source": []
  }
 ],
 "metadata": {
  "kernelspec": {
   "display_name": "Python 3 (ipykernel)",
   "language": "python",
   "name": "python3"
  },
  "language_info": {
   "codemirror_mode": {
    "name": "ipython",
    "version": 3
   },
   "file_extension": ".py",
   "mimetype": "text/x-python",
   "name": "python",
   "nbconvert_exporter": "python",
   "pygments_lexer": "ipython3",
   "version": "3.10.4"
  },
  "toc": {
   "base_numbering": 1,
   "nav_menu": {},
   "number_sections": true,
   "sideBar": true,
   "skip_h1_title": true,
   "title_cell": "Table of Contents",
   "title_sidebar": "Contents",
   "toc_cell": false,
   "toc_position": {
    "height": "calc(100% - 180px)",
    "left": "10px",
    "top": "150px",
    "width": "349.02px"
   },
   "toc_section_display": true,
   "toc_window_display": true
  }
 },
 "nbformat": 4,
 "nbformat_minor": 5
}
